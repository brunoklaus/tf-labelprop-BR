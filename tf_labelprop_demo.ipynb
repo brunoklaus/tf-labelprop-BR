{
  "nbformat": 4,
  "nbformat_minor": 0,
  "metadata": {
    "colab": {
      "name": "tf_labelprop_demo.ipynb",
      "provenance": [],
      "collapsed_sections": [],
      "authorship_tag": "ABX9TyPXf6cu5p8Oh4vdq0RIHuRD",
      "include_colab_link": true
    },
    "kernelspec": {
      "name": "python3",
      "display_name": "Python 3"
    }
  },
  "cells": [
    {
      "cell_type": "markdown",
      "metadata": {
        "id": "view-in-github",
        "colab_type": "text"
      },
      "source": [
        "<a href=\"https://colab.research.google.com/github/brunoklaus/tf-labelprop-BR/blob/master/tf_labelprop_demo.ipynb\" target=\"_parent\"><img src=\"https://colab.research.google.com/assets/colab-badge.svg\" alt=\"Open In Colab\"/></a>"
      ]
    },
    {
      "cell_type": "markdown",
      "metadata": {
        "id": "WcatMF_UyQti"
      },
      "source": [
        "# **This Colab requires GPU usage to work. Please Select Runtime>Change Runtime Type and make sure it is running on a GPU.**"
      ]
    },
    {
      "cell_type": "markdown",
      "metadata": {
        "id": "OqIHzNRquLc2"
      },
      "source": [
        "#**Download Github Repo**\n",
        "\n",
        "---\n",
        "\n"
      ]
    },
    {
      "cell_type": "code",
      "metadata": {
        "colab": {
          "base_uri": "https://localhost:8080/"
        },
        "id": "LSLhE7lhB8mq",
        "outputId": "8900032b-5892-406a-fac6-1323a4d948da"
      },
      "source": [
        "import shutil\n",
        "import os\n",
        "if os.path.isdir('/content/tf_labelprop'):\n",
        "  print(\"Pulling\")\n",
        "  %cd /content/tf_labelprop\n",
        "  !git pull origin\n",
        "  %cd /content/tf_labelprop/src/\n",
        "  import sys\n",
        "  sys.path.append('/usr/local/lib/python3.7/site-packages')\n",
        "  sys.path.append('content/tf_labelprop/src')\n",
        "else:\n",
        "  !git clone https://github.com/brunoklaus/tf-labelprop-BR tf_labelprop\n",
        "  !git init -b main\n",
        "  !git remote add origin https://github.com/brunoklaus/tf-labelprop-BR\n"
      ],
      "execution_count": null,
      "outputs": [
        {
          "output_type": "stream",
          "text": [
            "Pulling\n",
            "/content/tf_labelprop\n",
            "Already up to date.\n",
            "/content/tf_labelprop/src\n"
          ],
          "name": "stdout"
        }
      ]
    },
    {
      "cell_type": "markdown",
      "metadata": {
        "id": "VcmajSw2uUtZ"
      },
      "source": [
        "# **Download dependencies.** \n",
        "#*May take a while.* You only need to run this the first time or if you factory reset runtime. \n",
        "\n",
        "This project has quite a few dependencies, including (but not limited to):\n",
        "\n",
        "*   Conda (needed to install faiss-gpu)\n",
        "\n",
        "*    Tensorflow 2.x (already included in Google Colab)\n",
        "\n",
        "*    plotly/chart_studio + orca (to make graph visualizations)\n",
        "\n",
        "*    LaTeX (to render results), including type1em/type1ec\n",
        "\n",
        "\n",
        "\n"
      ]
    },
    {
      "cell_type": "code",
      "metadata": {
        "colab": {
          "base_uri": "https://localhost:8080/"
        },
        "id": "Q1c9XjBsVt_v",
        "cellView": "form",
        "outputId": "ba5cac19-14f0-4b53-f094-ecf89bb358ba"
      },
      "source": [
        "#@title Downloading dependencies\n",
        "!echo $PYTHONPATH\n",
        "%env PYTHONPATH=\n",
        "#INSTALL CONDA\n",
        "! wget https://repo.anaconda.com/miniconda/Miniconda3-py37_4.8.2-Linux-x86_64.sh\n",
        "! chmod +x Miniconda3-py37_4.8.2-Linux-x86_64.sh\n",
        "! bash ./Miniconda3-py37_4.8.2-Linux-x86_64.sh -b -f -p /usr/local\n",
        "\n",
        "#INSTALL FAISS\n",
        "!conda install faiss-gpu  cudatoolkit=10.0  -c pytorch -y # For CUDA10 \n",
        "!apt-get -qq install -y libomp-dev\n",
        "\n",
        "#INSTALL LaTeX\n",
        "!apt install texlive-fonts-recommended texlive-fonts-extra cm-super dvipng\n",
        "\n",
        "\n",
        "!pip install quadprog==0.1.6\n",
        "!pip install matplotlib==3.0.3\n",
        "!pip install scipy==1.3.1\n",
        "!pip install  docutils==0.14\n",
        "!pip install pandas==0.23.4\n",
        "!pip install plotly==3.4.2\n",
        "!pip install seaborn==0.9.0\n",
        "!pip install numpy==1.17.1\n",
        "!pip install MulticoreTSNE==0.1\n",
        "!pip install progressbar33==2.4\n",
        "!pip install python_igraph==0.8.2\n",
        "!pip install reportlab==3.5.50\n",
        "!pip install scikit_learn==0.23.2\n",
        "!pip install sslbookdata\n",
        "!pip install plotly==3.4.2\n",
        "!pip install chart-studio\n",
        "\n",
        "import sys\n",
        "sys.path.append('/content/tf_labelprop/src')\n",
        "sys.path.append('/usr/local/lib/python3.7/site-packages')\n",
        "\n"
      ],
      "execution_count": null,
      "outputs": [
        {
          "output_type": "stream",
          "text": [
            "/env/python\n",
            "env: PYTHONPATH=\n",
            "--2021-03-13 18:38:04--  https://repo.anaconda.com/miniconda/Miniconda3-py37_4.8.2-Linux-x86_64.sh\n",
            "Resolving repo.anaconda.com (repo.anaconda.com)... 104.16.131.3, 104.16.130.3, 2606:4700::6810:8303, ...\n",
            "Connecting to repo.anaconda.com (repo.anaconda.com)|104.16.131.3|:443... connected.\n",
            "HTTP request sent, awaiting response... 200 OK\n",
            "Length: 85055499 (81M) [application/x-sh]\n",
            "Saving to: ‘Miniconda3-py37_4.8.2-Linux-x86_64.sh’\n",
            "\n",
            "Miniconda3-py37_4.8 100%[===================>]  81.12M   105MB/s    in 0.8s    \n",
            "\n",
            "2021-03-13 18:38:05 (105 MB/s) - ‘Miniconda3-py37_4.8.2-Linux-x86_64.sh’ saved [85055499/85055499]\n",
            "\n",
            "PREFIX=/usr/local\n",
            "Unpacking payload ...\n",
            "Traceback (most recent call last):\n",
            "  File \"concurrent/futures/_base.py\", line 598, in result_iterator\n",
            "  File \"concurrent/futures/_base.py\", line 430, in result\n",
            "  File \"threading.py\", line 296, in wait\n",
            "KeyboardInterrupt\n",
            "\n",
            "During handling of the above exception, another exception occurred:\n",
            "\n",
            "Traceback (most recent call last):\n",
            "  File \"entry_point.py\", line 69, in <module>\n",
            "  File \"concurrent/futures/process.py\", line 483, in _chain_from_iterable_of_lists\n",
            "  File \"concurrent/futures/_base.py\", line 603, in result_iterator\n",
            "  File \"concurrent/futures/_base.py\", line 362, in cancel\n",
            "  File \"threading.py\", line 365, in notify_all\n",
            "  File \"threading.py\", line 348, in notify\n",
            "KeyboardInterrupt\n",
            "[35160] Failed to execute script entry_point\n",
            "Collecting package metadata (current_repodata.json): - \b\b\\ \b\b| \b\b/ \b\b- \b\b\\ \b\b| \b\b/ \b\b- \b\b\\ \b\b| \b\b/ \b\b- \b\b\\ \b\b| \b\bdone\n",
            "Solving environment: - \b\b\\ \b\b| \b\b/ \n",
            "The environment is inconsistent, please check the package plan carefully\n",
            "The following packages are causing the inconsistency:\n",
            "\n",
            "  - defaults/linux-64::mkl_random==1.1.1=py37h0573a6f_0\n",
            "  - defaults/linux-64::numpy==1.19.2=py37h54aff64_0\n",
            "  - defaults/linux-64::mkl_fft==1.3.0=py37h54f3939_0\n",
            "  - pytorch/linux-64::faiss-gpu==1.6.3=py37h1a5d453_0\n",
            "\b\b- \b\b\\ \b\b| \b\b/ \b\bdone\n",
            "\n",
            "## Package Plan ##\n",
            "\n",
            "  environment location: /usr/local\n",
            "\n",
            "  added / updated specs:\n",
            "    - cudatoolkit=10.0\n",
            "    - faiss-gpu\n",
            "\n",
            "\n",
            "The following NEW packages will be INSTALLED:\n",
            "\n",
            "  numpy-base         pkgs/main/linux-64::numpy-base-1.19.2-py37hfa32c7d_0\n",
            "\n",
            "\n",
            "Preparing transaction: \\ \b\bdone\n",
            "Verifying transaction: / \b\b- \b\b\\ \b\bdone\n",
            "Executing transaction: / \b\b- \b\b\\ \b\bdone\n",
            "Reading package lists... Done\n",
            "Building dependency tree       \n",
            "Reading state information... Done\n",
            "cm-super is already the newest version (0.3.4-11).\n",
            "dvipng is already the newest version (1.15-1).\n",
            "texlive-fonts-extra is already the newest version (2017.20180305-2).\n",
            "texlive-fonts-recommended is already the newest version (2017.20180305-1).\n",
            "0 upgraded, 0 newly installed, 0 to remove and 29 not upgraded.\n",
            "Collecting quadprog==0.1.6\n",
            "  Using cached quadprog-0.1.6.tar.gz (107 kB)\n",
            "\u001b[31mERROR: Command errored out with exit status 1: python setup.py egg_info Check the logs for full command output.\u001b[0m\n",
            "Requirement already satisfied: matplotlib==3.0.3 in /usr/local/lib/python3.7/site-packages (3.0.3)\n",
            "Requirement already satisfied: pyparsing!=2.0.4,!=2.1.2,!=2.1.6,>=2.0.1 in /usr/local/lib/python3.7/site-packages (from matplotlib==3.0.3) (2.4.7)\n",
            "Requirement already satisfied: cycler>=0.10 in /usr/local/lib/python3.7/site-packages (from matplotlib==3.0.3) (0.10.0)\n",
            "Requirement already satisfied: python-dateutil>=2.1 in /usr/local/lib/python3.7/site-packages (from matplotlib==3.0.3) (2.8.1)\n",
            "Requirement already satisfied: kiwisolver>=1.0.1 in /usr/local/lib/python3.7/site-packages (from matplotlib==3.0.3) (1.3.1)\n",
            "Requirement already satisfied: numpy>=1.10.0 in /usr/local/lib/python3.7/site-packages (from matplotlib==3.0.3) (1.19.2)\n",
            "Requirement already satisfied: six in /usr/local/lib/python3.7/site-packages (from cycler>=0.10->matplotlib==3.0.3) (1.14.0)\n",
            "Requirement already satisfied: scipy==1.3.1 in /usr/local/lib/python3.7/site-packages (1.3.1)\n",
            "Requirement already satisfied: numpy>=1.13.3 in /usr/local/lib/python3.7/site-packages (from scipy==1.3.1) (1.19.2)\n",
            "Requirement already satisfied: docutils==0.14 in /usr/local/lib/python3.7/site-packages (0.14)\n",
            "Requirement already satisfied: pandas==0.23.4 in /usr/local/lib/python3.7/site-packages (0.23.4)\n",
            "Requirement already satisfied: python-dateutil>=2.5.0 in /usr/local/lib/python3.7/site-packages (from pandas==0.23.4) (2.8.1)\n",
            "Requirement already satisfied: pytz>=2011k in /usr/local/lib/python3.7/site-packages (from pandas==0.23.4) (2021.1)\n",
            "Requirement already satisfied: numpy>=1.9.0 in /usr/local/lib/python3.7/site-packages (from pandas==0.23.4) (1.19.2)\n",
            "Requirement already satisfied: six>=1.5 in /usr/local/lib/python3.7/site-packages (from python-dateutil>=2.5.0->pandas==0.23.4) (1.14.0)\n",
            "Requirement already satisfied: plotly==3.4.2 in /usr/local/lib/python3.7/site-packages (3.4.2)\n",
            "Requirement already satisfied: decorator>=4.0.6 in /usr/local/lib/python3.7/site-packages (from plotly==3.4.2) (4.4.2)\n",
            "Requirement already satisfied: pytz in /usr/local/lib/python3.7/site-packages (from plotly==3.4.2) (2021.1)\n",
            "Requirement already satisfied: retrying>=1.3.3 in /usr/local/lib/python3.7/site-packages (from plotly==3.4.2) (1.3.3)\n",
            "Requirement already satisfied: nbformat>=4.2 in /usr/local/lib/python3.7/site-packages (from plotly==3.4.2) (5.1.2)\n",
            "Requirement already satisfied: six in /usr/local/lib/python3.7/site-packages (from plotly==3.4.2) (1.14.0)\n",
            "Requirement already satisfied: requests in /usr/local/lib/python3.7/site-packages (from plotly==3.4.2) (2.22.0)\n",
            "Requirement already satisfied: traitlets>=4.1 in /usr/local/lib/python3.7/site-packages (from nbformat>=4.2->plotly==3.4.2) (5.0.5)\n",
            "Requirement already satisfied: ipython-genutils in /usr/local/lib/python3.7/site-packages (from nbformat>=4.2->plotly==3.4.2) (0.2.0)\n",
            "Requirement already satisfied: jupyter-core in /usr/local/lib/python3.7/site-packages (from nbformat>=4.2->plotly==3.4.2) (4.7.1)\n",
            "Requirement already satisfied: jsonschema!=2.5.0,>=2.4 in /usr/local/lib/python3.7/site-packages (from nbformat>=4.2->plotly==3.4.2) (3.2.0)\n",
            "Requirement already satisfied: urllib3!=1.25.0,!=1.25.1,<1.26,>=1.21.1 in /usr/local/lib/python3.7/site-packages (from requests->plotly==3.4.2) (1.25.8)\n",
            "Requirement already satisfied: chardet<3.1.0,>=3.0.2 in /usr/local/lib/python3.7/site-packages (from requests->plotly==3.4.2) (3.0.4)\n",
            "Requirement already satisfied: idna<2.9,>=2.5 in /usr/local/lib/python3.7/site-packages (from requests->plotly==3.4.2) (2.8)\n",
            "Requirement already satisfied: certifi>=2017.4.17 in /usr/local/lib/python3.7/site-packages (from requests->plotly==3.4.2) (2020.12.5)\n",
            "Requirement already satisfied: pyrsistent>=0.14.0 in /usr/local/lib/python3.7/site-packages (from jsonschema!=2.5.0,>=2.4->nbformat>=4.2->plotly==3.4.2) (0.17.3)\n",
            "Requirement already satisfied: importlib-metadata; python_version < \"3.8\" in /usr/local/lib/python3.7/site-packages (from jsonschema!=2.5.0,>=2.4->nbformat>=4.2->plotly==3.4.2) (3.7.2)\n",
            "Requirement already satisfied: setuptools in /usr/local/lib/python3.7/site-packages (from jsonschema!=2.5.0,>=2.4->nbformat>=4.2->plotly==3.4.2) (45.2.0.post20200210)\n",
            "Requirement already satisfied: attrs>=17.4.0 in /usr/local/lib/python3.7/site-packages (from jsonschema!=2.5.0,>=2.4->nbformat>=4.2->plotly==3.4.2) (20.3.0)\n",
            "Requirement already satisfied: zipp>=0.5 in /usr/local/lib/python3.7/site-packages (from importlib-metadata; python_version < \"3.8\"->jsonschema!=2.5.0,>=2.4->nbformat>=4.2->plotly==3.4.2) (3.4.1)\n",
            "Requirement already satisfied: typing-extensions>=3.6.4; python_version < \"3.8\" in /usr/local/lib/python3.7/site-packages (from importlib-metadata; python_version < \"3.8\"->jsonschema!=2.5.0,>=2.4->nbformat>=4.2->plotly==3.4.2) (3.7.4.3)\n",
            "Requirement already satisfied: seaborn==0.9.0 in /usr/local/lib/python3.7/site-packages (0.9.0)\n",
            "Requirement already satisfied: pandas>=0.15.2 in /usr/local/lib/python3.7/site-packages (from seaborn==0.9.0) (0.23.4)\n",
            "Requirement already satisfied: scipy>=0.14.0 in /usr/local/lib/python3.7/site-packages (from seaborn==0.9.0) (1.3.1)\n",
            "Requirement already satisfied: matplotlib>=1.4.3 in /usr/local/lib/python3.7/site-packages (from seaborn==0.9.0) (3.0.3)\n",
            "Requirement already satisfied: numpy>=1.9.3 in /usr/local/lib/python3.7/site-packages (from seaborn==0.9.0) (1.19.2)\n",
            "Requirement already satisfied: python-dateutil>=2.5.0 in /usr/local/lib/python3.7/site-packages (from pandas>=0.15.2->seaborn==0.9.0) (2.8.1)\n",
            "Requirement already satisfied: pytz>=2011k in /usr/local/lib/python3.7/site-packages (from pandas>=0.15.2->seaborn==0.9.0) (2021.1)\n",
            "Requirement already satisfied: kiwisolver>=1.0.1 in /usr/local/lib/python3.7/site-packages (from matplotlib>=1.4.3->seaborn==0.9.0) (1.3.1)\n",
            "Requirement already satisfied: cycler>=0.10 in /usr/local/lib/python3.7/site-packages (from matplotlib>=1.4.3->seaborn==0.9.0) (0.10.0)\n",
            "Requirement already satisfied: pyparsing!=2.0.4,!=2.1.2,!=2.1.6,>=2.0.1 in /usr/local/lib/python3.7/site-packages (from matplotlib>=1.4.3->seaborn==0.9.0) (2.4.7)\n",
            "Requirement already satisfied: six>=1.5 in /usr/local/lib/python3.7/site-packages (from python-dateutil>=2.5.0->pandas>=0.15.2->seaborn==0.9.0) (1.14.0)\n",
            "Collecting numpy==1.17.1\n",
            "  Using cached numpy-1.17.1-cp37-cp37m-manylinux1_x86_64.whl (20.3 MB)\n",
            "Installing collected packages: numpy\n",
            "  Attempting uninstall: numpy\n",
            "    Found existing installation: numpy 1.19.2\n",
            "    Uninstalling numpy-1.19.2:\n",
            "      Successfully uninstalled numpy-1.19.2\n",
            "Successfully installed numpy-1.17.1\n",
            "Requirement already satisfied: MulticoreTSNE==0.1 in /usr/local/lib/python3.7/site-packages (0.1)\n",
            "Requirement already satisfied: numpy in /usr/local/lib/python3.7/site-packages (from MulticoreTSNE==0.1) (1.17.1)\n",
            "Requirement already satisfied: cffi in /usr/local/lib/python3.7/site-packages (from MulticoreTSNE==0.1) (1.14.0)\n",
            "Requirement already satisfied: pycparser in /usr/local/lib/python3.7/site-packages (from cffi->MulticoreTSNE==0.1) (2.19)\n",
            "Requirement already satisfied: progressbar33==2.4 in /usr/local/lib/python3.7/site-packages (2.4)\n",
            "Requirement already satisfied: python_igraph==0.8.2 in /usr/local/lib/python3.7/site-packages (0.8.2)\n",
            "Requirement already satisfied: texttable>=1.6.2 in /usr/local/lib/python3.7/site-packages (from python_igraph==0.8.2) (1.6.3)\n",
            "Requirement already satisfied: reportlab==3.5.50 in /usr/local/lib/python3.7/site-packages (3.5.50)\n",
            "Requirement already satisfied: pillow>=4.0.0 in /usr/local/lib/python3.7/site-packages (from reportlab==3.5.50) (8.1.2)\n",
            "Requirement already satisfied: scikit_learn==0.23.2 in /usr/local/lib/python3.7/site-packages (0.23.2)\n",
            "Requirement already satisfied: threadpoolctl>=2.0.0 in /usr/local/lib/python3.7/site-packages (from scikit_learn==0.23.2) (2.1.0)\n",
            "Requirement already satisfied: numpy>=1.13.3 in /usr/local/lib/python3.7/site-packages (from scikit_learn==0.23.2) (1.17.1)\n",
            "Requirement already satisfied: joblib>=0.11 in /usr/local/lib/python3.7/site-packages (from scikit_learn==0.23.2) (1.0.1)\n",
            "Requirement already satisfied: scipy>=0.19.1 in /usr/local/lib/python3.7/site-packages (from scikit_learn==0.23.2) (1.3.1)\n",
            "Requirement already satisfied: sslbookdata in /usr/local/lib/python3.7/site-packages (0.1)\n",
            "Requirement already satisfied: plotly==3.4.2 in /usr/local/lib/python3.7/site-packages (3.4.2)\n",
            "Requirement already satisfied: nbformat>=4.2 in /usr/local/lib/python3.7/site-packages (from plotly==3.4.2) (5.1.2)\n",
            "Requirement already satisfied: retrying>=1.3.3 in /usr/local/lib/python3.7/site-packages (from plotly==3.4.2) (1.3.3)\n",
            "Requirement already satisfied: decorator>=4.0.6 in /usr/local/lib/python3.7/site-packages (from plotly==3.4.2) (4.4.2)\n",
            "Requirement already satisfied: requests in /usr/local/lib/python3.7/site-packages (from plotly==3.4.2) (2.22.0)\n",
            "Requirement already satisfied: six in /usr/local/lib/python3.7/site-packages (from plotly==3.4.2) (1.14.0)\n",
            "Requirement already satisfied: pytz in /usr/local/lib/python3.7/site-packages (from plotly==3.4.2) (2021.1)\n",
            "Requirement already satisfied: jupyter-core in /usr/local/lib/python3.7/site-packages (from nbformat>=4.2->plotly==3.4.2) (4.7.1)\n",
            "Requirement already satisfied: traitlets>=4.1 in /usr/local/lib/python3.7/site-packages (from nbformat>=4.2->plotly==3.4.2) (5.0.5)\n",
            "Requirement already satisfied: ipython-genutils in /usr/local/lib/python3.7/site-packages (from nbformat>=4.2->plotly==3.4.2) (0.2.0)\n",
            "Requirement already satisfied: jsonschema!=2.5.0,>=2.4 in /usr/local/lib/python3.7/site-packages (from nbformat>=4.2->plotly==3.4.2) (3.2.0)\n",
            "Requirement already satisfied: idna<2.9,>=2.5 in /usr/local/lib/python3.7/site-packages (from requests->plotly==3.4.2) (2.8)\n",
            "Requirement already satisfied: certifi>=2017.4.17 in /usr/local/lib/python3.7/site-packages (from requests->plotly==3.4.2) (2020.12.5)\n",
            "Requirement already satisfied: urllib3!=1.25.0,!=1.25.1,<1.26,>=1.21.1 in /usr/local/lib/python3.7/site-packages (from requests->plotly==3.4.2) (1.25.8)\n",
            "Requirement already satisfied: chardet<3.1.0,>=3.0.2 in /usr/local/lib/python3.7/site-packages (from requests->plotly==3.4.2) (3.0.4)\n",
            "Requirement already satisfied: attrs>=17.4.0 in /usr/local/lib/python3.7/site-packages (from jsonschema!=2.5.0,>=2.4->nbformat>=4.2->plotly==3.4.2) (20.3.0)\n",
            "Requirement already satisfied: importlib-metadata; python_version < \"3.8\" in /usr/local/lib/python3.7/site-packages (from jsonschema!=2.5.0,>=2.4->nbformat>=4.2->plotly==3.4.2) (3.7.2)\n",
            "Requirement already satisfied: setuptools in /usr/local/lib/python3.7/site-packages (from jsonschema!=2.5.0,>=2.4->nbformat>=4.2->plotly==3.4.2) (45.2.0.post20200210)\n",
            "Requirement already satisfied: pyrsistent>=0.14.0 in /usr/local/lib/python3.7/site-packages (from jsonschema!=2.5.0,>=2.4->nbformat>=4.2->plotly==3.4.2) (0.17.3)\n",
            "Requirement already satisfied: typing-extensions>=3.6.4; python_version < \"3.8\" in /usr/local/lib/python3.7/site-packages (from importlib-metadata; python_version < \"3.8\"->jsonschema!=2.5.0,>=2.4->nbformat>=4.2->plotly==3.4.2) (3.7.4.3)\n",
            "Requirement already satisfied: zipp>=0.5 in /usr/local/lib/python3.7/site-packages (from importlib-metadata; python_version < \"3.8\"->jsonschema!=2.5.0,>=2.4->nbformat>=4.2->plotly==3.4.2) (3.4.1)\n",
            "Requirement already satisfied: chart-studio in /usr/local/lib/python3.7/site-packages (1.1.0)\n",
            "Requirement already satisfied: six in /usr/local/lib/python3.7/site-packages (from chart-studio) (1.14.0)\n",
            "Requirement already satisfied: retrying>=1.3.3 in /usr/local/lib/python3.7/site-packages (from chart-studio) (1.3.3)\n",
            "Requirement already satisfied: plotly in /usr/local/lib/python3.7/site-packages (from chart-studio) (3.4.2)\n",
            "Requirement already satisfied: requests in /usr/local/lib/python3.7/site-packages (from chart-studio) (2.22.0)\n",
            "Requirement already satisfied: nbformat>=4.2 in /usr/local/lib/python3.7/site-packages (from plotly->chart-studio) (5.1.2)\n",
            "Requirement already satisfied: decorator>=4.0.6 in /usr/local/lib/python3.7/site-packages (from plotly->chart-studio) (4.4.2)\n",
            "Requirement already satisfied: pytz in /usr/local/lib/python3.7/site-packages (from plotly->chart-studio) (2021.1)\n",
            "Requirement already satisfied: urllib3!=1.25.0,!=1.25.1,<1.26,>=1.21.1 in /usr/local/lib/python3.7/site-packages (from requests->chart-studio) (1.25.8)\n",
            "Requirement already satisfied: chardet<3.1.0,>=3.0.2 in /usr/local/lib/python3.7/site-packages (from requests->chart-studio) (3.0.4)\n",
            "Requirement already satisfied: certifi>=2017.4.17 in /usr/local/lib/python3.7/site-packages (from requests->chart-studio) (2020.12.5)\n",
            "Requirement already satisfied: idna<2.9,>=2.5 in /usr/local/lib/python3.7/site-packages (from requests->chart-studio) (2.8)\n",
            "Requirement already satisfied: jupyter-core in /usr/local/lib/python3.7/site-packages (from nbformat>=4.2->plotly->chart-studio) (4.7.1)\n",
            "Requirement already satisfied: ipython-genutils in /usr/local/lib/python3.7/site-packages (from nbformat>=4.2->plotly->chart-studio) (0.2.0)\n",
            "Requirement already satisfied: jsonschema!=2.5.0,>=2.4 in /usr/local/lib/python3.7/site-packages (from nbformat>=4.2->plotly->chart-studio) (3.2.0)\n",
            "Requirement already satisfied: traitlets>=4.1 in /usr/local/lib/python3.7/site-packages (from nbformat>=4.2->plotly->chart-studio) (5.0.5)\n",
            "Requirement already satisfied: importlib-metadata; python_version < \"3.8\" in /usr/local/lib/python3.7/site-packages (from jsonschema!=2.5.0,>=2.4->nbformat>=4.2->plotly->chart-studio) (3.7.2)\n",
            "Requirement already satisfied: attrs>=17.4.0 in /usr/local/lib/python3.7/site-packages (from jsonschema!=2.5.0,>=2.4->nbformat>=4.2->plotly->chart-studio) (20.3.0)\n",
            "Requirement already satisfied: pyrsistent>=0.14.0 in /usr/local/lib/python3.7/site-packages (from jsonschema!=2.5.0,>=2.4->nbformat>=4.2->plotly->chart-studio) (0.17.3)\n",
            "Requirement already satisfied: setuptools in /usr/local/lib/python3.7/site-packages (from jsonschema!=2.5.0,>=2.4->nbformat>=4.2->plotly->chart-studio) (45.2.0.post20200210)\n",
            "Requirement already satisfied: typing-extensions>=3.6.4; python_version < \"3.8\" in /usr/local/lib/python3.7/site-packages (from importlib-metadata; python_version < \"3.8\"->jsonschema!=2.5.0,>=2.4->nbformat>=4.2->plotly->chart-studio) (3.7.4.3)\n",
            "Requirement already satisfied: zipp>=0.5 in /usr/local/lib/python3.7/site-packages (from importlib-metadata; python_version < \"3.8\"->jsonschema!=2.5.0,>=2.4->nbformat>=4.2->plotly->chart-studio) (3.4.1)\n"
          ],
          "name": "stdout"
        }
      ]
    },
    {
      "cell_type": "markdown",
      "metadata": {
        "id": "rElMWJec3VMe"
      },
      "source": [
        "# **Tutorial 1**:Running an Experiment\n",
        "# **Tutorial 1, part 0**: Understanding the Experiment class\n",
        "\n",
        "---\n",
        "An **Experiment** is a way to encapsulate a set of **configurations** that determine the behaviour of each component in our pipeline. These components are:\n",
        "\n",
        "*   General Configuration - ``def generalConfig(self):`` - mostly used to set the seed used everywhere else\n",
        "*   Dataset Fetching / Label Sampling- ``def inputConfig(self):``\n",
        "*   Affinity Matrix (i.e. graph) generation  - ``def affMatConfig(self):``\n",
        "*   Noise generating process  - ``def noiseConfig(self):``\n",
        "*   Filter  - ``def filterConfig(self):`` - Hyperparameters of an (optional) filter that is supposed to correct noisy labels\n",
        "*   Classifier  - ``def algConfig(self):`` - Hyperparameters of the classifier.\n",
        "\n",
        "Any **Experiment** must extend `tf_labelprop.experiment.specification.specification_skeleton.EmptySpecification` and specify all of those functions. Each of these function returns a list of dictionaries, representing *all* possible combinations of parameters.  It must also specify the function ``def algConfig(self):``, returning a string with a unique name for this experiment.\n",
        "\n",
        "To make things easier, we have two tools. The first is what we call an **specification_bit**, which is simply a dictionary mapping keys to a list of possible values. Let us look at two specification bits related to classifiers:\n",
        "\n",
        "```\n",
        "ALGORITHM_GFHF_DEFAULT = {\n",
        "   \"algorithm\" : [tf_labelprop.gssl.classifiers.GFHF]\n",
        "}\n",
        "ALGORITHM_LGC_DEFAULT = {\n",
        "   \"algorithm\" : [tf_labelprop.gssl.classifiers.LGCClassifier],\n",
        "   \"alpha\" : [0.9,0.99,0.1,0.999]  \n",
        "}\n",
        "```\n",
        "\n",
        "We combine them with our second tool, which is the function **allPermutations** found in `tf_labelprop.experiment.specification.specification_bits import allPermutations`.\n",
        "\n",
        "\n",
        "A list of all configurations (restricted to the classifier step, that is) is given as a list of \"all permutations\" of LGC's hyperparameters, concatenated with another list with \"all permutations\" of GFHF's hyperparameters. In other words, we achieve what we want with\n",
        "```\n",
        "from tf_labelprop.experiment.specification.specification_bits import allPermutations as P\n",
        "def algConfig(self):\n",
        "      s = spec.ALGORITHM_LGC_DEFAULT\n",
        "      s1 = spec.ALGORITHM_GFHF_DEFAULT\n",
        "      return P(s) + P(s1) \n",
        "```\n",
        "---\n",
        "You can find a few **specification bits** used during my master's degree in `tf_labelprop.experiment.specification.specification_bits`. Here are a few examples\n",
        "```\n",
        "import tf_labelprop.input.dataset as ds\n",
        "INPUT_CHAPELLE = {\n",
        "        \"dataset\": [ds.ChapelleDataset],\n",
        "        \"benchmark\":[\"digit1\",\"COIL\",\"USPS\",\"BCI\",\"g241c\",\"g241d\"],\n",
        "        \"num_labeled\": [10,100],\n",
        "        \"use_chapelle_splits\":[True]\n",
        "        }\n",
        "```\n",
        "```\n",
        "import tf_labelprop.gssl.classifiers as classif \n",
        "ALGORITHM_GTAM_DEFAULT = {\n",
        "   \"algorithm\" : [classif.GTAMClassifier],\n",
        "   \"weigh_by_degree\":[True,False],\n",
        "   \"mu\":[0.001,0.0101,0.1111,9,99.0]  \n",
        "}\n",
        "```\n",
        "```\n",
        "NOISE_UNIFORM_DET_SOME = {\n",
        "        \"corruption_level\" : [0,0.1,0.2,0.35],\n",
        "        \"type\" : [\"NCAR\"],\n",
        "        \"deterministic\" : [False]\n",
        "        }\n",
        "```\n",
        "\n",
        "```\n",
        "import tf_labelprop.gssl.filters as filt \n",
        "FILTER_LGC_LVO = {\n",
        "        \"filter\": [filt.LGC_LVO_Filter],\n",
        "        \"mu\": [0.1111,99.0,9.0,0.1111],\n",
        "         \"tuning_iter\": [1000],\n",
        "         \"tuning_iter_as_pct\":[False],\n",
        "         \"constantProp\":[False,True],\n",
        "         \"useZ\":[False,True],\n",
        "        \"normalize_rows\":[True,False]\n",
        "        }\n",
        "```\n",
        "---\n",
        "\n"
      ]
    },
    {
      "cell_type": "code",
      "metadata": {
        "id": "oEJRntMZDMo-"
      },
      "source": [
        "#@title Choose a dataset from the SSL Book\n",
        "dataset_name = \"COIL\" #@param [\"COIL\", \"COIL2\", \"digit1\", \"g241c\", \"g241n\", \"USPS\",\"BCI\", \"Text\", \"SccStr\"]\n",
        "\n"
      ],
      "execution_count": null,
      "outputs": []
    },
    {
      "cell_type": "markdown",
      "metadata": {
        "id": "M632edZS3T8A"
      },
      "source": [
        ""
      ]
    },
    {
      "cell_type": "code",
      "metadata": {
        "colab": {
          "base_uri": "https://localhost:8080/"
        },
        "id": "DQEAQt-BIxCx",
        "outputId": "85bb2591-a77e-4db7-e35c-a2e0b1c4bd3d"
      },
      "source": [
        "    from tf_labelprop.logging.logger import _LOG\n",
        "    import logging\n",
        "    _LOG.setLevel(logging.ERROR)\n",
        "    try:\n",
        "      import tf_labelprop.experiment.specification.specification_bits as spec\n",
        "      from tf_labelprop.experiment.specification.specification_bits import allPermutations as P\n",
        "      from tf_labelprop.experiment.specification.exp_chapelle import ExpChapelle\n",
        "      import tf_labelprop.\n",
        "      class ExpChapelleColab(ExpChapelle):\n",
        "          def get_spec_name(self):\n",
        "              return \"Experiment_Chapelle_{}_labels={}_split={}_alg=lgc+gfhf\".format(self.ds,self.num_labeled,self.use_chapelle_splits)\n",
        "          def algConfig(self):\n",
        "              s = spec.ALGORITHM_LGC_DEFAULT\n",
        "              s1 = spec.ALGORITHM_GFHF_DEFAULT\n",
        "              return P(s) + P(s1) \n",
        "          def noiseConfig(self):\n",
        "              s = spec.NOISE_UNIFORM_DET_SOME\n",
        "              return P(s)\n",
        "      for ds in [dataset_name]:\n",
        "          ExpChapelleColab(ds=ds,use_chapelle_splits=True).run_all()\n",
        "    except:\n",
        "      _LOG.setLevel(logging.DEBUG)"
      ],
      "execution_count": null,
      "outputs": [
        {
          "output_type": "stream",
          "text": [
            "\r                                                                               \r\rN/A% (0 of 480) |                        | Elapsed Time: 0:00:00 ETA:  --:--:--"
          ],
          "name": "stderr"
        },
        {
          "output_type": "stream",
          "text": [
            "['', '/content', '/env/python', '/usr/lib/python37.zip', '/usr/lib/python3.7', '/usr/lib/python3.7/lib-dynload', '/usr/local/lib/python3.7/dist-packages', '/usr/lib/python3/dist-packages', '/usr/local/lib/python3.7/dist-packages/IPython/extensions', '/root/.ipython', '/usr/local/lib/python3.7/site-packages', 'content/tf_labelprop/src', '/usr/local/lib/python3.7/site-packages', 'content/tf_labelprop/src', '/usr/local/lib/python3.7/site-packages', 'content/tf_labelprop/src', '/content/tf_labelprop/src', '/usr/local/lib/python3.7/site-packages']\n",
            "(15, 'knn', '__nan', 'constant', False, <class 'tf_labelprop.input.dataset._toy_ds.ChapelleDataset'>, 'COIL', True)\n",
            "(15, 'knn', 'mean', 'gaussian', False, <class 'tf_labelprop.input.dataset._toy_ds.ChapelleDataset'>, 'COIL', True)\n",
            "1\n",
            "2\n",
            "/tmp/Experiment_Chapelle_['COIL']_labels=100_split=True_alg=lgc+gfhf/0\n",
            "/tmp/Experiment_Chapelle_['COIL']_labels=100_split=True_alg=lgc+gfhf/1\n",
            "[5, 6, 7, 8, 9, 15, 16, 17, 18, 19, 25, 26, 27, 28, 29, 35, 36, 37, 38, 39, 45, 46, 47, 48, 49, 55, 56, 57, 58, 59, 65, 66, 67, 68, 69, 75, 76, 77, 78, 79, 85, 86, 87, 88, 89, 95, 96, 97, 98, 99, 105, 106, 107, 108, 109, 115, 116, 117, 118, 119, 125, 126, 127, 128, 129, 135, 136, 137, 138, 139, 145, 146, 147, 148, 149, 155, 156, 157, 158, 159, 165, 166, 167, 168, 169, 175, 176, 177, 178, 179, 185, 186, 187, 188, 189, 195, 196, 197, 198, 199, 205, 206, 207, 208, 209, 215, 216, 217, 218, 219, 225, 226, 227, 228, 229, 235, 236, 237, 238, 239, 245, 246, 247, 248, 249, 255, 256, 257, 258, 259, 265, 266, 267, 268, 269, 275, 276, 277, 278, 279, 285, 286, 287, 288, 289, 295, 296, 297, 298, 299, 305, 306, 307, 308, 309, 315, 316, 317, 318, 319, 325, 326, 327, 328, 329, 335, 336, 337, 338, 339, 345, 346, 347, 348, 349, 355, 356, 357, 358, 359, 365, 366, 367, 368, 369, 375, 376, 377, 378, 379, 385, 386, 387, 388, 389, 395, 396, 397, 398, 399, 405, 406, 407, 408, 409, 415, 416, 417, 418, 419, 425, 426, 427, 428, 429, 435, 436, 437, 438, 439, 445, 446, 447, 448, 449, 455, 456, 457, 458, 459, 465, 466, 467, 468, 469, 475, 476, 477, 478, 479, 0, 1, 2, 3, 4, 10, 11, 12, 13, 14, 20, 21, 22, 23, 24, 30, 31, 32, 33, 34, 40, 41, 42, 43, 44, 50, 51, 52, 53, 54, 60, 61, 62, 63, 64, 70, 71, 72, 73, 74, 80, 81, 82, 83, 84, 90, 91, 92, 93, 94, 100, 101, 102, 103, 104, 110, 111, 112, 113, 114, 120, 121, 122, 123, 124, 130, 131, 132, 133, 134, 140, 141, 142, 143, 144, 150, 151, 152, 153, 154, 160, 161, 162, 163, 164, 170, 171, 172, 173, 174, 180, 181, 182, 183, 184, 190, 191, 192, 193, 194, 200, 201, 202, 203, 204, 210, 211, 212, 213, 214, 220, 221, 222, 223, 224, 230, 231, 232, 233, 234, 240, 241, 242, 243, 244, 250, 251, 252, 253, 254, 260, 261, 262, 263, 264, 270, 271, 272, 273, 274, 280, 281, 282, 283, 284, 290, 291, 292, 293, 294, 300, 301, 302, 303, 304, 310, 311, 312, 313, 314, 320, 321, 322, 323, 324, 330, 331, 332, 333, 334, 340, 341, 342, 343, 344, 350, 351, 352, 353, 354, 360, 361, 362, 363, 364, 370, 371, 372, 373, 374, 380, 381, 382, 383, 384, 390, 391, 392, 393, 394, 400, 401, 402, 403, 404, 410, 411, 412, 413, 414, 420, 421, 422, 423, 424, 430, 431, 432, 433, 434, 440, 441, 442, 443, 444, 450, 451, 452, 453, 454, 460, 461, 462, 463, 464, 470, 471, 472, 473, 474]\n",
            "PROGRESS: 0.0\n",
            "Number of GPUS detected by FAISS: 1\n"
          ],
          "name": "stdout"
        },
        {
          "output_type": "stream",
          "text": [
            "\r                                                                               \r\r  0% (1 of 480) |                        | Elapsed Time: 0:00:01 ETA:   0:13:50"
          ],
          "name": "stderr"
        },
        {
          "output_type": "stream",
          "text": [
            "PROGRESS: 0.0020833333333333333\n"
          ],
          "name": "stdout"
        },
        {
          "output_type": "stream",
          "text": [
            "\r                                                                               \r\r  0% (2 of 480) |                        | Elapsed Time: 0:00:02 ETA:   0:09:49"
          ],
          "name": "stderr"
        },
        {
          "output_type": "stream",
          "text": [
            "PROGRESS: 0.004166666666666667\n"
          ],
          "name": "stdout"
        },
        {
          "output_type": "stream",
          "text": [
            "\r                                                                               \r\r  0% (3 of 480) |                        | Elapsed Time: 0:00:03 ETA:   0:08:26"
          ],
          "name": "stderr"
        },
        {
          "output_type": "stream",
          "text": [
            "PROGRESS: 0.00625\n"
          ],
          "name": "stdout"
        },
        {
          "output_type": "stream",
          "text": [
            "\r                                                                               \r\r  0% (4 of 480) |                        | Elapsed Time: 0:00:03 ETA:   0:05:46"
          ],
          "name": "stderr"
        },
        {
          "output_type": "stream",
          "text": [
            "PROGRESS: 0.008333333333333333\n"
          ],
          "name": "stdout"
        },
        {
          "output_type": "stream",
          "text": [
            "\r                                                                               \r\r  1% (5 of 480) |                        | Elapsed Time: 0:00:04 ETA:   0:05:18"
          ],
          "name": "stderr"
        },
        {
          "output_type": "stream",
          "text": [
            "PROGRESS: 0.010416666666666666\n"
          ],
          "name": "stdout"
        },
        {
          "output_type": "stream",
          "text": [
            "\r                                                                               \r\r  1% (6 of 480) |                        | Elapsed Time: 0:00:05 ETA:   0:05:16"
          ],
          "name": "stderr"
        },
        {
          "output_type": "stream",
          "text": [
            "PROGRESS: 0.0125\n"
          ],
          "name": "stdout"
        },
        {
          "output_type": "stream",
          "text": [
            "\r                                                                               \r\r  1% (7 of 480) |                        | Elapsed Time: 0:00:05 ETA:   0:05:21"
          ],
          "name": "stderr"
        },
        {
          "output_type": "stream",
          "text": [
            "PROGRESS: 0.014583333333333334\n"
          ],
          "name": "stdout"
        },
        {
          "output_type": "stream",
          "text": [
            "\r                                                                               \r\r  1% (8 of 480) |                        | Elapsed Time: 0:00:06 ETA:   0:05:40"
          ],
          "name": "stderr"
        },
        {
          "output_type": "stream",
          "text": [
            "PROGRESS: 0.016666666666666666\n"
          ],
          "name": "stdout"
        },
        {
          "output_type": "stream",
          "text": [
            "\r                                                                               \r\r  1% (9 of 480) |                        | Elapsed Time: 0:00:07 ETA:   0:05:39"
          ],
          "name": "stderr"
        },
        {
          "output_type": "stream",
          "text": [
            "PROGRESS: 0.01875\n"
          ],
          "name": "stdout"
        },
        {
          "output_type": "stream",
          "text": [
            "\r                                                                               \r\r  2% (10 of 480) |                       | Elapsed Time: 0:00:07 ETA:   0:05:17"
          ],
          "name": "stderr"
        },
        {
          "output_type": "stream",
          "text": [
            "PROGRESS: 0.020833333333333332\n"
          ],
          "name": "stdout"
        },
        {
          "output_type": "stream",
          "text": [
            "\r                                                                               \r\r  2% (11 of 480) |                       | Elapsed Time: 0:00:08 ETA:   0:05:18"
          ],
          "name": "stderr"
        },
        {
          "output_type": "stream",
          "text": [
            "PROGRESS: 0.022916666666666665\n"
          ],
          "name": "stdout"
        },
        {
          "output_type": "stream",
          "text": [
            "\r                                                                               \r\r  2% (12 of 480) |                       | Elapsed Time: 0:00:09 ETA:   0:05:13"
          ],
          "name": "stderr"
        },
        {
          "output_type": "stream",
          "text": [
            "PROGRESS: 0.025\n"
          ],
          "name": "stdout"
        },
        {
          "output_type": "stream",
          "text": [
            "\r                                                                               \r\r  2% (13 of 480) |                       | Elapsed Time: 0:00:10 ETA:   0:05:31"
          ],
          "name": "stderr"
        },
        {
          "output_type": "stream",
          "text": [
            "PROGRESS: 0.027083333333333334\n"
          ],
          "name": "stdout"
        },
        {
          "output_type": "stream",
          "text": [
            "\r                                                                               \r\r  2% (14 of 480) |                       | Elapsed Time: 0:00:10 ETA:   0:05:24"
          ],
          "name": "stderr"
        },
        {
          "output_type": "stream",
          "text": [
            "PROGRESS: 0.029166666666666667\n"
          ],
          "name": "stdout"
        },
        {
          "output_type": "stream",
          "text": [
            "\r                                                                               \r\r  3% (15 of 480) |                       | Elapsed Time: 0:00:11 ETA:   0:05:04"
          ],
          "name": "stderr"
        },
        {
          "output_type": "stream",
          "text": [
            "PROGRESS: 0.03125\n"
          ],
          "name": "stdout"
        },
        {
          "output_type": "stream",
          "text": [
            "\r                                                                               \r\r  3% (16 of 480) |                       | Elapsed Time: 0:00:11 ETA:   0:05:03"
          ],
          "name": "stderr"
        },
        {
          "output_type": "stream",
          "text": [
            "PROGRESS: 0.03333333333333333\n"
          ],
          "name": "stdout"
        },
        {
          "output_type": "stream",
          "text": [
            "\r                                                                               \r\r  3% (17 of 480) |                       | Elapsed Time: 0:00:12 ETA:   0:05:04"
          ],
          "name": "stderr"
        },
        {
          "output_type": "stream",
          "text": [
            "PROGRESS: 0.035416666666666666\n"
          ],
          "name": "stdout"
        },
        {
          "output_type": "stream",
          "text": [
            "\r                                                                               \r\r  3% (18 of 480) |                       | Elapsed Time: 0:00:13 ETA:   0:05:26"
          ],
          "name": "stderr"
        },
        {
          "output_type": "stream",
          "text": [
            "PROGRESS: 0.0375\n"
          ],
          "name": "stdout"
        },
        {
          "output_type": "stream",
          "text": [
            "\r                                                                               \r\r  3% (19 of 480) |                       | Elapsed Time: 0:00:14 ETA:   0:05:26"
          ],
          "name": "stderr"
        },
        {
          "output_type": "stream",
          "text": [
            "PROGRESS: 0.03958333333333333\n"
          ],
          "name": "stdout"
        },
        {
          "output_type": "stream",
          "text": [
            "\r                                                                               \r\r  4% (20 of 480) |                       | Elapsed Time: 0:00:14 ETA:   0:05:06"
          ],
          "name": "stderr"
        },
        {
          "output_type": "stream",
          "text": [
            "PROGRESS: 0.041666666666666664\n"
          ],
          "name": "stdout"
        },
        {
          "output_type": "stream",
          "text": [
            "\r                                                                               \r\r  4% (21 of 480) |#                      | Elapsed Time: 0:00:15 ETA:   0:05:04"
          ],
          "name": "stderr"
        },
        {
          "output_type": "stream",
          "text": [
            "PROGRESS: 0.04375\n"
          ],
          "name": "stdout"
        },
        {
          "output_type": "stream",
          "text": [
            "\r                                                                               \r\r  4% (22 of 480) |#                      | Elapsed Time: 0:00:16 ETA:   0:05:02"
          ],
          "name": "stderr"
        },
        {
          "output_type": "stream",
          "text": [
            "PROGRESS: 0.04583333333333333\n"
          ],
          "name": "stdout"
        },
        {
          "output_type": "stream",
          "text": [
            "\r                                                                               \r\r  4% (23 of 480) |#                      | Elapsed Time: 0:00:16 ETA:   0:05:19"
          ],
          "name": "stderr"
        },
        {
          "output_type": "stream",
          "text": [
            "PROGRESS: 0.04791666666666667\n"
          ],
          "name": "stdout"
        },
        {
          "output_type": "stream",
          "text": [
            "\r                                                                               \r\r  5% (24 of 480) |#                      | Elapsed Time: 0:00:17 ETA:   0:05:17"
          ],
          "name": "stderr"
        },
        {
          "output_type": "stream",
          "text": [
            "PROGRESS: 0.05\n"
          ],
          "name": "stdout"
        },
        {
          "output_type": "stream",
          "text": [
            "\r                                                                               \r\r  5% (25 of 480) |#                      | Elapsed Time: 0:00:17 ETA:   0:04:58"
          ],
          "name": "stderr"
        },
        {
          "output_type": "stream",
          "text": [
            "PROGRESS: 0.052083333333333336\n"
          ],
          "name": "stdout"
        },
        {
          "output_type": "stream",
          "text": [
            "\r                                                                               \r\r  5% (26 of 480) |#                      | Elapsed Time: 0:00:18 ETA:   0:05:03"
          ],
          "name": "stderr"
        },
        {
          "output_type": "stream",
          "text": [
            "PROGRESS: 0.05416666666666667\n"
          ],
          "name": "stdout"
        },
        {
          "output_type": "stream",
          "text": [
            "\r                                                                               \r\r  5% (27 of 480) |#                      | Elapsed Time: 0:00:19 ETA:   0:05:01"
          ],
          "name": "stderr"
        },
        {
          "output_type": "stream",
          "text": [
            "PROGRESS: 0.05625\n"
          ],
          "name": "stdout"
        },
        {
          "output_type": "stream",
          "text": [
            "\r                                                                               \r\r  5% (28 of 480) |#                      | Elapsed Time: 0:00:20 ETA:   0:05:22"
          ],
          "name": "stderr"
        },
        {
          "output_type": "stream",
          "text": [
            "PROGRESS: 0.058333333333333334\n"
          ],
          "name": "stdout"
        },
        {
          "output_type": "stream",
          "text": [
            "\r                                                                               \r\r  6% (29 of 480) |#                      | Elapsed Time: 0:00:20 ETA:   0:05:17"
          ],
          "name": "stderr"
        },
        {
          "output_type": "stream",
          "text": [
            "PROGRESS: 0.06041666666666667\n"
          ],
          "name": "stdout"
        },
        {
          "output_type": "stream",
          "text": [
            "\r                                                                               \r\r  6% (30 of 480) |#                      | Elapsed Time: 0:00:21 ETA:   0:04:56"
          ],
          "name": "stderr"
        },
        {
          "output_type": "stream",
          "text": [
            "PROGRESS: 0.0625\n"
          ],
          "name": "stdout"
        },
        {
          "output_type": "stream",
          "text": [
            "\r                                                                               \r\r  6% (31 of 480) |#                      | Elapsed Time: 0:00:22 ETA:   0:04:58"
          ],
          "name": "stderr"
        },
        {
          "output_type": "stream",
          "text": [
            "PROGRESS: 0.06458333333333334\n"
          ],
          "name": "stdout"
        },
        {
          "output_type": "stream",
          "text": [
            "\r                                                                               \r\r  6% (32 of 480) |#                      | Elapsed Time: 0:00:22 ETA:   0:04:56"
          ],
          "name": "stderr"
        },
        {
          "output_type": "stream",
          "text": [
            "PROGRESS: 0.06666666666666667\n"
          ],
          "name": "stdout"
        },
        {
          "output_type": "stream",
          "text": [
            "\r                                                                               \r\r  6% (33 of 480) |#                      | Elapsed Time: 0:00:23 ETA:   0:05:12"
          ],
          "name": "stderr"
        },
        {
          "output_type": "stream",
          "text": [
            "PROGRESS: 0.06875\n"
          ],
          "name": "stdout"
        },
        {
          "output_type": "stream",
          "text": [
            "\r                                                                               \r\r  7% (34 of 480) |#                      | Elapsed Time: 0:00:24 ETA:   0:05:10"
          ],
          "name": "stderr"
        },
        {
          "output_type": "stream",
          "text": [
            "PROGRESS: 0.07083333333333333\n"
          ],
          "name": "stdout"
        },
        {
          "output_type": "stream",
          "text": [
            "\r                                                                               \r\r  7% (35 of 480) |#                      | Elapsed Time: 0:00:24 ETA:   0:04:53"
          ],
          "name": "stderr"
        },
        {
          "output_type": "stream",
          "text": [
            "PROGRESS: 0.07291666666666667\n"
          ],
          "name": "stdout"
        },
        {
          "output_type": "stream",
          "text": [
            "\r                                                                               \r\r  7% (36 of 480) |#                      | Elapsed Time: 0:00:25 ETA:   0:04:53"
          ],
          "name": "stderr"
        },
        {
          "output_type": "stream",
          "text": [
            "PROGRESS: 0.075\n"
          ],
          "name": "stdout"
        },
        {
          "output_type": "stream",
          "text": [
            "\r                                                                               \r\r  7% (37 of 480) |#                      | Elapsed Time: 0:00:26 ETA:   0:04:53"
          ],
          "name": "stderr"
        },
        {
          "output_type": "stream",
          "text": [
            "PROGRESS: 0.07708333333333334\n"
          ],
          "name": "stdout"
        },
        {
          "output_type": "stream",
          "text": [
            "\r                                                                               \r\r  7% (38 of 480) |#                      | Elapsed Time: 0:00:26 ETA:   0:05:10"
          ],
          "name": "stderr"
        },
        {
          "output_type": "stream",
          "text": [
            "PROGRESS: 0.07916666666666666\n"
          ],
          "name": "stdout"
        },
        {
          "output_type": "stream",
          "text": [
            "\r                                                                               \r\r  8% (39 of 480) |#                      | Elapsed Time: 0:00:27 ETA:   0:05:10"
          ],
          "name": "stderr"
        },
        {
          "output_type": "stream",
          "text": [
            "PROGRESS: 0.08125\n"
          ],
          "name": "stdout"
        },
        {
          "output_type": "stream",
          "text": [
            "\r                                                                               \r\r  8% (40 of 480) |#                      | Elapsed Time: 0:00:28 ETA:   0:04:51"
          ],
          "name": "stderr"
        },
        {
          "output_type": "stream",
          "text": [
            "PROGRESS: 0.08333333333333333\n"
          ],
          "name": "stdout"
        },
        {
          "output_type": "stream",
          "text": [
            "/content/tf_labelprop/src/tf_labelprop/gssl/graph/gssl_utils.py:167: RuntimeWarning:\n",
            "\n",
            "invalid value encountered in true_divide\n",
            "\n",
            "  8% (41 of 480) |#                      | Elapsed Time: 0:00:28 ETA:   0:04:50"
          ],
          "name": "stderr"
        },
        {
          "output_type": "stream",
          "text": [
            "PROGRESS: 0.08541666666666667\n"
          ],
          "name": "stdout"
        },
        {
          "output_type": "stream",
          "text": [
            "/content/tf_labelprop/src/tf_labelprop/gssl/graph/gssl_utils.py:167: RuntimeWarning:\n",
            "\n",
            "invalid value encountered in true_divide\n",
            "\n",
            "  8% (42 of 480) |##                     | Elapsed Time: 0:00:29 ETA:   0:04:53"
          ],
          "name": "stderr"
        },
        {
          "output_type": "stream",
          "text": [
            "PROGRESS: 0.0875\n"
          ],
          "name": "stdout"
        },
        {
          "output_type": "stream",
          "text": [
            "/content/tf_labelprop/src/tf_labelprop/gssl/graph/gssl_utils.py:167: RuntimeWarning:\n",
            "\n",
            "invalid value encountered in true_divide\n",
            "\n",
            "  8% (43 of 480) |##                     | Elapsed Time: 0:00:30 ETA:   0:05:14"
          ],
          "name": "stderr"
        },
        {
          "output_type": "stream",
          "text": [
            "PROGRESS: 0.08958333333333333\n"
          ],
          "name": "stdout"
        },
        {
          "output_type": "stream",
          "text": [
            "/content/tf_labelprop/src/tf_labelprop/gssl/graph/gssl_utils.py:167: RuntimeWarning:\n",
            "\n",
            "invalid value encountered in true_divide\n",
            "\n",
            "  9% (44 of 480) |##                     | Elapsed Time: 0:00:30 ETA:   0:05:13"
          ],
          "name": "stderr"
        },
        {
          "output_type": "stream",
          "text": [
            "PROGRESS: 0.09166666666666666\n"
          ],
          "name": "stdout"
        },
        {
          "output_type": "stream",
          "text": [
            "/content/tf_labelprop/src/tf_labelprop/gssl/graph/gssl_utils.py:167: RuntimeWarning:\n",
            "\n",
            "invalid value encountered in true_divide\n",
            "\n",
            "  9% (45 of 480) |##                     | Elapsed Time: 0:00:31 ETA:   0:04:52"
          ],
          "name": "stderr"
        },
        {
          "output_type": "stream",
          "text": [
            "PROGRESS: 0.09375\n"
          ],
          "name": "stdout"
        },
        {
          "output_type": "stream",
          "text": [
            "/content/tf_labelprop/src/tf_labelprop/gssl/graph/gssl_utils.py:167: RuntimeWarning:\n",
            "\n",
            "invalid value encountered in true_divide\n",
            "\n",
            "  9% (46 of 480) |##                     | Elapsed Time: 0:00:32 ETA:   0:04:48"
          ],
          "name": "stderr"
        },
        {
          "output_type": "stream",
          "text": [
            "PROGRESS: 0.09583333333333334\n"
          ],
          "name": "stdout"
        },
        {
          "output_type": "stream",
          "text": [
            "/content/tf_labelprop/src/tf_labelprop/gssl/graph/gssl_utils.py:167: RuntimeWarning:\n",
            "\n",
            "invalid value encountered in true_divide\n",
            "\n",
            "  9% (47 of 480) |##                     | Elapsed Time: 0:00:32 ETA:   0:04:48"
          ],
          "name": "stderr"
        },
        {
          "output_type": "stream",
          "text": [
            "PROGRESS: 0.09791666666666667\n"
          ],
          "name": "stdout"
        },
        {
          "output_type": "stream",
          "text": [
            "/content/tf_labelprop/src/tf_labelprop/gssl/graph/gssl_utils.py:167: RuntimeWarning:\n",
            "\n",
            "invalid value encountered in true_divide\n",
            "\n",
            " 10% (48 of 480) |##                     | Elapsed Time: 0:00:33 ETA:   0:05:07"
          ],
          "name": "stderr"
        },
        {
          "output_type": "stream",
          "text": [
            "PROGRESS: 0.1\n"
          ],
          "name": "stdout"
        },
        {
          "output_type": "stream",
          "text": [
            "/content/tf_labelprop/src/tf_labelprop/gssl/graph/gssl_utils.py:167: RuntimeWarning:\n",
            "\n",
            "invalid value encountered in true_divide\n",
            "\n",
            " 10% (49 of 480) |##                     | Elapsed Time: 0:00:34 ETA:   0:05:08"
          ],
          "name": "stderr"
        },
        {
          "output_type": "stream",
          "text": [
            "PROGRESS: 0.10208333333333333\n"
          ],
          "name": "stdout"
        },
        {
          "output_type": "stream",
          "text": [
            "/content/tf_labelprop/src/tf_labelprop/gssl/graph/gssl_utils.py:167: RuntimeWarning:\n",
            "\n",
            "invalid value encountered in true_divide\n",
            "\n",
            " 10% (50 of 480) |##                     | Elapsed Time: 0:00:34 ETA:   0:04:48"
          ],
          "name": "stderr"
        },
        {
          "output_type": "stream",
          "text": [
            "PROGRESS: 0.10416666666666667\n"
          ],
          "name": "stdout"
        },
        {
          "output_type": "stream",
          "text": [
            "/content/tf_labelprop/src/tf_labelprop/gssl/graph/gssl_utils.py:167: RuntimeWarning:\n",
            "\n",
            "invalid value encountered in true_divide\n",
            "\n",
            " 10% (51 of 480) |##                     | Elapsed Time: 0:00:35 ETA:   0:04:48"
          ],
          "name": "stderr"
        },
        {
          "output_type": "stream",
          "text": [
            "PROGRESS: 0.10625\n"
          ],
          "name": "stdout"
        },
        {
          "output_type": "stream",
          "text": [
            "/content/tf_labelprop/src/tf_labelprop/gssl/graph/gssl_utils.py:167: RuntimeWarning:\n",
            "\n",
            "invalid value encountered in true_divide\n",
            "\n",
            " 10% (52 of 480) |##                     | Elapsed Time: 0:00:36 ETA:   0:04:47"
          ],
          "name": "stderr"
        },
        {
          "output_type": "stream",
          "text": [
            "PROGRESS: 0.10833333333333334\n"
          ],
          "name": "stdout"
        },
        {
          "output_type": "stream",
          "text": [
            "/content/tf_labelprop/src/tf_labelprop/gssl/graph/gssl_utils.py:167: RuntimeWarning:\n",
            "\n",
            "invalid value encountered in true_divide\n",
            "\n",
            " 11% (53 of 480) |##                     | Elapsed Time: 0:00:36 ETA:   0:05:07"
          ],
          "name": "stderr"
        },
        {
          "output_type": "stream",
          "text": [
            "PROGRESS: 0.11041666666666666\n"
          ],
          "name": "stdout"
        },
        {
          "output_type": "stream",
          "text": [
            "/content/tf_labelprop/src/tf_labelprop/gssl/graph/gssl_utils.py:167: RuntimeWarning:\n",
            "\n",
            "invalid value encountered in true_divide\n",
            "\n",
            " 11% (54 of 480) |##                     | Elapsed Time: 0:00:37 ETA:   0:05:04"
          ],
          "name": "stderr"
        },
        {
          "output_type": "stream",
          "text": [
            "PROGRESS: 0.1125\n"
          ],
          "name": "stdout"
        },
        {
          "output_type": "stream",
          "text": [
            "/content/tf_labelprop/src/tf_labelprop/gssl/graph/gssl_utils.py:167: RuntimeWarning:\n",
            "\n",
            "invalid value encountered in true_divide\n",
            "\n",
            " 11% (55 of 480) |##                     | Elapsed Time: 0:00:38 ETA:   0:04:46"
          ],
          "name": "stderr"
        },
        {
          "output_type": "stream",
          "text": [
            "PROGRESS: 0.11458333333333333\n"
          ],
          "name": "stdout"
        },
        {
          "output_type": "stream",
          "text": [
            "/content/tf_labelprop/src/tf_labelprop/gssl/graph/gssl_utils.py:167: RuntimeWarning:\n",
            "\n",
            "invalid value encountered in true_divide\n",
            "\n",
            " 11% (56 of 480) |##                     | Elapsed Time: 0:00:38 ETA:   0:04:45"
          ],
          "name": "stderr"
        },
        {
          "output_type": "stream",
          "text": [
            "PROGRESS: 0.11666666666666667\n"
          ],
          "name": "stdout"
        },
        {
          "output_type": "stream",
          "text": [
            "/content/tf_labelprop/src/tf_labelprop/gssl/graph/gssl_utils.py:167: RuntimeWarning:\n",
            "\n",
            "invalid value encountered in true_divide\n",
            "\n",
            " 11% (57 of 480) |##                     | Elapsed Time: 0:00:39 ETA:   0:04:42"
          ],
          "name": "stderr"
        },
        {
          "output_type": "stream",
          "text": [
            "PROGRESS: 0.11875\n"
          ],
          "name": "stdout"
        },
        {
          "output_type": "stream",
          "text": [
            "/content/tf_labelprop/src/tf_labelprop/gssl/graph/gssl_utils.py:167: RuntimeWarning:\n",
            "\n",
            "invalid value encountered in true_divide\n",
            "\n",
            " 12% (58 of 480) |##                     | Elapsed Time: 0:00:40 ETA:   0:05:06"
          ],
          "name": "stderr"
        },
        {
          "output_type": "stream",
          "text": [
            "PROGRESS: 0.12083333333333333\n"
          ],
          "name": "stdout"
        },
        {
          "output_type": "stream",
          "text": [
            "/content/tf_labelprop/src/tf_labelprop/gssl/graph/gssl_utils.py:167: RuntimeWarning:\n",
            "\n",
            "invalid value encountered in true_divide\n",
            "\n",
            " 12% (59 of 480) |##                     | Elapsed Time: 0:00:41 ETA:   0:05:07"
          ],
          "name": "stderr"
        },
        {
          "output_type": "stream",
          "text": [
            "PROGRESS: 0.12291666666666666\n"
          ],
          "name": "stdout"
        },
        {
          "output_type": "stream",
          "text": [
            "/content/tf_labelprop/src/tf_labelprop/gssl/graph/gssl_utils.py:167: RuntimeWarning:\n",
            "\n",
            "invalid value encountered in true_divide\n",
            "\n",
            " 12% (60 of 480) |##                     | Elapsed Time: 0:00:41 ETA:   0:04:47"
          ],
          "name": "stderr"
        },
        {
          "output_type": "stream",
          "text": [
            "PROGRESS: 0.125\n"
          ],
          "name": "stdout"
        },
        {
          "output_type": "stream",
          "text": [
            "\r                                                                               \r\r 12% (61 of 480) |##                     | Elapsed Time: 0:00:42 ETA:   0:04:44"
          ],
          "name": "stderr"
        },
        {
          "output_type": "stream",
          "text": [
            "PROGRESS: 0.12708333333333333\n"
          ],
          "name": "stdout"
        },
        {
          "output_type": "stream",
          "text": [
            "\r                                                                               \r\r 12% (62 of 480) |##                     | Elapsed Time: 0:00:43 ETA:   0:04:43"
          ],
          "name": "stderr"
        },
        {
          "output_type": "stream",
          "text": [
            "PROGRESS: 0.12916666666666668\n"
          ],
          "name": "stdout"
        },
        {
          "output_type": "stream",
          "text": [
            "\r                                                                               \r\r 13% (63 of 480) |###                    | Elapsed Time: 0:00:43 ETA:   0:05:01"
          ],
          "name": "stderr"
        },
        {
          "output_type": "stream",
          "text": [
            "PROGRESS: 0.13125\n"
          ],
          "name": "stdout"
        },
        {
          "output_type": "stream",
          "text": [
            "\r                                                                               \r\r 13% (64 of 480) |###                    | Elapsed Time: 0:00:44 ETA:   0:05:00"
          ],
          "name": "stderr"
        },
        {
          "output_type": "stream",
          "text": [
            "PROGRESS: 0.13333333333333333\n"
          ],
          "name": "stdout"
        },
        {
          "output_type": "stream",
          "text": [
            "\r                                                                               \r\r 13% (65 of 480) |###                    | Elapsed Time: 0:00:45 ETA:   0:04:38"
          ],
          "name": "stderr"
        },
        {
          "output_type": "stream",
          "text": [
            "PROGRESS: 0.13541666666666666\n"
          ],
          "name": "stdout"
        },
        {
          "output_type": "stream",
          "text": [
            "\r                                                                               \r\r 13% (66 of 480) |###                    | Elapsed Time: 0:00:45 ETA:   0:04:38"
          ],
          "name": "stderr"
        },
        {
          "output_type": "stream",
          "text": [
            "PROGRESS: 0.1375\n"
          ],
          "name": "stdout"
        },
        {
          "output_type": "stream",
          "text": [
            "\r                                                                               \r\r 13% (67 of 480) |###                    | Elapsed Time: 0:00:46 ETA:   0:04:34"
          ],
          "name": "stderr"
        },
        {
          "output_type": "stream",
          "text": [
            "PROGRESS: 0.13958333333333334\n"
          ],
          "name": "stdout"
        },
        {
          "output_type": "stream",
          "text": [
            "\r                                                                               \r\r 14% (68 of 480) |###                    | Elapsed Time: 0:00:47 ETA:   0:04:53"
          ],
          "name": "stderr"
        },
        {
          "output_type": "stream",
          "text": [
            "PROGRESS: 0.14166666666666666\n"
          ],
          "name": "stdout"
        },
        {
          "output_type": "stream",
          "text": [
            "\r                                                                               \r\r 14% (69 of 480) |###                    | Elapsed Time: 0:00:47 ETA:   0:04:51"
          ],
          "name": "stderr"
        },
        {
          "output_type": "stream",
          "text": [
            "PROGRESS: 0.14375\n"
          ],
          "name": "stdout"
        },
        {
          "output_type": "stream",
          "text": [
            "\r                                                                               \r\r 14% (70 of 480) |###                    | Elapsed Time: 0:00:48 ETA:   0:04:34"
          ],
          "name": "stderr"
        },
        {
          "output_type": "stream",
          "text": [
            "PROGRESS: 0.14583333333333334\n"
          ],
          "name": "stdout"
        },
        {
          "output_type": "stream",
          "text": [
            "\r                                                                               \r\r 14% (71 of 480) |###                    | Elapsed Time: 0:00:49 ETA:   0:04:34"
          ],
          "name": "stderr"
        },
        {
          "output_type": "stream",
          "text": [
            "PROGRESS: 0.14791666666666667\n"
          ],
          "name": "stdout"
        },
        {
          "output_type": "stream",
          "text": [
            "\r                                                                               \r\r 15% (72 of 480) |###                    | Elapsed Time: 0:00:49 ETA:   0:04:32"
          ],
          "name": "stderr"
        },
        {
          "output_type": "stream",
          "text": [
            "PROGRESS: 0.15\n"
          ],
          "name": "stdout"
        },
        {
          "output_type": "stream",
          "text": [
            "\r                                                                               \r\r 15% (73 of 480) |###                    | Elapsed Time: 0:00:50 ETA:   0:04:56"
          ],
          "name": "stderr"
        },
        {
          "output_type": "stream",
          "text": [
            "PROGRESS: 0.15208333333333332\n"
          ],
          "name": "stdout"
        },
        {
          "output_type": "stream",
          "text": [
            "\r                                                                               \r\r 15% (74 of 480) |###                    | Elapsed Time: 0:00:51 ETA:   0:04:56"
          ],
          "name": "stderr"
        },
        {
          "output_type": "stream",
          "text": [
            "PROGRESS: 0.15416666666666667\n"
          ],
          "name": "stdout"
        },
        {
          "output_type": "stream",
          "text": [
            "\r                                                                               \r\r 15% (75 of 480) |###                    | Elapsed Time: 0:00:51 ETA:   0:04:35"
          ],
          "name": "stderr"
        },
        {
          "output_type": "stream",
          "text": [
            "PROGRESS: 0.15625\n"
          ],
          "name": "stdout"
        },
        {
          "output_type": "stream",
          "text": [
            "\r                                                                               \r\r 15% (76 of 480) |###                    | Elapsed Time: 0:00:52 ETA:   0:04:31"
          ],
          "name": "stderr"
        },
        {
          "output_type": "stream",
          "text": [
            "PROGRESS: 0.15833333333333333\n"
          ],
          "name": "stdout"
        },
        {
          "output_type": "stream",
          "text": [
            "\r                                                                               \r\r 16% (77 of 480) |###                    | Elapsed Time: 0:00:53 ETA:   0:04:26"
          ],
          "name": "stderr"
        },
        {
          "output_type": "stream",
          "text": [
            "PROGRESS: 0.16041666666666668\n"
          ],
          "name": "stdout"
        },
        {
          "output_type": "stream",
          "text": [
            "\r                                                                               \r\r 16% (78 of 480) |###                    | Elapsed Time: 0:00:54 ETA:   0:04:45"
          ],
          "name": "stderr"
        },
        {
          "output_type": "stream",
          "text": [
            "PROGRESS: 0.1625\n"
          ],
          "name": "stdout"
        },
        {
          "output_type": "stream",
          "text": [
            "\r                                                                               \r\r 16% (79 of 480) |###                    | Elapsed Time: 0:00:54 ETA:   0:04:44"
          ],
          "name": "stderr"
        },
        {
          "output_type": "stream",
          "text": [
            "PROGRESS: 0.16458333333333333\n"
          ],
          "name": "stdout"
        },
        {
          "output_type": "stream",
          "text": [
            "\r                                                                               \r\r 16% (80 of 480) |###                    | Elapsed Time: 0:00:55 ETA:   0:04:26"
          ],
          "name": "stderr"
        },
        {
          "output_type": "stream",
          "text": [
            "PROGRESS: 0.16666666666666666\n"
          ],
          "name": "stdout"
        },
        {
          "output_type": "stream",
          "text": [
            "\r                                                                               \r\r 16% (81 of 480) |###                    | Elapsed Time: 0:00:55 ETA:   0:04:27"
          ],
          "name": "stderr"
        },
        {
          "output_type": "stream",
          "text": [
            "PROGRESS: 0.16875\n"
          ],
          "name": "stdout"
        },
        {
          "output_type": "stream",
          "text": [
            "\r                                                                               \r\r 17% (82 of 480) |###                    | Elapsed Time: 0:00:56 ETA:   0:04:27"
          ],
          "name": "stderr"
        },
        {
          "output_type": "stream",
          "text": [
            "PROGRESS: 0.17083333333333334\n"
          ],
          "name": "stdout"
        },
        {
          "output_type": "stream",
          "text": [
            "\r                                                                               \r\r 17% (83 of 480) |###                    | Elapsed Time: 0:00:57 ETA:   0:04:48"
          ],
          "name": "stderr"
        },
        {
          "output_type": "stream",
          "text": [
            "PROGRESS: 0.17291666666666666\n"
          ],
          "name": "stdout"
        },
        {
          "output_type": "stream",
          "text": [
            "\r                                                                               \r\r 17% (84 of 480) |####                   | Elapsed Time: 0:00:58 ETA:   0:04:44"
          ],
          "name": "stderr"
        },
        {
          "output_type": "stream",
          "text": [
            "PROGRESS: 0.175\n"
          ],
          "name": "stdout"
        },
        {
          "output_type": "stream",
          "text": [
            "\r                                                                               \r\r 17% (85 of 480) |####                   | Elapsed Time: 0:00:58 ETA:   0:04:26"
          ],
          "name": "stderr"
        },
        {
          "output_type": "stream",
          "text": [
            "PROGRESS: 0.17708333333333334\n"
          ],
          "name": "stdout"
        },
        {
          "output_type": "stream",
          "text": [
            "\r                                                                               \r\r 17% (86 of 480) |####                   | Elapsed Time: 0:00:59 ETA:   0:04:22"
          ],
          "name": "stderr"
        },
        {
          "output_type": "stream",
          "text": [
            "PROGRESS: 0.17916666666666667\n"
          ],
          "name": "stdout"
        },
        {
          "output_type": "stream",
          "text": [
            "\r                                                                               \r\r 18% (87 of 480) |####                   | Elapsed Time: 0:01:00 ETA:   0:04:18"
          ],
          "name": "stderr"
        },
        {
          "output_type": "stream",
          "text": [
            "PROGRESS: 0.18125\n"
          ],
          "name": "stdout"
        },
        {
          "output_type": "stream",
          "text": [
            "\r                                                                               \r\r 18% (88 of 480) |####                   | Elapsed Time: 0:01:00 ETA:   0:04:39"
          ],
          "name": "stderr"
        },
        {
          "output_type": "stream",
          "text": [
            "PROGRESS: 0.18333333333333332\n"
          ],
          "name": "stdout"
        },
        {
          "output_type": "stream",
          "text": [
            "\r                                                                               \r\r 18% (89 of 480) |####                   | Elapsed Time: 0:01:01 ETA:   0:04:39"
          ],
          "name": "stderr"
        },
        {
          "output_type": "stream",
          "text": [
            "PROGRESS: 0.18541666666666667\n"
          ],
          "name": "stdout"
        },
        {
          "output_type": "stream",
          "text": [
            "\r                                                                               \r\r 18% (90 of 480) |####                   | Elapsed Time: 0:01:02 ETA:   0:04:21"
          ],
          "name": "stderr"
        },
        {
          "output_type": "stream",
          "text": [
            "PROGRESS: 0.1875\n"
          ],
          "name": "stdout"
        },
        {
          "output_type": "stream",
          "text": [
            "\r                                                                               \r\r 18% (91 of 480) |####                   | Elapsed Time: 0:01:02 ETA:   0:04:22"
          ],
          "name": "stderr"
        },
        {
          "output_type": "stream",
          "text": [
            "PROGRESS: 0.18958333333333333\n"
          ],
          "name": "stdout"
        },
        {
          "output_type": "stream",
          "text": [
            "\r                                                                               \r\r 19% (92 of 480) |####                   | Elapsed Time: 0:01:03 ETA:   0:04:21"
          ],
          "name": "stderr"
        },
        {
          "output_type": "stream",
          "text": [
            "PROGRESS: 0.19166666666666668\n"
          ],
          "name": "stdout"
        },
        {
          "output_type": "stream",
          "text": [
            "\r                                                                               \r\r 19% (93 of 480) |####                   | Elapsed Time: 0:01:04 ETA:   0:04:36"
          ],
          "name": "stderr"
        },
        {
          "output_type": "stream",
          "text": [
            "PROGRESS: 0.19375\n"
          ],
          "name": "stdout"
        },
        {
          "output_type": "stream",
          "text": [
            "\r                                                                               \r\r 19% (94 of 480) |####                   | Elapsed Time: 0:01:04 ETA:   0:04:33"
          ],
          "name": "stderr"
        },
        {
          "output_type": "stream",
          "text": [
            "PROGRESS: 0.19583333333333333\n"
          ],
          "name": "stdout"
        },
        {
          "output_type": "stream",
          "text": [
            "\r                                                                               \r\r 19% (95 of 480) |####                   | Elapsed Time: 0:01:05 ETA:   0:04:17"
          ],
          "name": "stderr"
        },
        {
          "output_type": "stream",
          "text": [
            "PROGRESS: 0.19791666666666666\n"
          ],
          "name": "stdout"
        },
        {
          "output_type": "stream",
          "text": [
            "\r                                                                               \r\r 20% (96 of 480) |####                   | Elapsed Time: 0:01:06 ETA:   0:04:15"
          ],
          "name": "stderr"
        },
        {
          "output_type": "stream",
          "text": [
            "PROGRESS: 0.2\n"
          ],
          "name": "stdout"
        },
        {
          "output_type": "stream",
          "text": [
            "\r                                                                               \r\r 20% (97 of 480) |####                   | Elapsed Time: 0:01:06 ETA:   0:04:15"
          ],
          "name": "stderr"
        },
        {
          "output_type": "stream",
          "text": [
            "PROGRESS: 0.20208333333333334\n"
          ],
          "name": "stdout"
        },
        {
          "output_type": "stream",
          "text": [
            "\r                                                                               \r\r 20% (98 of 480) |####                   | Elapsed Time: 0:01:07 ETA:   0:04:31"
          ],
          "name": "stderr"
        },
        {
          "output_type": "stream",
          "text": [
            "PROGRESS: 0.20416666666666666\n"
          ],
          "name": "stdout"
        },
        {
          "output_type": "stream",
          "text": [
            "\r                                                                               \r\r 20% (99 of 480) |####                   | Elapsed Time: 0:01:08 ETA:   0:04:31"
          ],
          "name": "stderr"
        },
        {
          "output_type": "stream",
          "text": [
            "PROGRESS: 0.20625\n"
          ],
          "name": "stdout"
        },
        {
          "output_type": "stream",
          "text": [
            "\r                                                                               \r\r 20% (100 of 480) |####                  | Elapsed Time: 0:01:08 ETA:   0:04:16"
          ],
          "name": "stderr"
        },
        {
          "output_type": "stream",
          "text": [
            "PROGRESS: 0.20833333333333334\n"
          ],
          "name": "stdout"
        },
        {
          "output_type": "stream",
          "text": [
            "\r                                                                               \r\r 21% (101 of 480) |####                  | Elapsed Time: 0:01:09 ETA:   0:04:15"
          ],
          "name": "stderr"
        },
        {
          "output_type": "stream",
          "text": [
            "PROGRESS: 0.21041666666666667\n"
          ],
          "name": "stdout"
        },
        {
          "output_type": "stream",
          "text": [
            "\r                                                                               \r\r 21% (102 of 480) |####                  | Elapsed Time: 0:01:10 ETA:   0:04:12"
          ],
          "name": "stderr"
        },
        {
          "output_type": "stream",
          "text": [
            "PROGRESS: 0.2125\n"
          ],
          "name": "stdout"
        },
        {
          "output_type": "stream",
          "text": [
            "\r                                                                               \r\r 21% (103 of 480) |####                  | Elapsed Time: 0:01:11 ETA:   0:04:37"
          ],
          "name": "stderr"
        },
        {
          "output_type": "stream",
          "text": [
            "PROGRESS: 0.21458333333333332\n"
          ],
          "name": "stdout"
        },
        {
          "output_type": "stream",
          "text": [
            "\r                                                                               \r\r 21% (104 of 480) |####                  | Elapsed Time: 0:01:11 ETA:   0:04:36"
          ],
          "name": "stderr"
        },
        {
          "output_type": "stream",
          "text": [
            "PROGRESS: 0.21666666666666667\n"
          ],
          "name": "stdout"
        },
        {
          "output_type": "stream",
          "text": [
            "\r                                                                               \r\r 21% (105 of 480) |####                  | Elapsed Time: 0:01:12 ETA:   0:04:10"
          ],
          "name": "stderr"
        },
        {
          "output_type": "stream",
          "text": [
            "PROGRESS: 0.21875\n"
          ],
          "name": "stdout"
        },
        {
          "output_type": "stream",
          "text": [
            "\r                                                                               \r\r 22% (106 of 480) |####                  | Elapsed Time: 0:01:13 ETA:   0:04:15"
          ],
          "name": "stderr"
        },
        {
          "output_type": "stream",
          "text": [
            "PROGRESS: 0.22083333333333333\n"
          ],
          "name": "stdout"
        },
        {
          "output_type": "stream",
          "text": [
            "\r                                                                               \r\r 22% (107 of 480) |####                  | Elapsed Time: 0:01:13 ETA:   0:04:10"
          ],
          "name": "stderr"
        },
        {
          "output_type": "stream",
          "text": [
            "PROGRESS: 0.22291666666666668\n"
          ],
          "name": "stdout"
        },
        {
          "output_type": "stream",
          "text": [
            "\r                                                                               \r\r 22% (108 of 480) |####                  | Elapsed Time: 0:01:14 ETA:   0:04:26"
          ],
          "name": "stderr"
        },
        {
          "output_type": "stream",
          "text": [
            "PROGRESS: 0.225\n"
          ],
          "name": "stdout"
        },
        {
          "output_type": "stream",
          "text": [
            "\r                                                                               \r\r 22% (109 of 480) |####                  | Elapsed Time: 0:01:15 ETA:   0:04:22"
          ],
          "name": "stderr"
        },
        {
          "output_type": "stream",
          "text": [
            "PROGRESS: 0.22708333333333333\n"
          ],
          "name": "stdout"
        },
        {
          "output_type": "stream",
          "text": [
            "\r                                                                               \r\r 22% (110 of 480) |#####                 | Elapsed Time: 0:01:15 ETA:   0:04:05"
          ],
          "name": "stderr"
        },
        {
          "output_type": "stream",
          "text": [
            "PROGRESS: 0.22916666666666666\n"
          ],
          "name": "stdout"
        },
        {
          "output_type": "stream",
          "text": [
            "\r                                                                               \r\r 23% (111 of 480) |#####                 | Elapsed Time: 0:01:16 ETA:   0:04:04"
          ],
          "name": "stderr"
        },
        {
          "output_type": "stream",
          "text": [
            "PROGRESS: 0.23125\n"
          ],
          "name": "stdout"
        },
        {
          "output_type": "stream",
          "text": [
            "\r                                                                               \r\r 23% (112 of 480) |#####                 | Elapsed Time: 0:01:17 ETA:   0:04:04"
          ],
          "name": "stderr"
        },
        {
          "output_type": "stream",
          "text": [
            "PROGRESS: 0.23333333333333334\n"
          ],
          "name": "stdout"
        },
        {
          "output_type": "stream",
          "text": [
            "\r                                                                               \r\r 23% (113 of 480) |#####                 | Elapsed Time: 0:01:17 ETA:   0:04:19"
          ],
          "name": "stderr"
        },
        {
          "output_type": "stream",
          "text": [
            "PROGRESS: 0.23541666666666666\n"
          ],
          "name": "stdout"
        },
        {
          "output_type": "stream",
          "text": [
            "\r                                                                               \r\r 23% (114 of 480) |#####                 | Elapsed Time: 0:01:18 ETA:   0:04:17"
          ],
          "name": "stderr"
        },
        {
          "output_type": "stream",
          "text": [
            "PROGRESS: 0.2375\n"
          ],
          "name": "stdout"
        },
        {
          "output_type": "stream",
          "text": [
            "\r                                                                               \r\r 23% (115 of 480) |#####                 | Elapsed Time: 0:01:19 ETA:   0:04:02"
          ],
          "name": "stderr"
        },
        {
          "output_type": "stream",
          "text": [
            "PROGRESS: 0.23958333333333334\n"
          ],
          "name": "stdout"
        },
        {
          "output_type": "stream",
          "text": [
            "\r                                                                               \r\r 24% (116 of 480) |#####                 | Elapsed Time: 0:01:19 ETA:   0:04:00"
          ],
          "name": "stderr"
        },
        {
          "output_type": "stream",
          "text": [
            "PROGRESS: 0.24166666666666667\n"
          ],
          "name": "stdout"
        },
        {
          "output_type": "stream",
          "text": [
            "\r                                                                               \r\r 24% (117 of 480) |#####                 | Elapsed Time: 0:01:20 ETA:   0:04:01"
          ],
          "name": "stderr"
        },
        {
          "output_type": "stream",
          "text": [
            "PROGRESS: 0.24375\n"
          ],
          "name": "stdout"
        },
        {
          "output_type": "stream",
          "text": [
            "\r                                                                               \r\r 24% (118 of 480) |#####                 | Elapsed Time: 0:01:21 ETA:   0:04:18"
          ],
          "name": "stderr"
        },
        {
          "output_type": "stream",
          "text": [
            "PROGRESS: 0.24583333333333332\n"
          ],
          "name": "stdout"
        },
        {
          "output_type": "stream",
          "text": [
            "\r                                                                               \r\r 24% (119 of 480) |#####                 | Elapsed Time: 0:01:21 ETA:   0:04:18"
          ],
          "name": "stderr"
        },
        {
          "output_type": "stream",
          "text": [
            "PROGRESS: 0.24791666666666667\n"
          ],
          "name": "stdout"
        },
        {
          "output_type": "stream",
          "text": [
            "\r                                                                               \r\r 25% (120 of 480) |#####                 | Elapsed Time: 0:01:22 ETA:   0:04:01"
          ],
          "name": "stderr"
        },
        {
          "output_type": "stream",
          "text": [
            "PROGRESS: 0.25\n"
          ],
          "name": "stdout"
        },
        {
          "output_type": "stream",
          "text": [
            "\r                                                                               \r\r 25% (121 of 480) |#####                 | Elapsed Time: 0:01:23 ETA:   0:04:00"
          ],
          "name": "stderr"
        },
        {
          "output_type": "stream",
          "text": [
            "PROGRESS: 0.2520833333333333\n"
          ],
          "name": "stdout"
        },
        {
          "output_type": "stream",
          "text": [
            "\r                                                                               \r\r 25% (122 of 480) |#####                 | Elapsed Time: 0:01:23 ETA:   0:03:56"
          ],
          "name": "stderr"
        },
        {
          "output_type": "stream",
          "text": [
            "PROGRESS: 0.25416666666666665\n"
          ],
          "name": "stdout"
        },
        {
          "output_type": "stream",
          "text": [
            "\r                                                                               \r\r 25% (123 of 480) |#####                 | Elapsed Time: 0:01:24 ETA:   0:04:11"
          ],
          "name": "stderr"
        },
        {
          "output_type": "stream",
          "text": [
            "PROGRESS: 0.25625\n"
          ],
          "name": "stdout"
        },
        {
          "output_type": "stream",
          "text": [
            "\r                                                                               \r\r 25% (124 of 480) |#####                 | Elapsed Time: 0:01:25 ETA:   0:04:13"
          ],
          "name": "stderr"
        },
        {
          "output_type": "stream",
          "text": [
            "PROGRESS: 0.25833333333333336\n"
          ],
          "name": "stdout"
        },
        {
          "output_type": "stream",
          "text": [
            "\r                                                                               \r\r 26% (125 of 480) |#####                 | Elapsed Time: 0:01:25 ETA:   0:03:57"
          ],
          "name": "stderr"
        },
        {
          "output_type": "stream",
          "text": [
            "PROGRESS: 0.2604166666666667\n"
          ],
          "name": "stdout"
        },
        {
          "output_type": "stream",
          "text": [
            "\r                                                                               \r\r 26% (126 of 480) |#####                 | Elapsed Time: 0:01:26 ETA:   0:03:57"
          ],
          "name": "stderr"
        },
        {
          "output_type": "stream",
          "text": [
            "PROGRESS: 0.2625\n"
          ],
          "name": "stdout"
        },
        {
          "output_type": "stream",
          "text": [
            "\r                                                                               \r\r 26% (127 of 480) |#####                 | Elapsed Time: 0:01:27 ETA:   0:03:58"
          ],
          "name": "stderr"
        },
        {
          "output_type": "stream",
          "text": [
            "PROGRESS: 0.26458333333333334\n"
          ],
          "name": "stdout"
        },
        {
          "output_type": "stream",
          "text": [
            "\r                                                                               \r\r 26% (128 of 480) |#####                 | Elapsed Time: 0:01:27 ETA:   0:04:11"
          ],
          "name": "stderr"
        },
        {
          "output_type": "stream",
          "text": [
            "PROGRESS: 0.26666666666666666\n"
          ],
          "name": "stdout"
        },
        {
          "output_type": "stream",
          "text": [
            "\r                                                                               \r\r 26% (129 of 480) |#####                 | Elapsed Time: 0:01:28 ETA:   0:04:12"
          ],
          "name": "stderr"
        },
        {
          "output_type": "stream",
          "text": [
            "PROGRESS: 0.26875\n"
          ],
          "name": "stdout"
        },
        {
          "output_type": "stream",
          "text": [
            "\r                                                                               \r\r 27% (130 of 480) |#####                 | Elapsed Time: 0:01:29 ETA:   0:03:57"
          ],
          "name": "stderr"
        },
        {
          "output_type": "stream",
          "text": [
            "PROGRESS: 0.2708333333333333\n"
          ],
          "name": "stdout"
        },
        {
          "output_type": "stream",
          "text": [
            "\r                                                                               \r\r 27% (131 of 480) |######                | Elapsed Time: 0:01:29 ETA:   0:03:53"
          ],
          "name": "stderr"
        },
        {
          "output_type": "stream",
          "text": [
            "PROGRESS: 0.27291666666666664\n"
          ],
          "name": "stdout"
        },
        {
          "output_type": "stream",
          "text": [
            "\r                                                                               \r\r 27% (132 of 480) |######                | Elapsed Time: 0:01:30 ETA:   0:03:52"
          ],
          "name": "stderr"
        },
        {
          "output_type": "stream",
          "text": [
            "PROGRESS: 0.275\n"
          ],
          "name": "stdout"
        },
        {
          "output_type": "stream",
          "text": [
            "\r                                                                               \r\r 27% (133 of 480) |######                | Elapsed Time: 0:01:31 ETA:   0:04:02"
          ],
          "name": "stderr"
        },
        {
          "output_type": "stream",
          "text": [
            "PROGRESS: 0.27708333333333335\n"
          ],
          "name": "stdout"
        },
        {
          "output_type": "stream",
          "text": [
            "\r                                                                               \r\r 27% (134 of 480) |######                | Elapsed Time: 0:01:32 ETA:   0:04:04"
          ],
          "name": "stderr"
        },
        {
          "output_type": "stream",
          "text": [
            "PROGRESS: 0.2791666666666667\n"
          ],
          "name": "stdout"
        },
        {
          "output_type": "stream",
          "text": [
            "\r                                                                               \r\r 28% (135 of 480) |######                | Elapsed Time: 0:01:32 ETA:   0:03:50"
          ],
          "name": "stderr"
        },
        {
          "output_type": "stream",
          "text": [
            "PROGRESS: 0.28125\n"
          ],
          "name": "stdout"
        },
        {
          "output_type": "stream",
          "text": [
            "\r                                                                               \r\r 28% (136 of 480) |######                | Elapsed Time: 0:01:33 ETA:   0:03:51"
          ],
          "name": "stderr"
        },
        {
          "output_type": "stream",
          "text": [
            "PROGRESS: 0.2833333333333333\n"
          ],
          "name": "stdout"
        },
        {
          "output_type": "stream",
          "text": [
            "\r                                                                               \r\r 28% (137 of 480) |######                | Elapsed Time: 0:01:34 ETA:   0:03:51"
          ],
          "name": "stderr"
        },
        {
          "output_type": "stream",
          "text": [
            "PROGRESS: 0.28541666666666665\n"
          ],
          "name": "stdout"
        },
        {
          "output_type": "stream",
          "text": [
            "\r                                                                               \r\r 28% (138 of 480) |######                | Elapsed Time: 0:01:34 ETA:   0:04:03"
          ],
          "name": "stderr"
        },
        {
          "output_type": "stream",
          "text": [
            "PROGRESS: 0.2875\n"
          ],
          "name": "stdout"
        },
        {
          "output_type": "stream",
          "text": [
            "\r                                                                               \r\r 28% (139 of 480) |######                | Elapsed Time: 0:01:35 ETA:   0:04:02"
          ],
          "name": "stderr"
        },
        {
          "output_type": "stream",
          "text": [
            "PROGRESS: 0.28958333333333336\n"
          ],
          "name": "stdout"
        },
        {
          "output_type": "stream",
          "text": [
            "\r                                                                               \r\r 29% (140 of 480) |######                | Elapsed Time: 0:01:35 ETA:   0:03:45"
          ],
          "name": "stderr"
        },
        {
          "output_type": "stream",
          "text": [
            "PROGRESS: 0.2916666666666667\n"
          ],
          "name": "stdout"
        },
        {
          "output_type": "stream",
          "text": [
            "\r                                                                               \r\r 29% (141 of 480) |######                | Elapsed Time: 0:01:36 ETA:   0:03:46"
          ],
          "name": "stderr"
        },
        {
          "output_type": "stream",
          "text": [
            "PROGRESS: 0.29375\n"
          ],
          "name": "stdout"
        },
        {
          "output_type": "stream",
          "text": [
            "\r                                                                               \r\r 29% (142 of 480) |######                | Elapsed Time: 0:01:37 ETA:   0:03:44"
          ],
          "name": "stderr"
        },
        {
          "output_type": "stream",
          "text": [
            "PROGRESS: 0.29583333333333334\n"
          ],
          "name": "stdout"
        },
        {
          "output_type": "stream",
          "text": [
            "\r                                                                               \r\r 29% (143 of 480) |######                | Elapsed Time: 0:01:38 ETA:   0:03:58"
          ],
          "name": "stderr"
        },
        {
          "output_type": "stream",
          "text": [
            "PROGRESS: 0.29791666666666666\n"
          ],
          "name": "stdout"
        },
        {
          "output_type": "stream",
          "text": [
            "\r                                                                               \r\r 30% (144 of 480) |######                | Elapsed Time: 0:01:38 ETA:   0:03:57"
          ],
          "name": "stderr"
        },
        {
          "output_type": "stream",
          "text": [
            "PROGRESS: 0.3\n"
          ],
          "name": "stdout"
        },
        {
          "output_type": "stream",
          "text": [
            "\r                                                                               \r\r 30% (145 of 480) |######                | Elapsed Time: 0:01:39 ETA:   0:03:43"
          ],
          "name": "stderr"
        },
        {
          "output_type": "stream",
          "text": [
            "PROGRESS: 0.3020833333333333\n"
          ],
          "name": "stdout"
        },
        {
          "output_type": "stream",
          "text": [
            "\r                                                                               \r\r 30% (146 of 480) |######                | Elapsed Time: 0:01:40 ETA:   0:03:42"
          ],
          "name": "stderr"
        },
        {
          "output_type": "stream",
          "text": [
            "PROGRESS: 0.30416666666666664\n"
          ],
          "name": "stdout"
        },
        {
          "output_type": "stream",
          "text": [
            "\r                                                                               \r\r 30% (147 of 480) |######                | Elapsed Time: 0:01:40 ETA:   0:03:42"
          ],
          "name": "stderr"
        },
        {
          "output_type": "stream",
          "text": [
            "PROGRESS: 0.30625\n"
          ],
          "name": "stdout"
        },
        {
          "output_type": "stream",
          "text": [
            "\r                                                                               \r\r 30% (148 of 480) |######                | Elapsed Time: 0:01:41 ETA:   0:03:56"
          ],
          "name": "stderr"
        },
        {
          "output_type": "stream",
          "text": [
            "PROGRESS: 0.30833333333333335\n"
          ],
          "name": "stdout"
        },
        {
          "output_type": "stream",
          "text": [
            "\r                                                                               \r\r 31% (149 of 480) |######                | Elapsed Time: 0:01:42 ETA:   0:03:58"
          ],
          "name": "stderr"
        },
        {
          "output_type": "stream",
          "text": [
            "PROGRESS: 0.3104166666666667\n"
          ],
          "name": "stdout"
        },
        {
          "output_type": "stream",
          "text": [
            "\r                                                                               \r\r 31% (150 of 480) |######                | Elapsed Time: 0:01:42 ETA:   0:03:42"
          ],
          "name": "stderr"
        },
        {
          "output_type": "stream",
          "text": [
            "PROGRESS: 0.3125\n"
          ],
          "name": "stdout"
        },
        {
          "output_type": "stream",
          "text": [
            "\r                                                                               \r\r 31% (151 of 480) |######                | Elapsed Time: 0:01:43 ETA:   0:03:42"
          ],
          "name": "stderr"
        },
        {
          "output_type": "stream",
          "text": [
            "PROGRESS: 0.3145833333333333\n"
          ],
          "name": "stdout"
        },
        {
          "output_type": "stream",
          "text": [
            "\r                                                                               \r\r 31% (152 of 480) |######                | Elapsed Time: 0:01:44 ETA:   0:03:42"
          ],
          "name": "stderr"
        },
        {
          "output_type": "stream",
          "text": [
            "PROGRESS: 0.31666666666666665\n"
          ],
          "name": "stdout"
        },
        {
          "output_type": "stream",
          "text": [
            "\r                                                                               \r\r 31% (153 of 480) |#######               | Elapsed Time: 0:01:44 ETA:   0:03:54"
          ],
          "name": "stderr"
        },
        {
          "output_type": "stream",
          "text": [
            "PROGRESS: 0.31875\n"
          ],
          "name": "stdout"
        },
        {
          "output_type": "stream",
          "text": [
            "\r                                                                               \r\r 32% (154 of 480) |#######               | Elapsed Time: 0:01:45 ETA:   0:03:53"
          ],
          "name": "stderr"
        },
        {
          "output_type": "stream",
          "text": [
            "PROGRESS: 0.32083333333333336\n"
          ],
          "name": "stdout"
        },
        {
          "output_type": "stream",
          "text": [
            "\r                                                                               \r\r 32% (155 of 480) |#######               | Elapsed Time: 0:01:46 ETA:   0:03:38"
          ],
          "name": "stderr"
        },
        {
          "output_type": "stream",
          "text": [
            "PROGRESS: 0.3229166666666667\n"
          ],
          "name": "stdout"
        },
        {
          "output_type": "stream",
          "text": [
            "\r                                                                               \r\r 32% (156 of 480) |#######               | Elapsed Time: 0:01:46 ETA:   0:03:36"
          ],
          "name": "stderr"
        },
        {
          "output_type": "stream",
          "text": [
            "PROGRESS: 0.325\n"
          ],
          "name": "stdout"
        },
        {
          "output_type": "stream",
          "text": [
            "\r                                                                               \r\r 32% (157 of 480) |#######               | Elapsed Time: 0:01:47 ETA:   0:03:36"
          ],
          "name": "stderr"
        },
        {
          "output_type": "stream",
          "text": [
            "PROGRESS: 0.32708333333333334\n"
          ],
          "name": "stdout"
        },
        {
          "output_type": "stream",
          "text": [
            "\r                                                                               \r\r 32% (158 of 480) |#######               | Elapsed Time: 0:01:48 ETA:   0:03:48"
          ],
          "name": "stderr"
        },
        {
          "output_type": "stream",
          "text": [
            "PROGRESS: 0.32916666666666666\n"
          ],
          "name": "stdout"
        },
        {
          "output_type": "stream",
          "text": [
            "\r                                                                               \r\r 33% (159 of 480) |#######               | Elapsed Time: 0:01:49 ETA:   0:03:47"
          ],
          "name": "stderr"
        },
        {
          "output_type": "stream",
          "text": [
            "PROGRESS: 0.33125\n"
          ],
          "name": "stdout"
        },
        {
          "output_type": "stream",
          "text": [
            "\r                                                                               \r\r 33% (160 of 480) |#######               | Elapsed Time: 0:01:49 ETA:   0:03:33"
          ],
          "name": "stderr"
        },
        {
          "output_type": "stream",
          "text": [
            "PROGRESS: 0.3333333333333333\n"
          ],
          "name": "stdout"
        },
        {
          "output_type": "stream",
          "text": [
            "\r                                                                               \r\r 33% (161 of 480) |#######               | Elapsed Time: 0:01:50 ETA:   0:03:32"
          ],
          "name": "stderr"
        },
        {
          "output_type": "stream",
          "text": [
            "PROGRESS: 0.33541666666666664\n"
          ],
          "name": "stdout"
        },
        {
          "output_type": "stream",
          "text": [
            "\r                                                                               \r\r 33% (162 of 480) |#######               | Elapsed Time: 0:01:51 ETA:   0:03:31"
          ],
          "name": "stderr"
        },
        {
          "output_type": "stream",
          "text": [
            "PROGRESS: 0.3375\n"
          ],
          "name": "stdout"
        },
        {
          "output_type": "stream",
          "text": [
            "\r                                                                               \r\r 33% (163 of 480) |#######               | Elapsed Time: 0:01:51 ETA:   0:03:42"
          ],
          "name": "stderr"
        },
        {
          "output_type": "stream",
          "text": [
            "PROGRESS: 0.33958333333333335\n"
          ],
          "name": "stdout"
        },
        {
          "output_type": "stream",
          "text": [
            "\r                                                                               \r\r 34% (164 of 480) |#######               | Elapsed Time: 0:01:52 ETA:   0:03:42"
          ],
          "name": "stderr"
        },
        {
          "output_type": "stream",
          "text": [
            "PROGRESS: 0.3416666666666667\n"
          ],
          "name": "stdout"
        },
        {
          "output_type": "stream",
          "text": [
            "\r                                                                               \r\r 34% (165 of 480) |#######               | Elapsed Time: 0:01:52 ETA:   0:03:30"
          ],
          "name": "stderr"
        },
        {
          "output_type": "stream",
          "text": [
            "PROGRESS: 0.34375\n"
          ],
          "name": "stdout"
        },
        {
          "output_type": "stream",
          "text": [
            "\r                                                                               \r\r 34% (166 of 480) |#######               | Elapsed Time: 0:01:53 ETA:   0:03:29"
          ],
          "name": "stderr"
        },
        {
          "output_type": "stream",
          "text": [
            "PROGRESS: 0.3458333333333333\n"
          ],
          "name": "stdout"
        },
        {
          "output_type": "stream",
          "text": [
            "\r                                                                               \r\r 34% (167 of 480) |#######               | Elapsed Time: 0:01:54 ETA:   0:03:29"
          ],
          "name": "stderr"
        },
        {
          "output_type": "stream",
          "text": [
            "PROGRESS: 0.34791666666666665\n"
          ],
          "name": "stdout"
        },
        {
          "output_type": "stream",
          "text": [
            "\r                                                                               \r\r 35% (168 of 480) |#######               | Elapsed Time: 0:01:55 ETA:   0:03:41"
          ],
          "name": "stderr"
        },
        {
          "output_type": "stream",
          "text": [
            "PROGRESS: 0.35\n"
          ],
          "name": "stdout"
        },
        {
          "output_type": "stream",
          "text": [
            "\r                                                                               \r\r 35% (169 of 480) |#######               | Elapsed Time: 0:01:55 ETA:   0:03:40"
          ],
          "name": "stderr"
        },
        {
          "output_type": "stream",
          "text": [
            "PROGRESS: 0.35208333333333336\n"
          ],
          "name": "stdout"
        },
        {
          "output_type": "stream",
          "text": [
            "\r                                                                               \r\r 35% (170 of 480) |#######               | Elapsed Time: 0:01:56 ETA:   0:03:26"
          ],
          "name": "stderr"
        },
        {
          "output_type": "stream",
          "text": [
            "PROGRESS: 0.3541666666666667\n"
          ],
          "name": "stdout"
        },
        {
          "output_type": "stream",
          "text": [
            "\r                                                                               \r\r 35% (171 of 480) |#######               | Elapsed Time: 0:01:57 ETA:   0:03:25"
          ],
          "name": "stderr"
        },
        {
          "output_type": "stream",
          "text": [
            "PROGRESS: 0.35625\n"
          ],
          "name": "stdout"
        },
        {
          "output_type": "stream",
          "text": [
            "\r                                                                               \r\r 35% (172 of 480) |#######               | Elapsed Time: 0:01:57 ETA:   0:03:23"
          ],
          "name": "stderr"
        },
        {
          "output_type": "stream",
          "text": [
            "PROGRESS: 0.35833333333333334\n"
          ],
          "name": "stdout"
        },
        {
          "output_type": "stream",
          "text": [
            "\r                                                                               \r\r 36% (173 of 480) |#######               | Elapsed Time: 0:01:58 ETA:   0:03:36"
          ],
          "name": "stderr"
        },
        {
          "output_type": "stream",
          "text": [
            "PROGRESS: 0.36041666666666666\n"
          ],
          "name": "stdout"
        },
        {
          "output_type": "stream",
          "text": [
            "\r                                                                               \r\r 36% (174 of 480) |#######               | Elapsed Time: 0:01:59 ETA:   0:03:35"
          ],
          "name": "stderr"
        },
        {
          "output_type": "stream",
          "text": [
            "PROGRESS: 0.3625\n"
          ],
          "name": "stdout"
        },
        {
          "output_type": "stream",
          "text": [
            "\r                                                                               \r\r 36% (175 of 480) |########              | Elapsed Time: 0:01:59 ETA:   0:03:21"
          ],
          "name": "stderr"
        },
        {
          "output_type": "stream",
          "text": [
            "PROGRESS: 0.3645833333333333\n"
          ],
          "name": "stdout"
        },
        {
          "output_type": "stream",
          "text": [
            "\r                                                                               \r\r 36% (176 of 480) |########              | Elapsed Time: 0:02:00 ETA:   0:03:23"
          ],
          "name": "stderr"
        },
        {
          "output_type": "stream",
          "text": [
            "PROGRESS: 0.36666666666666664\n"
          ],
          "name": "stdout"
        },
        {
          "output_type": "stream",
          "text": [
            "\r                                                                               \r\r 36% (177 of 480) |########              | Elapsed Time: 0:02:01 ETA:   0:03:23"
          ],
          "name": "stderr"
        },
        {
          "output_type": "stream",
          "text": [
            "PROGRESS: 0.36875\n"
          ],
          "name": "stdout"
        },
        {
          "output_type": "stream",
          "text": [
            "\r                                                                               \r\r 37% (178 of 480) |########              | Elapsed Time: 0:02:01 ETA:   0:03:35"
          ],
          "name": "stderr"
        },
        {
          "output_type": "stream",
          "text": [
            "PROGRESS: 0.37083333333333335\n"
          ],
          "name": "stdout"
        },
        {
          "output_type": "stream",
          "text": [
            "\r                                                                               \r\r 37% (179 of 480) |########              | Elapsed Time: 0:02:02 ETA:   0:03:34"
          ],
          "name": "stderr"
        },
        {
          "output_type": "stream",
          "text": [
            "PROGRESS: 0.3729166666666667\n"
          ],
          "name": "stdout"
        },
        {
          "output_type": "stream",
          "text": [
            "\r                                                                               \r\r 37% (180 of 480) |########              | Elapsed Time: 0:02:03 ETA:   0:03:22"
          ],
          "name": "stderr"
        },
        {
          "output_type": "stream",
          "text": [
            "PROGRESS: 0.375\n"
          ],
          "name": "stdout"
        },
        {
          "output_type": "stream",
          "text": [
            "\r                                                                               \r\r 37% (181 of 480) |########              | Elapsed Time: 0:02:03 ETA:   0:03:19"
          ],
          "name": "stderr"
        },
        {
          "output_type": "stream",
          "text": [
            "PROGRESS: 0.3770833333333333\n"
          ],
          "name": "stdout"
        },
        {
          "output_type": "stream",
          "text": [
            "\r                                                                               \r\r 37% (182 of 480) |########              | Elapsed Time: 0:02:04 ETA:   0:03:19"
          ],
          "name": "stderr"
        },
        {
          "output_type": "stream",
          "text": [
            "PROGRESS: 0.37916666666666665\n"
          ],
          "name": "stdout"
        },
        {
          "output_type": "stream",
          "text": [
            "\r                                                                               \r\r 38% (183 of 480) |########              | Elapsed Time: 0:02:05 ETA:   0:03:35"
          ],
          "name": "stderr"
        },
        {
          "output_type": "stream",
          "text": [
            "PROGRESS: 0.38125\n"
          ],
          "name": "stdout"
        },
        {
          "output_type": "stream",
          "text": [
            "\r                                                                               \r\r 38% (184 of 480) |########              | Elapsed Time: 0:02:06 ETA:   0:03:33"
          ],
          "name": "stderr"
        },
        {
          "output_type": "stream",
          "text": [
            "PROGRESS: 0.38333333333333336\n"
          ],
          "name": "stdout"
        },
        {
          "output_type": "stream",
          "text": [
            "\r                                                                               \r\r 38% (185 of 480) |########              | Elapsed Time: 0:02:06 ETA:   0:03:20"
          ],
          "name": "stderr"
        },
        {
          "output_type": "stream",
          "text": [
            "PROGRESS: 0.3854166666666667\n"
          ],
          "name": "stdout"
        },
        {
          "output_type": "stream",
          "text": [
            "\r                                                                               \r\r 38% (186 of 480) |########              | Elapsed Time: 0:02:07 ETA:   0:03:19"
          ],
          "name": "stderr"
        },
        {
          "output_type": "stream",
          "text": [
            "PROGRESS: 0.3875\n"
          ],
          "name": "stdout"
        },
        {
          "output_type": "stream",
          "text": [
            "\r                                                                               \r\r 38% (187 of 480) |########              | Elapsed Time: 0:02:08 ETA:   0:03:17"
          ],
          "name": "stderr"
        },
        {
          "output_type": "stream",
          "text": [
            "PROGRESS: 0.38958333333333334\n"
          ],
          "name": "stdout"
        },
        {
          "output_type": "stream",
          "text": [
            "\r                                                                               \r\r 39% (188 of 480) |########              | Elapsed Time: 0:02:08 ETA:   0:03:32"
          ],
          "name": "stderr"
        },
        {
          "output_type": "stream",
          "text": [
            "PROGRESS: 0.39166666666666666\n"
          ],
          "name": "stdout"
        },
        {
          "output_type": "stream",
          "text": [
            "\r                                                                               \r\r 39% (189 of 480) |########              | Elapsed Time: 0:02:09 ETA:   0:03:32"
          ],
          "name": "stderr"
        },
        {
          "output_type": "stream",
          "text": [
            "PROGRESS: 0.39375\n"
          ],
          "name": "stdout"
        },
        {
          "output_type": "stream",
          "text": [
            "\r                                                                               \r\r 39% (190 of 480) |########              | Elapsed Time: 0:02:10 ETA:   0:03:14"
          ],
          "name": "stderr"
        },
        {
          "output_type": "stream",
          "text": [
            "PROGRESS: 0.3958333333333333\n"
          ],
          "name": "stdout"
        },
        {
          "output_type": "stream",
          "text": [
            "\r                                                                               \r\r 39% (191 of 480) |########              | Elapsed Time: 0:02:10 ETA:   0:03:16"
          ],
          "name": "stderr"
        },
        {
          "output_type": "stream",
          "text": [
            "PROGRESS: 0.39791666666666664\n"
          ],
          "name": "stdout"
        },
        {
          "output_type": "stream",
          "text": [
            "\r                                                                               \r\r 40% (192 of 480) |########              | Elapsed Time: 0:02:11 ETA:   0:03:14"
          ],
          "name": "stderr"
        },
        {
          "output_type": "stream",
          "text": [
            "PROGRESS: 0.4\n"
          ],
          "name": "stdout"
        },
        {
          "output_type": "stream",
          "text": [
            "\r                                                                               \r\r 40% (193 of 480) |########              | Elapsed Time: 0:02:12 ETA:   0:03:27"
          ],
          "name": "stderr"
        },
        {
          "output_type": "stream",
          "text": [
            "PROGRESS: 0.40208333333333335\n"
          ],
          "name": "stdout"
        },
        {
          "output_type": "stream",
          "text": [
            "\r                                                                               \r\r 40% (194 of 480) |########              | Elapsed Time: 0:02:12 ETA:   0:03:27"
          ],
          "name": "stderr"
        },
        {
          "output_type": "stream",
          "text": [
            "PROGRESS: 0.4041666666666667\n"
          ],
          "name": "stdout"
        },
        {
          "output_type": "stream",
          "text": [
            "\r                                                                               \r\r 40% (195 of 480) |########              | Elapsed Time: 0:02:13 ETA:   0:03:10"
          ],
          "name": "stderr"
        },
        {
          "output_type": "stream",
          "text": [
            "PROGRESS: 0.40625\n"
          ],
          "name": "stdout"
        },
        {
          "output_type": "stream",
          "text": [
            "\r                                                                               \r\r 40% (196 of 480) |########              | Elapsed Time: 0:02:14 ETA:   0:03:11"
          ],
          "name": "stderr"
        },
        {
          "output_type": "stream",
          "text": [
            "PROGRESS: 0.4083333333333333\n"
          ],
          "name": "stdout"
        },
        {
          "output_type": "stream",
          "text": [
            "\r                                                                               \r\r 41% (197 of 480) |#########             | Elapsed Time: 0:02:14 ETA:   0:03:12"
          ],
          "name": "stderr"
        },
        {
          "output_type": "stream",
          "text": [
            "PROGRESS: 0.41041666666666665\n"
          ],
          "name": "stdout"
        },
        {
          "output_type": "stream",
          "text": [
            "\r                                                                               \r\r 41% (198 of 480) |#########             | Elapsed Time: 0:02:15 ETA:   0:03:24"
          ],
          "name": "stderr"
        },
        {
          "output_type": "stream",
          "text": [
            "PROGRESS: 0.4125\n"
          ],
          "name": "stdout"
        },
        {
          "output_type": "stream",
          "text": [
            "\r                                                                               \r\r 41% (199 of 480) |#########             | Elapsed Time: 0:02:16 ETA:   0:03:23"
          ],
          "name": "stderr"
        },
        {
          "output_type": "stream",
          "text": [
            "PROGRESS: 0.41458333333333336\n"
          ],
          "name": "stdout"
        },
        {
          "output_type": "stream",
          "text": [
            "\r                                                                               \r\r 41% (200 of 480) |#########             | Elapsed Time: 0:02:16 ETA:   0:03:08"
          ],
          "name": "stderr"
        },
        {
          "output_type": "stream",
          "text": [
            "PROGRESS: 0.4166666666666667\n"
          ],
          "name": "stdout"
        },
        {
          "output_type": "stream",
          "text": [
            "\r                                                                               \r\r 41% (201 of 480) |#########             | Elapsed Time: 0:02:17 ETA:   0:03:08"
          ],
          "name": "stderr"
        },
        {
          "output_type": "stream",
          "text": [
            "PROGRESS: 0.41875\n"
          ],
          "name": "stdout"
        },
        {
          "output_type": "stream",
          "text": [
            "\r                                                                               \r\r 42% (202 of 480) |#########             | Elapsed Time: 0:02:18 ETA:   0:03:10"
          ],
          "name": "stderr"
        },
        {
          "output_type": "stream",
          "text": [
            "PROGRESS: 0.42083333333333334\n"
          ],
          "name": "stdout"
        },
        {
          "output_type": "stream",
          "text": [
            "\r                                                                               \r\r 42% (203 of 480) |#########             | Elapsed Time: 0:02:19 ETA:   0:03:21"
          ],
          "name": "stderr"
        },
        {
          "output_type": "stream",
          "text": [
            "PROGRESS: 0.42291666666666666\n"
          ],
          "name": "stdout"
        },
        {
          "output_type": "stream",
          "text": [
            "\r                                                                               \r\r 42% (204 of 480) |#########             | Elapsed Time: 0:02:19 ETA:   0:03:19"
          ],
          "name": "stderr"
        },
        {
          "output_type": "stream",
          "text": [
            "PROGRESS: 0.425\n"
          ],
          "name": "stdout"
        },
        {
          "output_type": "stream",
          "text": [
            "\r                                                                               \r\r 42% (205 of 480) |#########             | Elapsed Time: 0:02:20 ETA:   0:03:03"
          ],
          "name": "stderr"
        },
        {
          "output_type": "stream",
          "text": [
            "PROGRESS: 0.4270833333333333\n"
          ],
          "name": "stdout"
        },
        {
          "output_type": "stream",
          "text": [
            "\r                                                                               \r\r 42% (206 of 480) |#########             | Elapsed Time: 0:02:21 ETA:   0:03:06"
          ],
          "name": "stderr"
        },
        {
          "output_type": "stream",
          "text": [
            "PROGRESS: 0.42916666666666664\n"
          ],
          "name": "stdout"
        },
        {
          "output_type": "stream",
          "text": [
            "\r                                                                               \r\r 43% (207 of 480) |#########             | Elapsed Time: 0:02:21 ETA:   0:03:03"
          ],
          "name": "stderr"
        },
        {
          "output_type": "stream",
          "text": [
            "PROGRESS: 0.43125\n"
          ],
          "name": "stdout"
        },
        {
          "output_type": "stream",
          "text": [
            "\r                                                                               \r\r 43% (208 of 480) |#########             | Elapsed Time: 0:02:22 ETA:   0:03:18"
          ],
          "name": "stderr"
        },
        {
          "output_type": "stream",
          "text": [
            "PROGRESS: 0.43333333333333335\n"
          ],
          "name": "stdout"
        },
        {
          "output_type": "stream",
          "text": [
            "\r                                                                               \r\r 43% (209 of 480) |#########             | Elapsed Time: 0:02:23 ETA:   0:03:18"
          ],
          "name": "stderr"
        },
        {
          "output_type": "stream",
          "text": [
            "PROGRESS: 0.4354166666666667\n"
          ],
          "name": "stdout"
        },
        {
          "output_type": "stream",
          "text": [
            "\r                                                                               \r\r 43% (210 of 480) |#########             | Elapsed Time: 0:02:23 ETA:   0:03:00"
          ],
          "name": "stderr"
        },
        {
          "output_type": "stream",
          "text": [
            "PROGRESS: 0.4375\n"
          ],
          "name": "stdout"
        },
        {
          "output_type": "stream",
          "text": [
            "\r                                                                               \r\r 43% (211 of 480) |#########             | Elapsed Time: 0:02:24 ETA:   0:03:00"
          ],
          "name": "stderr"
        },
        {
          "output_type": "stream",
          "text": [
            "PROGRESS: 0.4395833333333333\n"
          ],
          "name": "stdout"
        },
        {
          "output_type": "stream",
          "text": [
            "\r                                                                               \r\r 44% (212 of 480) |#########             | Elapsed Time: 0:02:25 ETA:   0:02:58"
          ],
          "name": "stderr"
        },
        {
          "output_type": "stream",
          "text": [
            "PROGRESS: 0.44166666666666665\n"
          ],
          "name": "stdout"
        },
        {
          "output_type": "stream",
          "text": [
            "\r                                                                               \r\r 44% (213 of 480) |#########             | Elapsed Time: 0:02:26 ETA:   0:03:13"
          ],
          "name": "stderr"
        },
        {
          "output_type": "stream",
          "text": [
            "PROGRESS: 0.44375\n"
          ],
          "name": "stdout"
        },
        {
          "output_type": "stream",
          "text": [
            "\r                                                                               \r\r 44% (214 of 480) |#########             | Elapsed Time: 0:02:26 ETA:   0:03:11"
          ],
          "name": "stderr"
        },
        {
          "output_type": "stream",
          "text": [
            "PROGRESS: 0.44583333333333336\n"
          ],
          "name": "stdout"
        },
        {
          "output_type": "stream",
          "text": [
            "\r                                                                               \r\r 44% (215 of 480) |#########             | Elapsed Time: 0:02:27 ETA:   0:02:58"
          ],
          "name": "stderr"
        },
        {
          "output_type": "stream",
          "text": [
            "PROGRESS: 0.4479166666666667\n"
          ],
          "name": "stdout"
        },
        {
          "output_type": "stream",
          "text": [
            "\r                                                                               \r\r 45% (216 of 480) |#########             | Elapsed Time: 0:02:28 ETA:   0:02:58"
          ],
          "name": "stderr"
        },
        {
          "output_type": "stream",
          "text": [
            "PROGRESS: 0.45\n"
          ],
          "name": "stdout"
        },
        {
          "output_type": "stream",
          "text": [
            "\r                                                                               \r\r 45% (217 of 480) |#########             | Elapsed Time: 0:02:28 ETA:   0:02:58"
          ],
          "name": "stderr"
        },
        {
          "output_type": "stream",
          "text": [
            "PROGRESS: 0.45208333333333334\n"
          ],
          "name": "stdout"
        },
        {
          "output_type": "stream",
          "text": [
            "\r                                                                               \r\r 45% (218 of 480) |#########             | Elapsed Time: 0:02:29 ETA:   0:03:11"
          ],
          "name": "stderr"
        },
        {
          "output_type": "stream",
          "text": [
            "PROGRESS: 0.45416666666666666\n"
          ],
          "name": "stdout"
        },
        {
          "output_type": "stream",
          "text": [
            "\r                                                                               \r\r 45% (219 of 480) |##########            | Elapsed Time: 0:02:30 ETA:   0:03:10"
          ],
          "name": "stderr"
        },
        {
          "output_type": "stream",
          "text": [
            "PROGRESS: 0.45625\n"
          ],
          "name": "stdout"
        },
        {
          "output_type": "stream",
          "text": [
            "\r                                                                               \r\r 45% (220 of 480) |##########            | Elapsed Time: 0:02:30 ETA:   0:02:55"
          ],
          "name": "stderr"
        },
        {
          "output_type": "stream",
          "text": [
            "PROGRESS: 0.4583333333333333\n"
          ],
          "name": "stdout"
        },
        {
          "output_type": "stream",
          "text": [
            "\r                                                                               \r\r 46% (221 of 480) |##########            | Elapsed Time: 0:02:31 ETA:   0:02:56"
          ],
          "name": "stderr"
        },
        {
          "output_type": "stream",
          "text": [
            "PROGRESS: 0.46041666666666664\n"
          ],
          "name": "stdout"
        },
        {
          "output_type": "stream",
          "text": [
            "\r                                                                               \r\r 46% (222 of 480) |##########            | Elapsed Time: 0:02:32 ETA:   0:02:54"
          ],
          "name": "stderr"
        },
        {
          "output_type": "stream",
          "text": [
            "PROGRESS: 0.4625\n"
          ],
          "name": "stdout"
        },
        {
          "output_type": "stream",
          "text": [
            "\r                                                                               \r\r 46% (223 of 480) |##########            | Elapsed Time: 0:02:32 ETA:   0:03:02"
          ],
          "name": "stderr"
        },
        {
          "output_type": "stream",
          "text": [
            "PROGRESS: 0.46458333333333335\n"
          ],
          "name": "stdout"
        },
        {
          "output_type": "stream",
          "text": [
            "\r                                                                               \r\r 46% (224 of 480) |##########            | Elapsed Time: 0:02:33 ETA:   0:03:03"
          ],
          "name": "stderr"
        },
        {
          "output_type": "stream",
          "text": [
            "PROGRESS: 0.4666666666666667\n"
          ],
          "name": "stdout"
        },
        {
          "output_type": "stream",
          "text": [
            "\r                                                                               \r\r 46% (225 of 480) |##########            | Elapsed Time: 0:02:34 ETA:   0:02:52"
          ],
          "name": "stderr"
        },
        {
          "output_type": "stream",
          "text": [
            "PROGRESS: 0.46875\n"
          ],
          "name": "stdout"
        },
        {
          "output_type": "stream",
          "text": [
            "\r                                                                               \r\r 47% (226 of 480) |##########            | Elapsed Time: 0:02:34 ETA:   0:02:51"
          ],
          "name": "stderr"
        },
        {
          "output_type": "stream",
          "text": [
            "PROGRESS: 0.4708333333333333\n"
          ],
          "name": "stdout"
        },
        {
          "output_type": "stream",
          "text": [
            "\r                                                                               \r\r 47% (227 of 480) |##########            | Elapsed Time: 0:02:35 ETA:   0:02:49"
          ],
          "name": "stderr"
        },
        {
          "output_type": "stream",
          "text": [
            "PROGRESS: 0.47291666666666665\n"
          ],
          "name": "stdout"
        },
        {
          "output_type": "stream",
          "text": [
            "\r                                                                               \r\r 47% (228 of 480) |##########            | Elapsed Time: 0:02:36 ETA:   0:03:00"
          ],
          "name": "stderr"
        },
        {
          "output_type": "stream",
          "text": [
            "PROGRESS: 0.475\n"
          ],
          "name": "stdout"
        },
        {
          "output_type": "stream",
          "text": [
            "\r                                                                               \r\r 47% (229 of 480) |##########            | Elapsed Time: 0:02:37 ETA:   0:02:56"
          ],
          "name": "stderr"
        },
        {
          "output_type": "stream",
          "text": [
            "PROGRESS: 0.47708333333333336\n"
          ],
          "name": "stdout"
        },
        {
          "output_type": "stream",
          "text": [
            "\r                                                                               \r\r 47% (230 of 480) |##########            | Elapsed Time: 0:02:37 ETA:   0:02:45"
          ],
          "name": "stderr"
        },
        {
          "output_type": "stream",
          "text": [
            "PROGRESS: 0.4791666666666667\n"
          ],
          "name": "stdout"
        },
        {
          "output_type": "stream",
          "text": [
            "\r                                                                               \r\r 48% (231 of 480) |##########            | Elapsed Time: 0:02:38 ETA:   0:02:44"
          ],
          "name": "stderr"
        },
        {
          "output_type": "stream",
          "text": [
            "PROGRESS: 0.48125\n"
          ],
          "name": "stdout"
        },
        {
          "output_type": "stream",
          "text": [
            "\r                                                                               \r\r 48% (232 of 480) |##########            | Elapsed Time: 0:02:39 ETA:   0:02:45"
          ],
          "name": "stderr"
        },
        {
          "output_type": "stream",
          "text": [
            "PROGRESS: 0.48333333333333334\n"
          ],
          "name": "stdout"
        },
        {
          "output_type": "stream",
          "text": [
            "\r                                                                               \r\r 48% (233 of 480) |##########            | Elapsed Time: 0:02:39 ETA:   0:02:56"
          ],
          "name": "stderr"
        },
        {
          "output_type": "stream",
          "text": [
            "PROGRESS: 0.48541666666666666\n"
          ],
          "name": "stdout"
        },
        {
          "output_type": "stream",
          "text": [
            "\r                                                                               \r\r 48% (234 of 480) |##########            | Elapsed Time: 0:02:40 ETA:   0:02:55"
          ],
          "name": "stderr"
        },
        {
          "output_type": "stream",
          "text": [
            "PROGRESS: 0.4875\n"
          ],
          "name": "stdout"
        },
        {
          "output_type": "stream",
          "text": [
            "\r                                                                               \r\r 48% (235 of 480) |##########            | Elapsed Time: 0:02:40 ETA:   0:02:44"
          ],
          "name": "stderr"
        },
        {
          "output_type": "stream",
          "text": [
            "PROGRESS: 0.4895833333333333\n"
          ],
          "name": "stdout"
        },
        {
          "output_type": "stream",
          "text": [
            "\r                                                                               \r\r 49% (236 of 480) |##########            | Elapsed Time: 0:02:41 ETA:   0:02:43"
          ],
          "name": "stderr"
        },
        {
          "output_type": "stream",
          "text": [
            "PROGRESS: 0.49166666666666664\n"
          ],
          "name": "stdout"
        },
        {
          "output_type": "stream",
          "text": [
            "\r                                                                               \r\r 49% (237 of 480) |##########            | Elapsed Time: 0:02:42 ETA:   0:02:41"
          ],
          "name": "stderr"
        },
        {
          "output_type": "stream",
          "text": [
            "PROGRESS: 0.49375\n"
          ],
          "name": "stdout"
        },
        {
          "output_type": "stream",
          "text": [
            "\r                                                                               \r\r 49% (238 of 480) |##########            | Elapsed Time: 0:02:43 ETA:   0:02:53"
          ],
          "name": "stderr"
        },
        {
          "output_type": "stream",
          "text": [
            "PROGRESS: 0.49583333333333335\n"
          ],
          "name": "stdout"
        },
        {
          "output_type": "stream",
          "text": [
            "\r                                                                               \r\r 49% (239 of 480) |##########            | Elapsed Time: 0:02:43 ETA:   0:02:52"
          ],
          "name": "stderr"
        },
        {
          "output_type": "stream",
          "text": [
            "PROGRESS: 0.4979166666666667\n"
          ],
          "name": "stdout"
        },
        {
          "output_type": "stream",
          "text": [
            "\r                                                                               \r\r 50% (240 of 480) |###########           | Elapsed Time: 0:02:44 ETA:   0:02:40"
          ],
          "name": "stderr"
        },
        {
          "output_type": "stream",
          "text": [
            "PROGRESS: 0.5\n",
            "Number of GPUS detected by FAISS: 1\n"
          ],
          "name": "stdout"
        },
        {
          "output_type": "stream",
          "text": [
            "\r                                                                               \r\r 50% (241 of 480) |###########           | Elapsed Time: 0:02:46 ETA:   0:04:41"
          ],
          "name": "stderr"
        },
        {
          "output_type": "stream",
          "text": [
            "PROGRESS: 0.5020833333333333\n"
          ],
          "name": "stdout"
        },
        {
          "output_type": "stream",
          "text": [
            "\r                                                                               \r\r 50% (242 of 480) |###########           | Elapsed Time: 0:02:46 ETA:   0:04:57"
          ],
          "name": "stderr"
        },
        {
          "output_type": "stream",
          "text": [
            "PROGRESS: 0.5041666666666667\n"
          ],
          "name": "stdout"
        },
        {
          "output_type": "stream",
          "text": [
            "\r                                                                               \r\r 50% (243 of 480) |###########           | Elapsed Time: 0:02:47 ETA:   0:04:12"
          ],
          "name": "stderr"
        },
        {
          "output_type": "stream",
          "text": [
            "PROGRESS: 0.50625\n"
          ],
          "name": "stdout"
        },
        {
          "output_type": "stream",
          "text": [
            "\r                                                                               \r\r 50% (244 of 480) |###########           | Elapsed Time: 0:02:48 ETA:   0:02:47"
          ],
          "name": "stderr"
        },
        {
          "output_type": "stream",
          "text": [
            "PROGRESS: 0.5083333333333333\n"
          ],
          "name": "stdout"
        },
        {
          "output_type": "stream",
          "text": [
            "\r                                                                               \r\r 51% (245 of 480) |###########           | Elapsed Time: 0:02:48 ETA:   0:02:38"
          ],
          "name": "stderr"
        },
        {
          "output_type": "stream",
          "text": [
            "PROGRESS: 0.5104166666666666\n"
          ],
          "name": "stdout"
        },
        {
          "output_type": "stream",
          "text": [
            "\r                                                                               \r\r 51% (246 of 480) |###########           | Elapsed Time: 0:02:49 ETA:   0:02:36"
          ],
          "name": "stderr"
        },
        {
          "output_type": "stream",
          "text": [
            "PROGRESS: 0.5125\n"
          ],
          "name": "stdout"
        },
        {
          "output_type": "stream",
          "text": [
            "\r                                                                               \r\r 51% (247 of 480) |###########           | Elapsed Time: 0:02:50 ETA:   0:02:36"
          ],
          "name": "stderr"
        },
        {
          "output_type": "stream",
          "text": [
            "PROGRESS: 0.5145833333333333\n"
          ],
          "name": "stdout"
        },
        {
          "output_type": "stream",
          "text": [
            "\r                                                                               \r\r 51% (248 of 480) |###########           | Elapsed Time: 0:02:51 ETA:   0:02:48"
          ],
          "name": "stderr"
        },
        {
          "output_type": "stream",
          "text": [
            "PROGRESS: 0.5166666666666667\n"
          ],
          "name": "stdout"
        },
        {
          "output_type": "stream",
          "text": [
            "\r                                                                               \r\r 51% (249 of 480) |###########           | Elapsed Time: 0:02:51 ETA:   0:02:48"
          ],
          "name": "stderr"
        },
        {
          "output_type": "stream",
          "text": [
            "PROGRESS: 0.51875\n"
          ],
          "name": "stdout"
        },
        {
          "output_type": "stream",
          "text": [
            "\r                                                                               \r\r 52% (250 of 480) |###########           | Elapsed Time: 0:02:52 ETA:   0:02:34"
          ],
          "name": "stderr"
        },
        {
          "output_type": "stream",
          "text": [
            "PROGRESS: 0.5208333333333334\n"
          ],
          "name": "stdout"
        },
        {
          "output_type": "stream",
          "text": [
            "\r                                                                               \r\r 52% (251 of 480) |###########           | Elapsed Time: 0:02:53 ETA:   0:02:32"
          ],
          "name": "stderr"
        },
        {
          "output_type": "stream",
          "text": [
            "PROGRESS: 0.5229166666666667\n"
          ],
          "name": "stdout"
        },
        {
          "output_type": "stream",
          "text": [
            "\r                                                                               \r\r 52% (252 of 480) |###########           | Elapsed Time: 0:02:53 ETA:   0:02:34"
          ],
          "name": "stderr"
        },
        {
          "output_type": "stream",
          "text": [
            "PROGRESS: 0.525\n"
          ],
          "name": "stdout"
        },
        {
          "output_type": "stream",
          "text": [
            "\r                                                                               \r\r 52% (253 of 480) |###########           | Elapsed Time: 0:02:54 ETA:   0:02:41"
          ],
          "name": "stderr"
        },
        {
          "output_type": "stream",
          "text": [
            "PROGRESS: 0.5270833333333333\n"
          ],
          "name": "stdout"
        },
        {
          "output_type": "stream",
          "text": [
            "\r                                                                               \r\r 52% (254 of 480) |###########           | Elapsed Time: 0:02:55 ETA:   0:02:39"
          ],
          "name": "stderr"
        },
        {
          "output_type": "stream",
          "text": [
            "PROGRESS: 0.5291666666666667\n"
          ],
          "name": "stdout"
        },
        {
          "output_type": "stream",
          "text": [
            "\r                                                                               \r\r 53% (255 of 480) |###########           | Elapsed Time: 0:02:55 ETA:   0:02:30"
          ],
          "name": "stderr"
        },
        {
          "output_type": "stream",
          "text": [
            "PROGRESS: 0.53125\n"
          ],
          "name": "stdout"
        },
        {
          "output_type": "stream",
          "text": [
            "\r                                                                               \r\r 53% (256 of 480) |###########           | Elapsed Time: 0:02:56 ETA:   0:02:31"
          ],
          "name": "stderr"
        },
        {
          "output_type": "stream",
          "text": [
            "PROGRESS: 0.5333333333333333\n"
          ],
          "name": "stdout"
        },
        {
          "output_type": "stream",
          "text": [
            "\r                                                                               \r\r 53% (257 of 480) |###########           | Elapsed Time: 0:02:57 ETA:   0:02:28"
          ],
          "name": "stderr"
        },
        {
          "output_type": "stream",
          "text": [
            "PROGRESS: 0.5354166666666667\n"
          ],
          "name": "stdout"
        },
        {
          "output_type": "stream",
          "text": [
            "\r                                                                               \r\r 53% (258 of 480) |###########           | Elapsed Time: 0:02:57 ETA:   0:02:40"
          ],
          "name": "stderr"
        },
        {
          "output_type": "stream",
          "text": [
            "PROGRESS: 0.5375\n"
          ],
          "name": "stdout"
        },
        {
          "output_type": "stream",
          "text": [
            "\r                                                                               \r\r 53% (259 of 480) |###########           | Elapsed Time: 0:02:58 ETA:   0:02:36"
          ],
          "name": "stderr"
        },
        {
          "output_type": "stream",
          "text": [
            "PROGRESS: 0.5395833333333333\n"
          ],
          "name": "stdout"
        },
        {
          "output_type": "stream",
          "text": [
            "\r                                                                               \r\r 54% (260 of 480) |###########           | Elapsed Time: 0:02:59 ETA:   0:02:26"
          ],
          "name": "stderr"
        },
        {
          "output_type": "stream",
          "text": [
            "PROGRESS: 0.5416666666666666\n"
          ],
          "name": "stdout"
        },
        {
          "output_type": "stream",
          "text": [
            "\r                                                                               \r\r 54% (261 of 480) |###########           | Elapsed Time: 0:02:59 ETA:   0:02:27"
          ],
          "name": "stderr"
        },
        {
          "output_type": "stream",
          "text": [
            "PROGRESS: 0.54375\n"
          ],
          "name": "stdout"
        },
        {
          "output_type": "stream",
          "text": [
            "\r                                                                               \r\r 54% (262 of 480) |############          | Elapsed Time: 0:03:00 ETA:   0:02:26"
          ],
          "name": "stderr"
        },
        {
          "output_type": "stream",
          "text": [
            "PROGRESS: 0.5458333333333333\n"
          ],
          "name": "stdout"
        },
        {
          "output_type": "stream",
          "text": [
            "\r                                                                               \r\r 54% (263 of 480) |############          | Elapsed Time: 0:03:01 ETA:   0:02:36"
          ],
          "name": "stderr"
        },
        {
          "output_type": "stream",
          "text": [
            "PROGRESS: 0.5479166666666667\n"
          ],
          "name": "stdout"
        },
        {
          "output_type": "stream",
          "text": [
            "\r                                                                               \r\r 55% (264 of 480) |############          | Elapsed Time: 0:03:02 ETA:   0:02:35"
          ],
          "name": "stderr"
        },
        {
          "output_type": "stream",
          "text": [
            "PROGRESS: 0.55\n"
          ],
          "name": "stdout"
        },
        {
          "output_type": "stream",
          "text": [
            "\r                                                                               \r\r 55% (265 of 480) |############          | Elapsed Time: 0:03:02 ETA:   0:02:26"
          ],
          "name": "stderr"
        },
        {
          "output_type": "stream",
          "text": [
            "PROGRESS: 0.5520833333333334\n"
          ],
          "name": "stdout"
        },
        {
          "output_type": "stream",
          "text": [
            "\r                                                                               \r\r 55% (266 of 480) |############          | Elapsed Time: 0:03:03 ETA:   0:02:23"
          ],
          "name": "stderr"
        },
        {
          "output_type": "stream",
          "text": [
            "PROGRESS: 0.5541666666666667\n"
          ],
          "name": "stdout"
        },
        {
          "output_type": "stream",
          "text": [
            "\r                                                                               \r\r 55% (267 of 480) |############          | Elapsed Time: 0:03:04 ETA:   0:02:24"
          ],
          "name": "stderr"
        },
        {
          "output_type": "stream",
          "text": [
            "PROGRESS: 0.55625\n"
          ],
          "name": "stdout"
        },
        {
          "output_type": "stream",
          "text": [
            "\r                                                                               \r\r 55% (268 of 480) |############          | Elapsed Time: 0:03:04 ETA:   0:02:32"
          ],
          "name": "stderr"
        },
        {
          "output_type": "stream",
          "text": [
            "PROGRESS: 0.5583333333333333\n"
          ],
          "name": "stdout"
        },
        {
          "output_type": "stream",
          "text": [
            "\r                                                                               \r\r 56% (269 of 480) |############          | Elapsed Time: 0:03:05 ETA:   0:02:31"
          ],
          "name": "stderr"
        },
        {
          "output_type": "stream",
          "text": [
            "PROGRESS: 0.5604166666666667\n"
          ],
          "name": "stdout"
        },
        {
          "output_type": "stream",
          "text": [
            "\r                                                                               \r\r 56% (270 of 480) |############          | Elapsed Time: 0:03:06 ETA:   0:02:21"
          ],
          "name": "stderr"
        },
        {
          "output_type": "stream",
          "text": [
            "PROGRESS: 0.5625\n"
          ],
          "name": "stdout"
        },
        {
          "output_type": "stream",
          "text": [
            "\r                                                                               \r\r 56% (271 of 480) |############          | Elapsed Time: 0:03:06 ETA:   0:02:22"
          ],
          "name": "stderr"
        },
        {
          "output_type": "stream",
          "text": [
            "PROGRESS: 0.5645833333333333\n"
          ],
          "name": "stdout"
        },
        {
          "output_type": "stream",
          "text": [
            "\r                                                                               \r\r 56% (272 of 480) |############          | Elapsed Time: 0:03:07 ETA:   0:02:21"
          ],
          "name": "stderr"
        },
        {
          "output_type": "stream",
          "text": [
            "PROGRESS: 0.5666666666666667\n"
          ],
          "name": "stdout"
        },
        {
          "output_type": "stream",
          "text": [
            "\r                                                                               \r\r 56% (273 of 480) |############          | Elapsed Time: 0:03:08 ETA:   0:02:32"
          ],
          "name": "stderr"
        },
        {
          "output_type": "stream",
          "text": [
            "PROGRESS: 0.56875\n"
          ],
          "name": "stdout"
        },
        {
          "output_type": "stream",
          "text": [
            "\r                                                                               \r\r 57% (274 of 480) |############          | Elapsed Time: 0:03:08 ETA:   0:02:30"
          ],
          "name": "stderr"
        },
        {
          "output_type": "stream",
          "text": [
            "PROGRESS: 0.5708333333333333\n"
          ],
          "name": "stdout"
        },
        {
          "output_type": "stream",
          "text": [
            "\r                                                                               \r\r 57% (275 of 480) |############          | Elapsed Time: 0:03:09 ETA:   0:02:18"
          ],
          "name": "stderr"
        },
        {
          "output_type": "stream",
          "text": [
            "PROGRESS: 0.5729166666666666\n"
          ],
          "name": "stdout"
        },
        {
          "output_type": "stream",
          "text": [
            "\r                                                                               \r\r 57% (276 of 480) |############          | Elapsed Time: 0:03:10 ETA:   0:02:17"
          ],
          "name": "stderr"
        },
        {
          "output_type": "stream",
          "text": [
            "PROGRESS: 0.575\n"
          ],
          "name": "stdout"
        },
        {
          "output_type": "stream",
          "text": [
            "\r                                                                               \r\r 57% (277 of 480) |############          | Elapsed Time: 0:03:10 ETA:   0:02:15"
          ],
          "name": "stderr"
        },
        {
          "output_type": "stream",
          "text": [
            "PROGRESS: 0.5770833333333333\n"
          ],
          "name": "stdout"
        },
        {
          "output_type": "stream",
          "text": [
            "\r                                                                               \r\r 57% (278 of 480) |############          | Elapsed Time: 0:03:11 ETA:   0:02:26"
          ],
          "name": "stderr"
        },
        {
          "output_type": "stream",
          "text": [
            "PROGRESS: 0.5791666666666667\n"
          ],
          "name": "stdout"
        },
        {
          "output_type": "stream",
          "text": [
            "\r                                                                               \r\r 58% (279 of 480) |############          | Elapsed Time: 0:03:12 ETA:   0:02:25"
          ],
          "name": "stderr"
        },
        {
          "output_type": "stream",
          "text": [
            "PROGRESS: 0.58125\n"
          ],
          "name": "stdout"
        },
        {
          "output_type": "stream",
          "text": [
            "\r                                                                               \r\r 58% (280 of 480) |############          | Elapsed Time: 0:03:13 ETA:   0:02:15"
          ],
          "name": "stderr"
        },
        {
          "output_type": "stream",
          "text": [
            "PROGRESS: 0.5833333333333334\n"
          ],
          "name": "stdout"
        },
        {
          "output_type": "stream",
          "text": [
            "/content/tf_labelprop/src/tf_labelprop/gssl/graph/gssl_utils.py:167: RuntimeWarning:\n",
            "\n",
            "invalid value encountered in true_divide\n",
            "\n",
            " 58% (281 of 480) |############          | Elapsed Time: 0:03:13 ETA:   0:02:15"
          ],
          "name": "stderr"
        },
        {
          "output_type": "stream",
          "text": [
            "PROGRESS: 0.5854166666666667\n"
          ],
          "name": "stdout"
        },
        {
          "output_type": "stream",
          "text": [
            "/content/tf_labelprop/src/tf_labelprop/gssl/graph/gssl_utils.py:167: RuntimeWarning:\n",
            "\n",
            "invalid value encountered in true_divide\n",
            "\n",
            " 58% (282 of 480) |############          | Elapsed Time: 0:03:14 ETA:   0:02:15"
          ],
          "name": "stderr"
        },
        {
          "output_type": "stream",
          "text": [
            "PROGRESS: 0.5875\n"
          ],
          "name": "stdout"
        },
        {
          "output_type": "stream",
          "text": [
            "/content/tf_labelprop/src/tf_labelprop/gssl/graph/gssl_utils.py:167: RuntimeWarning:\n",
            "\n",
            "invalid value encountered in true_divide\n",
            "\n",
            " 58% (283 of 480) |############          | Elapsed Time: 0:03:15 ETA:   0:02:25"
          ],
          "name": "stderr"
        },
        {
          "output_type": "stream",
          "text": [
            "PROGRESS: 0.5895833333333333\n"
          ],
          "name": "stdout"
        },
        {
          "output_type": "stream",
          "text": [
            "/content/tf_labelprop/src/tf_labelprop/gssl/graph/gssl_utils.py:167: RuntimeWarning:\n",
            "\n",
            "invalid value encountered in true_divide\n",
            "\n",
            " 59% (284 of 480) |#############         | Elapsed Time: 0:03:15 ETA:   0:02:24"
          ],
          "name": "stderr"
        },
        {
          "output_type": "stream",
          "text": [
            "PROGRESS: 0.5916666666666667\n"
          ],
          "name": "stdout"
        },
        {
          "output_type": "stream",
          "text": [
            "/content/tf_labelprop/src/tf_labelprop/gssl/graph/gssl_utils.py:167: RuntimeWarning:\n",
            "\n",
            "invalid value encountered in true_divide\n",
            "\n",
            " 59% (285 of 480) |#############         | Elapsed Time: 0:03:16 ETA:   0:02:14"
          ],
          "name": "stderr"
        },
        {
          "output_type": "stream",
          "text": [
            "PROGRESS: 0.59375\n"
          ],
          "name": "stdout"
        },
        {
          "output_type": "stream",
          "text": [
            "/content/tf_labelprop/src/tf_labelprop/gssl/graph/gssl_utils.py:167: RuntimeWarning:\n",
            "\n",
            "invalid value encountered in true_divide\n",
            "\n",
            " 59% (286 of 480) |#############         | Elapsed Time: 0:03:17 ETA:   0:02:14"
          ],
          "name": "stderr"
        },
        {
          "output_type": "stream",
          "text": [
            "PROGRESS: 0.5958333333333333\n"
          ],
          "name": "stdout"
        },
        {
          "output_type": "stream",
          "text": [
            "/content/tf_labelprop/src/tf_labelprop/gssl/graph/gssl_utils.py:167: RuntimeWarning:\n",
            "\n",
            "invalid value encountered in true_divide\n",
            "\n",
            " 59% (287 of 480) |#############         | Elapsed Time: 0:03:18 ETA:   0:02:11"
          ],
          "name": "stderr"
        },
        {
          "output_type": "stream",
          "text": [
            "PROGRESS: 0.5979166666666667\n"
          ],
          "name": "stdout"
        },
        {
          "output_type": "stream",
          "text": [
            "/content/tf_labelprop/src/tf_labelprop/gssl/graph/gssl_utils.py:167: RuntimeWarning:\n",
            "\n",
            "invalid value encountered in true_divide\n",
            "\n",
            " 60% (288 of 480) |#############         | Elapsed Time: 0:03:18 ETA:   0:02:20"
          ],
          "name": "stderr"
        },
        {
          "output_type": "stream",
          "text": [
            "PROGRESS: 0.6\n"
          ],
          "name": "stdout"
        },
        {
          "output_type": "stream",
          "text": [
            "/content/tf_labelprop/src/tf_labelprop/gssl/graph/gssl_utils.py:167: RuntimeWarning:\n",
            "\n",
            "invalid value encountered in true_divide\n",
            "\n",
            " 60% (289 of 480) |#############         | Elapsed Time: 0:03:19 ETA:   0:02:17"
          ],
          "name": "stderr"
        },
        {
          "output_type": "stream",
          "text": [
            "PROGRESS: 0.6020833333333333\n"
          ],
          "name": "stdout"
        },
        {
          "output_type": "stream",
          "text": [
            "/content/tf_labelprop/src/tf_labelprop/gssl/graph/gssl_utils.py:167: RuntimeWarning:\n",
            "\n",
            "invalid value encountered in true_divide\n",
            "\n",
            " 60% (290 of 480) |#############         | Elapsed Time: 0:03:20 ETA:   0:02:06"
          ],
          "name": "stderr"
        },
        {
          "output_type": "stream",
          "text": [
            "PROGRESS: 0.6041666666666666\n"
          ],
          "name": "stdout"
        },
        {
          "output_type": "stream",
          "text": [
            "/content/tf_labelprop/src/tf_labelprop/gssl/graph/gssl_utils.py:167: RuntimeWarning:\n",
            "\n",
            "invalid value encountered in true_divide\n",
            "\n",
            " 60% (291 of 480) |#############         | Elapsed Time: 0:03:20 ETA:   0:02:08"
          ],
          "name": "stderr"
        },
        {
          "output_type": "stream",
          "text": [
            "PROGRESS: 0.60625\n"
          ],
          "name": "stdout"
        },
        {
          "output_type": "stream",
          "text": [
            "/content/tf_labelprop/src/tf_labelprop/gssl/graph/gssl_utils.py:167: RuntimeWarning:\n",
            "\n",
            "invalid value encountered in true_divide\n",
            "\n",
            " 60% (292 of 480) |#############         | Elapsed Time: 0:03:21 ETA:   0:02:06"
          ],
          "name": "stderr"
        },
        {
          "output_type": "stream",
          "text": [
            "PROGRESS: 0.6083333333333333\n"
          ],
          "name": "stdout"
        },
        {
          "output_type": "stream",
          "text": [
            "/content/tf_labelprop/src/tf_labelprop/gssl/graph/gssl_utils.py:167: RuntimeWarning:\n",
            "\n",
            "invalid value encountered in true_divide\n",
            "\n",
            " 61% (293 of 480) |#############         | Elapsed Time: 0:03:22 ETA:   0:02:16"
          ],
          "name": "stderr"
        },
        {
          "output_type": "stream",
          "text": [
            "PROGRESS: 0.6104166666666667\n"
          ],
          "name": "stdout"
        },
        {
          "output_type": "stream",
          "text": [
            "/content/tf_labelprop/src/tf_labelprop/gssl/graph/gssl_utils.py:167: RuntimeWarning:\n",
            "\n",
            "invalid value encountered in true_divide\n",
            "\n",
            " 61% (294 of 480) |#############         | Elapsed Time: 0:03:22 ETA:   0:02:18"
          ],
          "name": "stderr"
        },
        {
          "output_type": "stream",
          "text": [
            "PROGRESS: 0.6125\n"
          ],
          "name": "stdout"
        },
        {
          "output_type": "stream",
          "text": [
            "/content/tf_labelprop/src/tf_labelprop/gssl/graph/gssl_utils.py:167: RuntimeWarning:\n",
            "\n",
            "invalid value encountered in true_divide\n",
            "\n",
            " 61% (295 of 480) |#############         | Elapsed Time: 0:03:23 ETA:   0:02:07"
          ],
          "name": "stderr"
        },
        {
          "output_type": "stream",
          "text": [
            "PROGRESS: 0.6145833333333334\n"
          ],
          "name": "stdout"
        },
        {
          "output_type": "stream",
          "text": [
            "/content/tf_labelprop/src/tf_labelprop/gssl/graph/gssl_utils.py:167: RuntimeWarning:\n",
            "\n",
            "invalid value encountered in true_divide\n",
            "\n",
            " 61% (296 of 480) |#############         | Elapsed Time: 0:03:24 ETA:   0:02:05"
          ],
          "name": "stderr"
        },
        {
          "output_type": "stream",
          "text": [
            "PROGRESS: 0.6166666666666667\n"
          ],
          "name": "stdout"
        },
        {
          "output_type": "stream",
          "text": [
            "/content/tf_labelprop/src/tf_labelprop/gssl/graph/gssl_utils.py:167: RuntimeWarning:\n",
            "\n",
            "invalid value encountered in true_divide\n",
            "\n",
            " 61% (297 of 480) |#############         | Elapsed Time: 0:03:25 ETA:   0:02:04"
          ],
          "name": "stderr"
        },
        {
          "output_type": "stream",
          "text": [
            "PROGRESS: 0.61875\n"
          ],
          "name": "stdout"
        },
        {
          "output_type": "stream",
          "text": [
            "/content/tf_labelprop/src/tf_labelprop/gssl/graph/gssl_utils.py:167: RuntimeWarning:\n",
            "\n",
            "invalid value encountered in true_divide\n",
            "\n",
            " 62% (298 of 480) |#############         | Elapsed Time: 0:03:25 ETA:   0:02:12"
          ],
          "name": "stderr"
        },
        {
          "output_type": "stream",
          "text": [
            "PROGRESS: 0.6208333333333333\n"
          ],
          "name": "stdout"
        },
        {
          "output_type": "stream",
          "text": [
            "/content/tf_labelprop/src/tf_labelprop/gssl/graph/gssl_utils.py:167: RuntimeWarning:\n",
            "\n",
            "invalid value encountered in true_divide\n",
            "\n",
            " 62% (299 of 480) |#############         | Elapsed Time: 0:03:26 ETA:   0:02:12"
          ],
          "name": "stderr"
        },
        {
          "output_type": "stream",
          "text": [
            "PROGRESS: 0.6229166666666667\n"
          ],
          "name": "stdout"
        },
        {
          "output_type": "stream",
          "text": [
            "/content/tf_labelprop/src/tf_labelprop/gssl/graph/gssl_utils.py:167: RuntimeWarning:\n",
            "\n",
            "invalid value encountered in true_divide\n",
            "\n",
            " 62% (300 of 480) |#############         | Elapsed Time: 0:03:27 ETA:   0:02:00"
          ],
          "name": "stderr"
        },
        {
          "output_type": "stream",
          "text": [
            "PROGRESS: 0.625\n"
          ],
          "name": "stdout"
        },
        {
          "output_type": "stream",
          "text": [
            "\r                                                                               \r\r 62% (301 of 480) |#############         | Elapsed Time: 0:03:27 ETA:   0:02:02"
          ],
          "name": "stderr"
        },
        {
          "output_type": "stream",
          "text": [
            "PROGRESS: 0.6270833333333333\n"
          ],
          "name": "stdout"
        },
        {
          "output_type": "stream",
          "text": [
            "\r                                                                               \r\r 62% (302 of 480) |#############         | Elapsed Time: 0:03:28 ETA:   0:02:01"
          ],
          "name": "stderr"
        },
        {
          "output_type": "stream",
          "text": [
            "PROGRESS: 0.6291666666666667\n"
          ],
          "name": "stdout"
        },
        {
          "output_type": "stream",
          "text": [
            "\r                                                                               \r\r 63% (303 of 480) |#############         | Elapsed Time: 0:03:29 ETA:   0:02:11"
          ],
          "name": "stderr"
        },
        {
          "output_type": "stream",
          "text": [
            "PROGRESS: 0.63125\n"
          ],
          "name": "stdout"
        },
        {
          "output_type": "stream",
          "text": [
            "\r                                                                               \r\r 63% (304 of 480) |#############         | Elapsed Time: 0:03:29 ETA:   0:02:09"
          ],
          "name": "stderr"
        },
        {
          "output_type": "stream",
          "text": [
            "PROGRESS: 0.6333333333333333\n"
          ],
          "name": "stdout"
        },
        {
          "output_type": "stream",
          "text": [
            "\r                                                                               \r\r 63% (305 of 480) |#############         | Elapsed Time: 0:03:30 ETA:   0:01:58"
          ],
          "name": "stderr"
        },
        {
          "output_type": "stream",
          "text": [
            "PROGRESS: 0.6354166666666666\n"
          ],
          "name": "stdout"
        },
        {
          "output_type": "stream",
          "text": [
            "\r                                                                               \r\r 63% (306 of 480) |##############        | Elapsed Time: 0:03:31 ETA:   0:01:57"
          ],
          "name": "stderr"
        },
        {
          "output_type": "stream",
          "text": [
            "PROGRESS: 0.6375\n"
          ],
          "name": "stdout"
        },
        {
          "output_type": "stream",
          "text": [
            "\r                                                                               \r\r 63% (307 of 480) |##############        | Elapsed Time: 0:03:32 ETA:   0:01:57"
          ],
          "name": "stderr"
        },
        {
          "output_type": "stream",
          "text": [
            "PROGRESS: 0.6395833333333333\n"
          ],
          "name": "stdout"
        },
        {
          "output_type": "stream",
          "text": [
            "\r                                                                               \r\r 64% (308 of 480) |##############        | Elapsed Time: 0:03:32 ETA:   0:02:06"
          ],
          "name": "stderr"
        },
        {
          "output_type": "stream",
          "text": [
            "PROGRESS: 0.6416666666666667\n"
          ],
          "name": "stdout"
        },
        {
          "output_type": "stream",
          "text": [
            "\r                                                                               \r\r 64% (309 of 480) |##############        | Elapsed Time: 0:03:33 ETA:   0:02:05"
          ],
          "name": "stderr"
        },
        {
          "output_type": "stream",
          "text": [
            "PROGRESS: 0.64375\n"
          ],
          "name": "stdout"
        },
        {
          "output_type": "stream",
          "text": [
            "\r                                                                               \r\r 64% (310 of 480) |##############        | Elapsed Time: 0:03:34 ETA:   0:01:53"
          ],
          "name": "stderr"
        },
        {
          "output_type": "stream",
          "text": [
            "PROGRESS: 0.6458333333333334\n"
          ],
          "name": "stdout"
        },
        {
          "output_type": "stream",
          "text": [
            "\r                                                                               \r\r 64% (311 of 480) |##############        | Elapsed Time: 0:03:34 ETA:   0:01:54"
          ],
          "name": "stderr"
        },
        {
          "output_type": "stream",
          "text": [
            "PROGRESS: 0.6479166666666667\n"
          ],
          "name": "stdout"
        },
        {
          "output_type": "stream",
          "text": [
            "\r                                                                               \r\r 65% (312 of 480) |##############        | Elapsed Time: 0:03:35 ETA:   0:01:53"
          ],
          "name": "stderr"
        },
        {
          "output_type": "stream",
          "text": [
            "PROGRESS: 0.65\n"
          ],
          "name": "stdout"
        },
        {
          "output_type": "stream",
          "text": [
            "\r                                                                               \r\r 65% (313 of 480) |##############        | Elapsed Time: 0:03:36 ETA:   0:02:02"
          ],
          "name": "stderr"
        },
        {
          "output_type": "stream",
          "text": [
            "PROGRESS: 0.6520833333333333\n"
          ],
          "name": "stdout"
        },
        {
          "output_type": "stream",
          "text": [
            "\r                                                                               \r\r 65% (314 of 480) |##############        | Elapsed Time: 0:03:36 ETA:   0:01:59"
          ],
          "name": "stderr"
        },
        {
          "output_type": "stream",
          "text": [
            "PROGRESS: 0.6541666666666667\n"
          ],
          "name": "stdout"
        },
        {
          "output_type": "stream",
          "text": [
            "\r                                                                               \r\r 65% (315 of 480) |##############        | Elapsed Time: 0:03:37 ETA:   0:01:51"
          ],
          "name": "stderr"
        },
        {
          "output_type": "stream",
          "text": [
            "PROGRESS: 0.65625\n"
          ],
          "name": "stdout"
        },
        {
          "output_type": "stream",
          "text": [
            "\r                                                                               \r\r 65% (316 of 480) |##############        | Elapsed Time: 0:03:38 ETA:   0:01:49"
          ],
          "name": "stderr"
        },
        {
          "output_type": "stream",
          "text": [
            "PROGRESS: 0.6583333333333333\n"
          ],
          "name": "stdout"
        },
        {
          "output_type": "stream",
          "text": [
            "\r                                                                               \r\r 66% (317 of 480) |##############        | Elapsed Time: 0:03:38 ETA:   0:01:49"
          ],
          "name": "stderr"
        },
        {
          "output_type": "stream",
          "text": [
            "PROGRESS: 0.6604166666666667\n"
          ],
          "name": "stdout"
        },
        {
          "output_type": "stream",
          "text": [
            "\r                                                                               \r\r 66% (318 of 480) |##############        | Elapsed Time: 0:03:39 ETA:   0:01:58"
          ],
          "name": "stderr"
        },
        {
          "output_type": "stream",
          "text": [
            "PROGRESS: 0.6625\n"
          ],
          "name": "stdout"
        },
        {
          "output_type": "stream",
          "text": [
            "\r                                                                               \r\r 66% (319 of 480) |##############        | Elapsed Time: 0:03:40 ETA:   0:01:58"
          ],
          "name": "stderr"
        },
        {
          "output_type": "stream",
          "text": [
            "PROGRESS: 0.6645833333333333\n"
          ],
          "name": "stdout"
        },
        {
          "output_type": "stream",
          "text": [
            "\r                                                                               \r\r 66% (320 of 480) |##############        | Elapsed Time: 0:03:40 ETA:   0:01:47"
          ],
          "name": "stderr"
        },
        {
          "output_type": "stream",
          "text": [
            "PROGRESS: 0.6666666666666666\n"
          ],
          "name": "stdout"
        },
        {
          "output_type": "stream",
          "text": [
            "\r                                                                               \r\r 66% (321 of 480) |##############        | Elapsed Time: 0:03:41 ETA:   0:01:48"
          ],
          "name": "stderr"
        },
        {
          "output_type": "stream",
          "text": [
            "PROGRESS: 0.66875\n"
          ],
          "name": "stdout"
        },
        {
          "output_type": "stream",
          "text": [
            "\r                                                                               \r\r 67% (322 of 480) |##############        | Elapsed Time: 0:03:42 ETA:   0:01:46"
          ],
          "name": "stderr"
        },
        {
          "output_type": "stream",
          "text": [
            "PROGRESS: 0.6708333333333333\n"
          ],
          "name": "stdout"
        },
        {
          "output_type": "stream",
          "text": [
            "\r                                                                               \r\r 67% (323 of 480) |##############        | Elapsed Time: 0:03:43 ETA:   0:01:55"
          ],
          "name": "stderr"
        },
        {
          "output_type": "stream",
          "text": [
            "PROGRESS: 0.6729166666666667\n"
          ],
          "name": "stdout"
        },
        {
          "output_type": "stream",
          "text": [
            "\r                                                                               \r\r 67% (324 of 480) |##############        | Elapsed Time: 0:03:43 ETA:   0:01:53"
          ],
          "name": "stderr"
        },
        {
          "output_type": "stream",
          "text": [
            "PROGRESS: 0.675\n"
          ],
          "name": "stdout"
        },
        {
          "output_type": "stream",
          "text": [
            "\r                                                                               \r\r 67% (325 of 480) |##############        | Elapsed Time: 0:03:44 ETA:   0:01:45"
          ],
          "name": "stderr"
        },
        {
          "output_type": "stream",
          "text": [
            "PROGRESS: 0.6770833333333334\n"
          ],
          "name": "stdout"
        },
        {
          "output_type": "stream",
          "text": [
            "\r                                                                               \r\r 67% (326 of 480) |##############        | Elapsed Time: 0:03:45 ETA:   0:01:43"
          ],
          "name": "stderr"
        },
        {
          "output_type": "stream",
          "text": [
            "PROGRESS: 0.6791666666666667\n"
          ],
          "name": "stdout"
        },
        {
          "output_type": "stream",
          "text": [
            "\r                                                                               \r\r 68% (327 of 480) |##############        | Elapsed Time: 0:03:45 ETA:   0:01:42"
          ],
          "name": "stderr"
        },
        {
          "output_type": "stream",
          "text": [
            "PROGRESS: 0.68125\n"
          ],
          "name": "stdout"
        },
        {
          "output_type": "stream",
          "text": [
            "\r                                                                               \r\r 68% (328 of 480) |###############       | Elapsed Time: 0:03:46 ETA:   0:01:50"
          ],
          "name": "stderr"
        },
        {
          "output_type": "stream",
          "text": [
            "PROGRESS: 0.6833333333333333\n"
          ],
          "name": "stdout"
        },
        {
          "output_type": "stream",
          "text": [
            "\r                                                                               \r\r 68% (329 of 480) |###############       | Elapsed Time: 0:03:47 ETA:   0:01:49"
          ],
          "name": "stderr"
        },
        {
          "output_type": "stream",
          "text": [
            "PROGRESS: 0.6854166666666667\n"
          ],
          "name": "stdout"
        },
        {
          "output_type": "stream",
          "text": [
            "\r                                                                               \r\r 68% (330 of 480) |###############       | Elapsed Time: 0:03:47 ETA:   0:01:42"
          ],
          "name": "stderr"
        },
        {
          "output_type": "stream",
          "text": [
            "PROGRESS: 0.6875\n"
          ],
          "name": "stdout"
        },
        {
          "output_type": "stream",
          "text": [
            "\r                                                                               \r\r 68% (331 of 480) |###############       | Elapsed Time: 0:03:48 ETA:   0:01:39"
          ],
          "name": "stderr"
        },
        {
          "output_type": "stream",
          "text": [
            "PROGRESS: 0.6895833333333333\n"
          ],
          "name": "stdout"
        },
        {
          "output_type": "stream",
          "text": [
            "\r                                                                               \r\r 69% (332 of 480) |###############       | Elapsed Time: 0:03:49 ETA:   0:01:38"
          ],
          "name": "stderr"
        },
        {
          "output_type": "stream",
          "text": [
            "PROGRESS: 0.6916666666666667\n"
          ],
          "name": "stdout"
        },
        {
          "output_type": "stream",
          "text": [
            "\r                                                                               \r\r 69% (333 of 480) |###############       | Elapsed Time: 0:03:50 ETA:   0:01:46"
          ],
          "name": "stderr"
        },
        {
          "output_type": "stream",
          "text": [
            "PROGRESS: 0.69375\n"
          ],
          "name": "stdout"
        },
        {
          "output_type": "stream",
          "text": [
            "\r                                                                               \r\r 69% (334 of 480) |###############       | Elapsed Time: 0:03:50 ETA:   0:01:44"
          ],
          "name": "stderr"
        },
        {
          "output_type": "stream",
          "text": [
            "PROGRESS: 0.6958333333333333\n"
          ],
          "name": "stdout"
        },
        {
          "output_type": "stream",
          "text": [
            "\r                                                                               \r\r 69% (335 of 480) |###############       | Elapsed Time: 0:03:51 ETA:   0:01:37"
          ],
          "name": "stderr"
        },
        {
          "output_type": "stream",
          "text": [
            "PROGRESS: 0.6979166666666666\n"
          ],
          "name": "stdout"
        },
        {
          "output_type": "stream",
          "text": [
            "\r                                                                               \r\r 70% (336 of 480) |###############       | Elapsed Time: 0:03:52 ETA:   0:01:36"
          ],
          "name": "stderr"
        },
        {
          "output_type": "stream",
          "text": [
            "PROGRESS: 0.7\n"
          ],
          "name": "stdout"
        },
        {
          "output_type": "stream",
          "text": [
            "\r                                                                               \r\r 70% (337 of 480) |###############       | Elapsed Time: 0:03:52 ETA:   0:01:37"
          ],
          "name": "stderr"
        },
        {
          "output_type": "stream",
          "text": [
            "PROGRESS: 0.7020833333333333\n"
          ],
          "name": "stdout"
        },
        {
          "output_type": "stream",
          "text": [
            "\r                                                                               \r\r 70% (338 of 480) |###############       | Elapsed Time: 0:03:53 ETA:   0:01:41"
          ],
          "name": "stderr"
        },
        {
          "output_type": "stream",
          "text": [
            "PROGRESS: 0.7041666666666667\n"
          ],
          "name": "stdout"
        },
        {
          "output_type": "stream",
          "text": [
            "\r                                                                               \r\r 70% (339 of 480) |###############       | Elapsed Time: 0:03:54 ETA:   0:01:41"
          ],
          "name": "stderr"
        },
        {
          "output_type": "stream",
          "text": [
            "PROGRESS: 0.70625\n"
          ],
          "name": "stdout"
        },
        {
          "output_type": "stream",
          "text": [
            "\r                                                                               \r\r 70% (340 of 480) |###############       | Elapsed Time: 0:03:54 ETA:   0:01:35"
          ],
          "name": "stderr"
        },
        {
          "output_type": "stream",
          "text": [
            "PROGRESS: 0.7083333333333334\n"
          ],
          "name": "stdout"
        },
        {
          "output_type": "stream",
          "text": [
            "\r                                                                               \r\r 71% (341 of 480) |###############       | Elapsed Time: 0:03:55 ETA:   0:01:33"
          ],
          "name": "stderr"
        },
        {
          "output_type": "stream",
          "text": [
            "PROGRESS: 0.7104166666666667\n"
          ],
          "name": "stdout"
        },
        {
          "output_type": "stream",
          "text": [
            "\r                                                                               \r\r 71% (342 of 480) |###############       | Elapsed Time: 0:03:56 ETA:   0:01:33"
          ],
          "name": "stderr"
        },
        {
          "output_type": "stream",
          "text": [
            "PROGRESS: 0.7125\n"
          ],
          "name": "stdout"
        },
        {
          "output_type": "stream",
          "text": [
            "\r                                                                               \r\r 71% (343 of 480) |###############       | Elapsed Time: 0:03:56 ETA:   0:01:39"
          ],
          "name": "stderr"
        },
        {
          "output_type": "stream",
          "text": [
            "PROGRESS: 0.7145833333333333\n"
          ],
          "name": "stdout"
        },
        {
          "output_type": "stream",
          "text": [
            "\r                                                                               \r\r 71% (344 of 480) |###############       | Elapsed Time: 0:03:57 ETA:   0:01:39"
          ],
          "name": "stderr"
        },
        {
          "output_type": "stream",
          "text": [
            "PROGRESS: 0.7166666666666667\n"
          ],
          "name": "stdout"
        },
        {
          "output_type": "stream",
          "text": [
            "\r                                                                               \r\r 71% (345 of 480) |###############       | Elapsed Time: 0:03:58 ETA:   0:01:30"
          ],
          "name": "stderr"
        },
        {
          "output_type": "stream",
          "text": [
            "PROGRESS: 0.71875\n"
          ],
          "name": "stdout"
        },
        {
          "output_type": "stream",
          "text": [
            "\r                                                                               \r\r 72% (346 of 480) |###############       | Elapsed Time: 0:03:59 ETA:   0:01:32"
          ],
          "name": "stderr"
        },
        {
          "output_type": "stream",
          "text": [
            "PROGRESS: 0.7208333333333333\n"
          ],
          "name": "stdout"
        },
        {
          "output_type": "stream",
          "text": [
            "\r                                                                               \r\r 72% (347 of 480) |###############       | Elapsed Time: 0:03:59 ETA:   0:01:31"
          ],
          "name": "stderr"
        },
        {
          "output_type": "stream",
          "text": [
            "PROGRESS: 0.7229166666666667\n"
          ],
          "name": "stdout"
        },
        {
          "output_type": "stream",
          "text": [
            "\r                                                                               \r\r 72% (348 of 480) |###############       | Elapsed Time: 0:04:00 ETA:   0:01:38"
          ],
          "name": "stderr"
        },
        {
          "output_type": "stream",
          "text": [
            "PROGRESS: 0.725\n"
          ],
          "name": "stdout"
        },
        {
          "output_type": "stream",
          "text": [
            "\r                                                                               \r\r 72% (349 of 480) |###############       | Elapsed Time: 0:04:01 ETA:   0:01:37"
          ],
          "name": "stderr"
        },
        {
          "output_type": "stream",
          "text": [
            "PROGRESS: 0.7270833333333333\n"
          ],
          "name": "stdout"
        },
        {
          "output_type": "stream",
          "text": [
            "\r                                                                               \r\r 72% (350 of 480) |################      | Elapsed Time: 0:04:01 ETA:   0:01:28"
          ],
          "name": "stderr"
        },
        {
          "output_type": "stream",
          "text": [
            "PROGRESS: 0.7291666666666666\n"
          ],
          "name": "stdout"
        },
        {
          "output_type": "stream",
          "text": [
            "\r                                                                               \r\r 73% (351 of 480) |################      | Elapsed Time: 0:04:02 ETA:   0:01:28"
          ],
          "name": "stderr"
        },
        {
          "output_type": "stream",
          "text": [
            "PROGRESS: 0.73125\n"
          ],
          "name": "stdout"
        },
        {
          "output_type": "stream",
          "text": [
            "\r                                                                               \r\r 73% (352 of 480) |################      | Elapsed Time: 0:04:03 ETA:   0:01:26"
          ],
          "name": "stderr"
        },
        {
          "output_type": "stream",
          "text": [
            "PROGRESS: 0.7333333333333333\n"
          ],
          "name": "stdout"
        },
        {
          "output_type": "stream",
          "text": [
            "\r                                                                               \r\r 73% (353 of 480) |################      | Elapsed Time: 0:04:04 ETA:   0:01:33"
          ],
          "name": "stderr"
        },
        {
          "output_type": "stream",
          "text": [
            "PROGRESS: 0.7354166666666667\n"
          ],
          "name": "stdout"
        },
        {
          "output_type": "stream",
          "text": [
            "\r                                                                               \r\r 73% (354 of 480) |################      | Elapsed Time: 0:04:04 ETA:   0:01:33"
          ],
          "name": "stderr"
        },
        {
          "output_type": "stream",
          "text": [
            "PROGRESS: 0.7375\n"
          ],
          "name": "stdout"
        },
        {
          "output_type": "stream",
          "text": [
            "\r                                                                               \r\r 73% (355 of 480) |################      | Elapsed Time: 0:04:05 ETA:   0:01:25"
          ],
          "name": "stderr"
        },
        {
          "output_type": "stream",
          "text": [
            "PROGRESS: 0.7395833333333334\n"
          ],
          "name": "stdout"
        },
        {
          "output_type": "stream",
          "text": [
            "\r                                                                               \r\r 74% (356 of 480) |################      | Elapsed Time: 0:04:06 ETA:   0:01:25"
          ],
          "name": "stderr"
        },
        {
          "output_type": "stream",
          "text": [
            "PROGRESS: 0.7416666666666667\n"
          ],
          "name": "stdout"
        },
        {
          "output_type": "stream",
          "text": [
            "\r                                                                               \r\r 74% (357 of 480) |################      | Elapsed Time: 0:04:06 ETA:   0:01:24"
          ],
          "name": "stderr"
        },
        {
          "output_type": "stream",
          "text": [
            "PROGRESS: 0.74375\n"
          ],
          "name": "stdout"
        },
        {
          "output_type": "stream",
          "text": [
            "\r                                                                               \r\r 74% (358 of 480) |################      | Elapsed Time: 0:04:07 ETA:   0:01:30"
          ],
          "name": "stderr"
        },
        {
          "output_type": "stream",
          "text": [
            "PROGRESS: 0.7458333333333333\n"
          ],
          "name": "stdout"
        },
        {
          "output_type": "stream",
          "text": [
            "\r                                                                               \r\r 74% (359 of 480) |################      | Elapsed Time: 0:04:08 ETA:   0:01:28"
          ],
          "name": "stderr"
        },
        {
          "output_type": "stream",
          "text": [
            "PROGRESS: 0.7479166666666667\n"
          ],
          "name": "stdout"
        },
        {
          "output_type": "stream",
          "text": [
            "\r                                                                               \r\r 75% (360 of 480) |################      | Elapsed Time: 0:04:08 ETA:   0:01:20"
          ],
          "name": "stderr"
        },
        {
          "output_type": "stream",
          "text": [
            "PROGRESS: 0.75\n"
          ],
          "name": "stdout"
        },
        {
          "output_type": "stream",
          "text": [
            "\r                                                                               \r\r 75% (361 of 480) |################      | Elapsed Time: 0:04:09 ETA:   0:01:21"
          ],
          "name": "stderr"
        },
        {
          "output_type": "stream",
          "text": [
            "PROGRESS: 0.7520833333333333\n"
          ],
          "name": "stdout"
        },
        {
          "output_type": "stream",
          "text": [
            "\r                                                                               \r\r 75% (362 of 480) |################      | Elapsed Time: 0:04:10 ETA:   0:01:20"
          ],
          "name": "stderr"
        },
        {
          "output_type": "stream",
          "text": [
            "PROGRESS: 0.7541666666666667\n"
          ],
          "name": "stdout"
        },
        {
          "output_type": "stream",
          "text": [
            "\r                                                                               \r\r 75% (363 of 480) |################      | Elapsed Time: 0:04:11 ETA:   0:01:27"
          ],
          "name": "stderr"
        },
        {
          "output_type": "stream",
          "text": [
            "PROGRESS: 0.75625\n"
          ],
          "name": "stdout"
        },
        {
          "output_type": "stream",
          "text": [
            "\r                                                                               \r\r 75% (364 of 480) |################      | Elapsed Time: 0:04:11 ETA:   0:01:25"
          ],
          "name": "stderr"
        },
        {
          "output_type": "stream",
          "text": [
            "PROGRESS: 0.7583333333333333\n"
          ],
          "name": "stdout"
        },
        {
          "output_type": "stream",
          "text": [
            "\r                                                                               \r\r 76% (365 of 480) |################      | Elapsed Time: 0:04:12 ETA:   0:01:18"
          ],
          "name": "stderr"
        },
        {
          "output_type": "stream",
          "text": [
            "PROGRESS: 0.7604166666666666\n"
          ],
          "name": "stdout"
        },
        {
          "output_type": "stream",
          "text": [
            "\r                                                                               \r\r 76% (366 of 480) |################      | Elapsed Time: 0:04:13 ETA:   0:01:16"
          ],
          "name": "stderr"
        },
        {
          "output_type": "stream",
          "text": [
            "PROGRESS: 0.7625\n"
          ],
          "name": "stdout"
        },
        {
          "output_type": "stream",
          "text": [
            "\r                                                                               \r\r 76% (367 of 480) |################      | Elapsed Time: 0:04:13 ETA:   0:01:15"
          ],
          "name": "stderr"
        },
        {
          "output_type": "stream",
          "text": [
            "PROGRESS: 0.7645833333333333\n"
          ],
          "name": "stdout"
        },
        {
          "output_type": "stream",
          "text": [
            "\r                                                                               \r\r 76% (368 of 480) |################      | Elapsed Time: 0:04:14 ETA:   0:01:21"
          ],
          "name": "stderr"
        },
        {
          "output_type": "stream",
          "text": [
            "PROGRESS: 0.7666666666666667\n"
          ],
          "name": "stdout"
        },
        {
          "output_type": "stream",
          "text": [
            "\r                                                                               \r\r 76% (369 of 480) |################      | Elapsed Time: 0:04:15 ETA:   0:01:20"
          ],
          "name": "stderr"
        },
        {
          "output_type": "stream",
          "text": [
            "PROGRESS: 0.76875\n"
          ],
          "name": "stdout"
        },
        {
          "output_type": "stream",
          "text": [
            "\r                                                                               \r\r 77% (370 of 480) |################      | Elapsed Time: 0:04:15 ETA:   0:01:15"
          ],
          "name": "stderr"
        },
        {
          "output_type": "stream",
          "text": [
            "PROGRESS: 0.7708333333333334\n"
          ],
          "name": "stdout"
        },
        {
          "output_type": "stream",
          "text": [
            "\r                                                                               \r\r 77% (371 of 480) |#################     | Elapsed Time: 0:04:16 ETA:   0:01:13"
          ],
          "name": "stderr"
        },
        {
          "output_type": "stream",
          "text": [
            "PROGRESS: 0.7729166666666667\n"
          ],
          "name": "stdout"
        },
        {
          "output_type": "stream",
          "text": [
            "\r                                                                               \r\r 77% (372 of 480) |#################     | Elapsed Time: 0:04:17 ETA:   0:01:12"
          ],
          "name": "stderr"
        },
        {
          "output_type": "stream",
          "text": [
            "PROGRESS: 0.775\n"
          ],
          "name": "stdout"
        },
        {
          "output_type": "stream",
          "text": [
            "\r                                                                               \r\r 77% (373 of 480) |#################     | Elapsed Time: 0:04:18 ETA:   0:01:18"
          ],
          "name": "stderr"
        },
        {
          "output_type": "stream",
          "text": [
            "PROGRESS: 0.7770833333333333\n"
          ],
          "name": "stdout"
        },
        {
          "output_type": "stream",
          "text": [
            "\r                                                                               \r\r 77% (374 of 480) |#################     | Elapsed Time: 0:04:18 ETA:   0:01:17"
          ],
          "name": "stderr"
        },
        {
          "output_type": "stream",
          "text": [
            "PROGRESS: 0.7791666666666667\n"
          ],
          "name": "stdout"
        },
        {
          "output_type": "stream",
          "text": [
            "\r                                                                               \r\r 78% (375 of 480) |#################     | Elapsed Time: 0:04:19 ETA:   0:01:10"
          ],
          "name": "stderr"
        },
        {
          "output_type": "stream",
          "text": [
            "PROGRESS: 0.78125\n"
          ],
          "name": "stdout"
        },
        {
          "output_type": "stream",
          "text": [
            "\r                                                                               \r\r 78% (376 of 480) |#################     | Elapsed Time: 0:04:20 ETA:   0:01:10"
          ],
          "name": "stderr"
        },
        {
          "output_type": "stream",
          "text": [
            "PROGRESS: 0.7833333333333333\n"
          ],
          "name": "stdout"
        },
        {
          "output_type": "stream",
          "text": [
            "\r                                                                               \r\r 78% (377 of 480) |#################     | Elapsed Time: 0:04:20 ETA:   0:01:10"
          ],
          "name": "stderr"
        },
        {
          "output_type": "stream",
          "text": [
            "PROGRESS: 0.7854166666666667\n"
          ],
          "name": "stdout"
        },
        {
          "output_type": "stream",
          "text": [
            "\r                                                                               \r\r 78% (378 of 480) |#################     | Elapsed Time: 0:04:21 ETA:   0:01:15"
          ],
          "name": "stderr"
        },
        {
          "output_type": "stream",
          "text": [
            "PROGRESS: 0.7875\n"
          ],
          "name": "stdout"
        },
        {
          "output_type": "stream",
          "text": [
            "\r                                                                               \r\r 78% (379 of 480) |#################     | Elapsed Time: 0:04:22 ETA:   0:01:14"
          ],
          "name": "stderr"
        },
        {
          "output_type": "stream",
          "text": [
            "PROGRESS: 0.7895833333333333\n"
          ],
          "name": "stdout"
        },
        {
          "output_type": "stream",
          "text": [
            "\r                                                                               \r\r 79% (380 of 480) |#################     | Elapsed Time: 0:04:22 ETA:   0:01:09"
          ],
          "name": "stderr"
        },
        {
          "output_type": "stream",
          "text": [
            "PROGRESS: 0.7916666666666666\n"
          ],
          "name": "stdout"
        },
        {
          "output_type": "stream",
          "text": [
            "\r                                                                               \r\r 79% (381 of 480) |#################     | Elapsed Time: 0:04:23 ETA:   0:01:07"
          ],
          "name": "stderr"
        },
        {
          "output_type": "stream",
          "text": [
            "PROGRESS: 0.79375\n"
          ],
          "name": "stdout"
        },
        {
          "output_type": "stream",
          "text": [
            "\r                                                                               \r\r 79% (382 of 480) |#################     | Elapsed Time: 0:04:24 ETA:   0:01:07"
          ],
          "name": "stderr"
        },
        {
          "output_type": "stream",
          "text": [
            "PROGRESS: 0.7958333333333333\n"
          ],
          "name": "stdout"
        },
        {
          "output_type": "stream",
          "text": [
            "\r                                                                               \r\r 79% (383 of 480) |#################     | Elapsed Time: 0:04:25 ETA:   0:01:11"
          ],
          "name": "stderr"
        },
        {
          "output_type": "stream",
          "text": [
            "PROGRESS: 0.7979166666666667\n"
          ],
          "name": "stdout"
        },
        {
          "output_type": "stream",
          "text": [
            "\r                                                                               \r\r 80% (384 of 480) |#################     | Elapsed Time: 0:04:25 ETA:   0:01:11"
          ],
          "name": "stderr"
        },
        {
          "output_type": "stream",
          "text": [
            "PROGRESS: 0.8\n"
          ],
          "name": "stdout"
        },
        {
          "output_type": "stream",
          "text": [
            "\r                                                                               \r\r 80% (385 of 480) |#################     | Elapsed Time: 0:04:26 ETA:   0:01:04"
          ],
          "name": "stderr"
        },
        {
          "output_type": "stream",
          "text": [
            "PROGRESS: 0.8020833333333334\n"
          ],
          "name": "stdout"
        },
        {
          "output_type": "stream",
          "text": [
            "\r                                                                               \r\r 80% (386 of 480) |#################     | Elapsed Time: 0:04:27 ETA:   0:01:05"
          ],
          "name": "stderr"
        },
        {
          "output_type": "stream",
          "text": [
            "PROGRESS: 0.8041666666666667\n"
          ],
          "name": "stdout"
        },
        {
          "output_type": "stream",
          "text": [
            "\r                                                                               \r\r 80% (387 of 480) |#################     | Elapsed Time: 0:04:27 ETA:   0:01:05"
          ],
          "name": "stderr"
        },
        {
          "output_type": "stream",
          "text": [
            "PROGRESS: 0.80625\n"
          ],
          "name": "stdout"
        },
        {
          "output_type": "stream",
          "text": [
            "\r                                                                               \r\r 80% (388 of 480) |#################     | Elapsed Time: 0:04:28 ETA:   0:01:10"
          ],
          "name": "stderr"
        },
        {
          "output_type": "stream",
          "text": [
            "PROGRESS: 0.8083333333333333\n"
          ],
          "name": "stdout"
        },
        {
          "output_type": "stream",
          "text": [
            "\r                                                                               \r\r 81% (389 of 480) |#################     | Elapsed Time: 0:04:29 ETA:   0:01:11"
          ],
          "name": "stderr"
        },
        {
          "output_type": "stream",
          "text": [
            "PROGRESS: 0.8104166666666667\n"
          ],
          "name": "stdout"
        },
        {
          "output_type": "stream",
          "text": [
            "\r                                                                               \r\r 81% (390 of 480) |#################     | Elapsed Time: 0:04:30 ETA:   0:01:05"
          ],
          "name": "stderr"
        },
        {
          "output_type": "stream",
          "text": [
            "PROGRESS: 0.8125\n"
          ],
          "name": "stdout"
        },
        {
          "output_type": "stream",
          "text": [
            "\r                                                                               \r\r 81% (391 of 480) |#################     | Elapsed Time: 0:04:30 ETA:   0:01:03"
          ],
          "name": "stderr"
        },
        {
          "output_type": "stream",
          "text": [
            "PROGRESS: 0.8145833333333333\n"
          ],
          "name": "stdout"
        },
        {
          "output_type": "stream",
          "text": [
            "\r                                                                               \r\r 81% (392 of 480) |#################     | Elapsed Time: 0:04:31 ETA:   0:01:03"
          ],
          "name": "stderr"
        },
        {
          "output_type": "stream",
          "text": [
            "PROGRESS: 0.8166666666666667\n"
          ],
          "name": "stdout"
        },
        {
          "output_type": "stream",
          "text": [
            "\r                                                                               \r\r 81% (393 of 480) |##################    | Elapsed Time: 0:04:32 ETA:   0:01:07"
          ],
          "name": "stderr"
        },
        {
          "output_type": "stream",
          "text": [
            "PROGRESS: 0.81875\n"
          ],
          "name": "stdout"
        },
        {
          "output_type": "stream",
          "text": [
            "\r                                                                               \r\r 82% (394 of 480) |##################    | Elapsed Time: 0:04:33 ETA:   0:01:06"
          ],
          "name": "stderr"
        },
        {
          "output_type": "stream",
          "text": [
            "PROGRESS: 0.8208333333333333\n"
          ],
          "name": "stdout"
        },
        {
          "output_type": "stream",
          "text": [
            "\r                                                                               \r\r 82% (395 of 480) |##################    | Elapsed Time: 0:04:33 ETA:   0:01:00"
          ],
          "name": "stderr"
        },
        {
          "output_type": "stream",
          "text": [
            "PROGRESS: 0.8229166666666666\n"
          ],
          "name": "stdout"
        },
        {
          "output_type": "stream",
          "text": [
            "\r                                                                               \r\r 82% (396 of 480) |##################    | Elapsed Time: 0:04:34 ETA:   0:01:00"
          ],
          "name": "stderr"
        },
        {
          "output_type": "stream",
          "text": [
            "PROGRESS: 0.825\n"
          ],
          "name": "stdout"
        },
        {
          "output_type": "stream",
          "text": [
            "\r                                                                               \r\r 82% (397 of 480) |##################    | Elapsed Time: 0:04:35 ETA:   0:00:59"
          ],
          "name": "stderr"
        },
        {
          "output_type": "stream",
          "text": [
            "PROGRESS: 0.8270833333333333\n"
          ],
          "name": "stdout"
        },
        {
          "output_type": "stream",
          "text": [
            "\r                                                                               \r\r 82% (398 of 480) |##################    | Elapsed Time: 0:04:36 ETA:   0:01:02"
          ],
          "name": "stderr"
        },
        {
          "output_type": "stream",
          "text": [
            "PROGRESS: 0.8291666666666667\n"
          ],
          "name": "stdout"
        },
        {
          "output_type": "stream",
          "text": [
            "\r                                                                               \r\r 83% (399 of 480) |##################    | Elapsed Time: 0:04:36 ETA:   0:01:02"
          ],
          "name": "stderr"
        },
        {
          "output_type": "stream",
          "text": [
            "PROGRESS: 0.83125\n"
          ],
          "name": "stdout"
        },
        {
          "output_type": "stream",
          "text": [
            "\r                                                                               \r\r 83% (400 of 480) |##################    | Elapsed Time: 0:04:37 ETA:   0:00:56"
          ],
          "name": "stderr"
        },
        {
          "output_type": "stream",
          "text": [
            "PROGRESS: 0.8333333333333334\n"
          ],
          "name": "stdout"
        },
        {
          "output_type": "stream",
          "text": [
            "\r                                                                               \r\r 83% (401 of 480) |##################    | Elapsed Time: 0:04:38 ETA:   0:00:55"
          ],
          "name": "stderr"
        },
        {
          "output_type": "stream",
          "text": [
            "PROGRESS: 0.8354166666666667\n"
          ],
          "name": "stdout"
        },
        {
          "output_type": "stream",
          "text": [
            "\r                                                                               \r\r 83% (402 of 480) |##################    | Elapsed Time: 0:04:39 ETA:   0:00:54"
          ],
          "name": "stderr"
        },
        {
          "output_type": "stream",
          "text": [
            "PROGRESS: 0.8375\n"
          ],
          "name": "stdout"
        },
        {
          "output_type": "stream",
          "text": [
            "\r                                                                               \r\r 83% (403 of 480) |##################    | Elapsed Time: 0:04:39 ETA:   0:00:57"
          ],
          "name": "stderr"
        },
        {
          "output_type": "stream",
          "text": [
            "PROGRESS: 0.8395833333333333\n"
          ],
          "name": "stdout"
        },
        {
          "output_type": "stream",
          "text": [
            "\r                                                                               \r\r 84% (404 of 480) |##################    | Elapsed Time: 0:04:40 ETA:   0:00:57"
          ],
          "name": "stderr"
        },
        {
          "output_type": "stream",
          "text": [
            "PROGRESS: 0.8416666666666667\n"
          ],
          "name": "stdout"
        },
        {
          "output_type": "stream",
          "text": [
            "\r                                                                               \r\r 84% (405 of 480) |##################    | Elapsed Time: 0:04:41 ETA:   0:00:53"
          ],
          "name": "stderr"
        },
        {
          "output_type": "stream",
          "text": [
            "PROGRESS: 0.84375\n"
          ],
          "name": "stdout"
        },
        {
          "output_type": "stream",
          "text": [
            "\r                                                                               \r\r 84% (406 of 480) |##################    | Elapsed Time: 0:04:41 ETA:   0:00:53"
          ],
          "name": "stderr"
        },
        {
          "output_type": "stream",
          "text": [
            "PROGRESS: 0.8458333333333333\n"
          ],
          "name": "stdout"
        },
        {
          "output_type": "stream",
          "text": [
            "\r                                                                               \r\r 84% (407 of 480) |##################    | Elapsed Time: 0:04:42 ETA:   0:00:52"
          ],
          "name": "stderr"
        },
        {
          "output_type": "stream",
          "text": [
            "PROGRESS: 0.8479166666666667\n"
          ],
          "name": "stdout"
        },
        {
          "output_type": "stream",
          "text": [
            "\r                                                                               \r\r 85% (408 of 480) |##################    | Elapsed Time: 0:04:43 ETA:   0:00:55"
          ],
          "name": "stderr"
        },
        {
          "output_type": "stream",
          "text": [
            "PROGRESS: 0.85\n"
          ],
          "name": "stdout"
        },
        {
          "output_type": "stream",
          "text": [
            "\r                                                                               \r\r 85% (409 of 480) |##################    | Elapsed Time: 0:04:44 ETA:   0:00:54"
          ],
          "name": "stderr"
        },
        {
          "output_type": "stream",
          "text": [
            "PROGRESS: 0.8520833333333333\n"
          ],
          "name": "stdout"
        },
        {
          "output_type": "stream",
          "text": [
            "\r                                                                               \r\r 85% (410 of 480) |##################    | Elapsed Time: 0:04:44 ETA:   0:00:50"
          ],
          "name": "stderr"
        },
        {
          "output_type": "stream",
          "text": [
            "PROGRESS: 0.8541666666666666\n"
          ],
          "name": "stdout"
        },
        {
          "output_type": "stream",
          "text": [
            "\r                                                                               \r\r 85% (411 of 480) |##################    | Elapsed Time: 0:04:45 ETA:   0:00:49"
          ],
          "name": "stderr"
        },
        {
          "output_type": "stream",
          "text": [
            "PROGRESS: 0.85625\n"
          ],
          "name": "stdout"
        },
        {
          "output_type": "stream",
          "text": [
            "\r                                                                               \r\r 85% (412 of 480) |##################    | Elapsed Time: 0:04:46 ETA:   0:00:48"
          ],
          "name": "stderr"
        },
        {
          "output_type": "stream",
          "text": [
            "PROGRESS: 0.8583333333333333\n"
          ],
          "name": "stdout"
        },
        {
          "output_type": "stream",
          "text": [
            "\r                                                                               \r\r 86% (413 of 480) |##################    | Elapsed Time: 0:04:47 ETA:   0:00:51"
          ],
          "name": "stderr"
        },
        {
          "output_type": "stream",
          "text": [
            "PROGRESS: 0.8604166666666667\n"
          ],
          "name": "stdout"
        },
        {
          "output_type": "stream",
          "text": [
            "\r                                                                               \r\r 86% (414 of 480) |##################    | Elapsed Time: 0:04:47 ETA:   0:00:50"
          ],
          "name": "stderr"
        },
        {
          "output_type": "stream",
          "text": [
            "PROGRESS: 0.8625\n"
          ],
          "name": "stdout"
        },
        {
          "output_type": "stream",
          "text": [
            "\r                                                                               \r\r 86% (415 of 480) |###################   | Elapsed Time: 0:04:48 ETA:   0:00:46"
          ],
          "name": "stderr"
        },
        {
          "output_type": "stream",
          "text": [
            "PROGRESS: 0.8645833333333334\n"
          ],
          "name": "stdout"
        },
        {
          "output_type": "stream",
          "text": [
            "\r                                                                               \r\r 86% (416 of 480) |###################   | Elapsed Time: 0:04:49 ETA:   0:00:45"
          ],
          "name": "stderr"
        },
        {
          "output_type": "stream",
          "text": [
            "PROGRESS: 0.8666666666666667\n"
          ],
          "name": "stdout"
        },
        {
          "output_type": "stream",
          "text": [
            "\r                                                                               \r\r 86% (417 of 480) |###################   | Elapsed Time: 0:04:50 ETA:   0:00:44"
          ],
          "name": "stderr"
        },
        {
          "output_type": "stream",
          "text": [
            "PROGRESS: 0.86875\n"
          ],
          "name": "stdout"
        },
        {
          "output_type": "stream",
          "text": [
            "\r                                                                               \r\r 87% (418 of 480) |###################   | Elapsed Time: 0:04:50 ETA:   0:00:47"
          ],
          "name": "stderr"
        },
        {
          "output_type": "stream",
          "text": [
            "PROGRESS: 0.8708333333333333\n"
          ],
          "name": "stdout"
        },
        {
          "output_type": "stream",
          "text": [
            "\r                                                                               \r\r 87% (419 of 480) |###################   | Elapsed Time: 0:04:51 ETA:   0:00:47"
          ],
          "name": "stderr"
        },
        {
          "output_type": "stream",
          "text": [
            "PROGRESS: 0.8729166666666667\n"
          ],
          "name": "stdout"
        },
        {
          "output_type": "stream",
          "text": [
            "\r                                                                               \r\r 87% (420 of 480) |###################   | Elapsed Time: 0:04:52 ETA:   0:00:42"
          ],
          "name": "stderr"
        },
        {
          "output_type": "stream",
          "text": [
            "PROGRESS: 0.875\n"
          ],
          "name": "stdout"
        },
        {
          "output_type": "stream",
          "text": [
            "\r                                                                               \r\r 87% (421 of 480) |###################   | Elapsed Time: 0:04:52 ETA:   0:00:42"
          ],
          "name": "stderr"
        },
        {
          "output_type": "stream",
          "text": [
            "PROGRESS: 0.8770833333333333\n"
          ],
          "name": "stdout"
        },
        {
          "output_type": "stream",
          "text": [
            "\r                                                                               \r\r 87% (422 of 480) |###################   | Elapsed Time: 0:04:53 ETA:   0:00:40"
          ],
          "name": "stderr"
        },
        {
          "output_type": "stream",
          "text": [
            "PROGRESS: 0.8791666666666667\n"
          ],
          "name": "stdout"
        },
        {
          "output_type": "stream",
          "text": [
            "\r                                                                               \r\r 88% (423 of 480) |###################   | Elapsed Time: 0:04:54 ETA:   0:00:42"
          ],
          "name": "stderr"
        },
        {
          "output_type": "stream",
          "text": [
            "PROGRESS: 0.88125\n"
          ],
          "name": "stdout"
        },
        {
          "output_type": "stream",
          "text": [
            "\r                                                                               \r\r 88% (424 of 480) |###################   | Elapsed Time: 0:04:55 ETA:   0:00:42"
          ],
          "name": "stderr"
        },
        {
          "output_type": "stream",
          "text": [
            "PROGRESS: 0.8833333333333333\n"
          ],
          "name": "stdout"
        },
        {
          "output_type": "stream",
          "text": [
            "\r                                                                               \r\r 88% (425 of 480) |###################   | Elapsed Time: 0:04:55 ETA:   0:00:38"
          ],
          "name": "stderr"
        },
        {
          "output_type": "stream",
          "text": [
            "PROGRESS: 0.8854166666666666\n"
          ],
          "name": "stdout"
        },
        {
          "output_type": "stream",
          "text": [
            "\r                                                                               \r\r 88% (426 of 480) |###################   | Elapsed Time: 0:04:56 ETA:   0:00:37"
          ],
          "name": "stderr"
        },
        {
          "output_type": "stream",
          "text": [
            "PROGRESS: 0.8875\n"
          ],
          "name": "stdout"
        },
        {
          "output_type": "stream",
          "text": [
            "\r                                                                               \r\r 88% (427 of 480) |###################   | Elapsed Time: 0:04:57 ETA:   0:00:36"
          ],
          "name": "stderr"
        },
        {
          "output_type": "stream",
          "text": [
            "PROGRESS: 0.8895833333333333\n"
          ],
          "name": "stdout"
        },
        {
          "output_type": "stream",
          "text": [
            "\r                                                                               \r\r 89% (428 of 480) |###################   | Elapsed Time: 0:04:58 ETA:   0:00:39"
          ],
          "name": "stderr"
        },
        {
          "output_type": "stream",
          "text": [
            "PROGRESS: 0.8916666666666667\n"
          ],
          "name": "stdout"
        },
        {
          "output_type": "stream",
          "text": [
            "\r                                                                               \r\r 89% (429 of 480) |###################   | Elapsed Time: 0:04:58 ETA:   0:00:38"
          ],
          "name": "stderr"
        },
        {
          "output_type": "stream",
          "text": [
            "PROGRESS: 0.89375\n"
          ],
          "name": "stdout"
        },
        {
          "output_type": "stream",
          "text": [
            "\r                                                                               \r\r 89% (430 of 480) |###################   | Elapsed Time: 0:04:59 ETA:   0:00:34"
          ],
          "name": "stderr"
        },
        {
          "output_type": "stream",
          "text": [
            "PROGRESS: 0.8958333333333334\n"
          ],
          "name": "stdout"
        },
        {
          "output_type": "stream",
          "text": [
            "\r                                                                               \r\r 89% (431 of 480) |###################   | Elapsed Time: 0:05:00 ETA:   0:00:33"
          ],
          "name": "stderr"
        },
        {
          "output_type": "stream",
          "text": [
            "PROGRESS: 0.8979166666666667\n"
          ],
          "name": "stdout"
        },
        {
          "output_type": "stream",
          "text": [
            "\r                                                                               \r\r 90% (432 of 480) |###################   | Elapsed Time: 0:05:00 ETA:   0:00:33"
          ],
          "name": "stderr"
        },
        {
          "output_type": "stream",
          "text": [
            "PROGRESS: 0.9\n"
          ],
          "name": "stdout"
        },
        {
          "output_type": "stream",
          "text": [
            "\r                                                                               \r\r 90% (433 of 480) |###################   | Elapsed Time: 0:05:01 ETA:   0:00:34"
          ],
          "name": "stderr"
        },
        {
          "output_type": "stream",
          "text": [
            "PROGRESS: 0.9020833333333333\n"
          ],
          "name": "stdout"
        },
        {
          "output_type": "stream",
          "text": [
            "\r                                                                               \r\r 90% (434 of 480) |###################   | Elapsed Time: 0:05:02 ETA:   0:00:35"
          ],
          "name": "stderr"
        },
        {
          "output_type": "stream",
          "text": [
            "PROGRESS: 0.9041666666666667\n"
          ],
          "name": "stdout"
        },
        {
          "output_type": "stream",
          "text": [
            "\r                                                                               \r\r 90% (435 of 480) |###################   | Elapsed Time: 0:05:02 ETA:   0:00:32"
          ],
          "name": "stderr"
        },
        {
          "output_type": "stream",
          "text": [
            "PROGRESS: 0.90625\n"
          ],
          "name": "stdout"
        },
        {
          "output_type": "stream",
          "text": [
            "\r                                                                               \r\r 90% (436 of 480) |###################   | Elapsed Time: 0:05:03 ETA:   0:00:31"
          ],
          "name": "stderr"
        },
        {
          "output_type": "stream",
          "text": [
            "PROGRESS: 0.9083333333333333\n"
          ],
          "name": "stdout"
        },
        {
          "output_type": "stream",
          "text": [
            "\r                                                                               \r\r 91% (437 of 480) |####################  | Elapsed Time: 0:05:04 ETA:   0:00:29"
          ],
          "name": "stderr"
        },
        {
          "output_type": "stream",
          "text": [
            "PROGRESS: 0.9104166666666667\n"
          ],
          "name": "stdout"
        },
        {
          "output_type": "stream",
          "text": [
            "\r                                                                               \r\r 91% (438 of 480) |####################  | Elapsed Time: 0:05:05 ETA:   0:00:31"
          ],
          "name": "stderr"
        },
        {
          "output_type": "stream",
          "text": [
            "PROGRESS: 0.9125\n"
          ],
          "name": "stdout"
        },
        {
          "output_type": "stream",
          "text": [
            "\r                                                                               \r\r 91% (439 of 480) |####################  | Elapsed Time: 0:05:06 ETA:   0:00:31"
          ],
          "name": "stderr"
        },
        {
          "output_type": "stream",
          "text": [
            "PROGRESS: 0.9145833333333333\n"
          ],
          "name": "stdout"
        },
        {
          "output_type": "stream",
          "text": [
            "\r                                                                               \r\r 91% (440 of 480) |####################  | Elapsed Time: 0:05:06 ETA:   0:00:28"
          ],
          "name": "stderr"
        },
        {
          "output_type": "stream",
          "text": [
            "PROGRESS: 0.9166666666666666\n"
          ],
          "name": "stdout"
        },
        {
          "output_type": "stream",
          "text": [
            "\r                                                                               \r\r 91% (441 of 480) |####################  | Elapsed Time: 0:05:07 ETA:   0:00:27"
          ],
          "name": "stderr"
        },
        {
          "output_type": "stream",
          "text": [
            "PROGRESS: 0.91875\n"
          ],
          "name": "stdout"
        },
        {
          "output_type": "stream",
          "text": [
            "\r                                                                               \r\r 92% (442 of 480) |####################  | Elapsed Time: 0:05:08 ETA:   0:00:26"
          ],
          "name": "stderr"
        },
        {
          "output_type": "stream",
          "text": [
            "PROGRESS: 0.9208333333333333\n"
          ],
          "name": "stdout"
        },
        {
          "output_type": "stream",
          "text": [
            "\r                                                                               \r\r 92% (443 of 480) |####################  | Elapsed Time: 0:05:08 ETA:   0:00:28"
          ],
          "name": "stderr"
        },
        {
          "output_type": "stream",
          "text": [
            "PROGRESS: 0.9229166666666667\n"
          ],
          "name": "stdout"
        },
        {
          "output_type": "stream",
          "text": [
            "\r                                                                               \r\r 92% (444 of 480) |####################  | Elapsed Time: 0:05:09 ETA:   0:00:27"
          ],
          "name": "stderr"
        },
        {
          "output_type": "stream",
          "text": [
            "PROGRESS: 0.925\n"
          ],
          "name": "stdout"
        },
        {
          "output_type": "stream",
          "text": [
            "\r                                                                               \r\r 92% (445 of 480) |####################  | Elapsed Time: 0:05:10 ETA:   0:00:24"
          ],
          "name": "stderr"
        },
        {
          "output_type": "stream",
          "text": [
            "PROGRESS: 0.9270833333333334\n"
          ],
          "name": "stdout"
        },
        {
          "output_type": "stream",
          "text": [
            "\r                                                                               \r\r 92% (446 of 480) |####################  | Elapsed Time: 0:05:10 ETA:   0:00:23"
          ],
          "name": "stderr"
        },
        {
          "output_type": "stream",
          "text": [
            "PROGRESS: 0.9291666666666667\n"
          ],
          "name": "stdout"
        },
        {
          "output_type": "stream",
          "text": [
            "\r                                                                               \r\r 93% (447 of 480) |####################  | Elapsed Time: 0:05:11 ETA:   0:00:22"
          ],
          "name": "stderr"
        },
        {
          "output_type": "stream",
          "text": [
            "PROGRESS: 0.93125\n"
          ],
          "name": "stdout"
        },
        {
          "output_type": "stream",
          "text": [
            "\r                                                                               \r\r 93% (448 of 480) |####################  | Elapsed Time: 0:05:12 ETA:   0:00:23"
          ],
          "name": "stderr"
        },
        {
          "output_type": "stream",
          "text": [
            "PROGRESS: 0.9333333333333333\n"
          ],
          "name": "stdout"
        },
        {
          "output_type": "stream",
          "text": [
            "\r                                                                               \r\r 93% (449 of 480) |####################  | Elapsed Time: 0:05:13 ETA:   0:00:23"
          ],
          "name": "stderr"
        },
        {
          "output_type": "stream",
          "text": [
            "PROGRESS: 0.9354166666666667\n"
          ],
          "name": "stdout"
        },
        {
          "output_type": "stream",
          "text": [
            "\r                                                                               \r\r 93% (450 of 480) |####################  | Elapsed Time: 0:05:13 ETA:   0:00:21"
          ],
          "name": "stderr"
        },
        {
          "output_type": "stream",
          "text": [
            "PROGRESS: 0.9375\n"
          ],
          "name": "stdout"
        },
        {
          "output_type": "stream",
          "text": [
            "\r                                                                               \r\r 93% (451 of 480) |####################  | Elapsed Time: 0:05:14 ETA:   0:00:20"
          ],
          "name": "stderr"
        },
        {
          "output_type": "stream",
          "text": [
            "PROGRESS: 0.9395833333333333\n"
          ],
          "name": "stdout"
        },
        {
          "output_type": "stream",
          "text": [
            "\r                                                                               \r\r 94% (452 of 480) |####################  | Elapsed Time: 0:05:15 ETA:   0:00:19"
          ],
          "name": "stderr"
        },
        {
          "output_type": "stream",
          "text": [
            "PROGRESS: 0.9416666666666667\n"
          ],
          "name": "stdout"
        },
        {
          "output_type": "stream",
          "text": [
            "\r                                                                               \r\r 94% (453 of 480) |####################  | Elapsed Time: 0:05:16 ETA:   0:00:20"
          ],
          "name": "stderr"
        },
        {
          "output_type": "stream",
          "text": [
            "PROGRESS: 0.94375\n"
          ],
          "name": "stdout"
        },
        {
          "output_type": "stream",
          "text": [
            "\r                                                                               \r\r 94% (454 of 480) |####################  | Elapsed Time: 0:05:16 ETA:   0:00:19"
          ],
          "name": "stderr"
        },
        {
          "output_type": "stream",
          "text": [
            "PROGRESS: 0.9458333333333333\n"
          ],
          "name": "stdout"
        },
        {
          "output_type": "stream",
          "text": [
            "\r                                                                               \r\r 94% (455 of 480) |####################  | Elapsed Time: 0:05:17 ETA:   0:00:17"
          ],
          "name": "stderr"
        },
        {
          "output_type": "stream",
          "text": [
            "PROGRESS: 0.9479166666666666\n"
          ],
          "name": "stdout"
        },
        {
          "output_type": "stream",
          "text": [
            "\r                                                                               \r\r 95% (456 of 480) |####################  | Elapsed Time: 0:05:18 ETA:   0:00:16"
          ],
          "name": "stderr"
        },
        {
          "output_type": "stream",
          "text": [
            "PROGRESS: 0.95\n"
          ],
          "name": "stdout"
        },
        {
          "output_type": "stream",
          "text": [
            "\r                                                                               \r\r 95% (457 of 480) |####################  | Elapsed Time: 0:05:18 ETA:   0:00:15"
          ],
          "name": "stderr"
        },
        {
          "output_type": "stream",
          "text": [
            "PROGRESS: 0.9520833333333333\n"
          ],
          "name": "stdout"
        },
        {
          "output_type": "stream",
          "text": [
            "\r                                                                               \r\r 95% (458 of 480) |####################  | Elapsed Time: 0:05:19 ETA:   0:00:16"
          ],
          "name": "stderr"
        },
        {
          "output_type": "stream",
          "text": [
            "PROGRESS: 0.9541666666666667\n"
          ],
          "name": "stdout"
        },
        {
          "output_type": "stream",
          "text": [
            "\r                                                                               \r\r 95% (459 of 480) |##################### | Elapsed Time: 0:05:20 ETA:   0:00:15"
          ],
          "name": "stderr"
        },
        {
          "output_type": "stream",
          "text": [
            "PROGRESS: 0.95625\n"
          ],
          "name": "stdout"
        },
        {
          "output_type": "stream",
          "text": [
            "\r                                                                               \r\r 95% (460 of 480) |##################### | Elapsed Time: 0:05:20 ETA:   0:00:13"
          ],
          "name": "stderr"
        },
        {
          "output_type": "stream",
          "text": [
            "PROGRESS: 0.9583333333333334\n"
          ],
          "name": "stdout"
        },
        {
          "output_type": "stream",
          "text": [
            "\r                                                                               \r\r 96% (461 of 480) |##################### | Elapsed Time: 0:05:21 ETA:   0:00:13"
          ],
          "name": "stderr"
        },
        {
          "output_type": "stream",
          "text": [
            "PROGRESS: 0.9604166666666667\n"
          ],
          "name": "stdout"
        },
        {
          "output_type": "stream",
          "text": [
            "\r                                                                               \r\r 96% (462 of 480) |##################### | Elapsed Time: 0:05:22 ETA:   0:00:12"
          ],
          "name": "stderr"
        },
        {
          "output_type": "stream",
          "text": [
            "PROGRESS: 0.9625\n"
          ],
          "name": "stdout"
        },
        {
          "output_type": "stream",
          "text": [
            "\r                                                                               \r\r 96% (463 of 480) |##################### | Elapsed Time: 0:05:23 ETA:   0:00:12"
          ],
          "name": "stderr"
        },
        {
          "output_type": "stream",
          "text": [
            "PROGRESS: 0.9645833333333333\n"
          ],
          "name": "stdout"
        },
        {
          "output_type": "stream",
          "text": [
            "\r                                                                               \r\r 96% (464 of 480) |##################### | Elapsed Time: 0:05:23 ETA:   0:00:11"
          ],
          "name": "stderr"
        },
        {
          "output_type": "stream",
          "text": [
            "PROGRESS: 0.9666666666666667\n"
          ],
          "name": "stdout"
        },
        {
          "output_type": "stream",
          "text": [
            "\r                                                                               \r\r 96% (465 of 480) |##################### | Elapsed Time: 0:05:24 ETA:   0:00:10"
          ],
          "name": "stderr"
        },
        {
          "output_type": "stream",
          "text": [
            "PROGRESS: 0.96875\n"
          ],
          "name": "stdout"
        },
        {
          "output_type": "stream",
          "text": [
            "\r                                                                               \r\r 97% (466 of 480) |##################### | Elapsed Time: 0:05:25 ETA:   0:00:09"
          ],
          "name": "stderr"
        },
        {
          "output_type": "stream",
          "text": [
            "PROGRESS: 0.9708333333333333\n"
          ],
          "name": "stdout"
        },
        {
          "output_type": "stream",
          "text": [
            "\r                                                                               \r\r 97% (467 of 480) |##################### | Elapsed Time: 0:05:25 ETA:   0:00:08"
          ],
          "name": "stderr"
        },
        {
          "output_type": "stream",
          "text": [
            "PROGRESS: 0.9729166666666667\n"
          ],
          "name": "stdout"
        },
        {
          "output_type": "stream",
          "text": [
            "\r                                                                               \r\r 97% (468 of 480) |##################### | Elapsed Time: 0:05:26 ETA:   0:00:08"
          ],
          "name": "stderr"
        },
        {
          "output_type": "stream",
          "text": [
            "PROGRESS: 0.975\n"
          ],
          "name": "stdout"
        },
        {
          "output_type": "stream",
          "text": [
            "\r                                                                               \r\r 97% (469 of 480) |##################### | Elapsed Time: 0:05:27 ETA:   0:00:08"
          ],
          "name": "stderr"
        },
        {
          "output_type": "stream",
          "text": [
            "PROGRESS: 0.9770833333333333\n"
          ],
          "name": "stdout"
        },
        {
          "output_type": "stream",
          "text": [
            "\r                                                                               \r\r 97% (470 of 480) |##################### | Elapsed Time: 0:05:28 ETA:   0:00:06"
          ],
          "name": "stderr"
        },
        {
          "output_type": "stream",
          "text": [
            "PROGRESS: 0.9791666666666666\n"
          ],
          "name": "stdout"
        },
        {
          "output_type": "stream",
          "text": [
            "\r                                                                               \r\r 98% (471 of 480) |##################### | Elapsed Time: 0:05:28 ETA:   0:00:06"
          ],
          "name": "stderr"
        },
        {
          "output_type": "stream",
          "text": [
            "PROGRESS: 0.98125\n"
          ],
          "name": "stdout"
        },
        {
          "output_type": "stream",
          "text": [
            "\r                                                                               \r\r 98% (472 of 480) |##################### | Elapsed Time: 0:05:29 ETA:   0:00:05"
          ],
          "name": "stderr"
        },
        {
          "output_type": "stream",
          "text": [
            "PROGRESS: 0.9833333333333333\n"
          ],
          "name": "stdout"
        },
        {
          "output_type": "stream",
          "text": [
            "\r                                                                               \r\r 98% (473 of 480) |##################### | Elapsed Time: 0:05:30 ETA:   0:00:05"
          ],
          "name": "stderr"
        },
        {
          "output_type": "stream",
          "text": [
            "PROGRESS: 0.9854166666666667\n"
          ],
          "name": "stdout"
        },
        {
          "output_type": "stream",
          "text": [
            "\r                                                                               \r\r 98% (474 of 480) |##################### | Elapsed Time: 0:05:30 ETA:   0:00:04"
          ],
          "name": "stderr"
        },
        {
          "output_type": "stream",
          "text": [
            "PROGRESS: 0.9875\n"
          ],
          "name": "stdout"
        },
        {
          "output_type": "stream",
          "text": [
            "\r                                                                               \r\r 98% (475 of 480) |##################### | Elapsed Time: 0:05:31 ETA:   0:00:03"
          ],
          "name": "stderr"
        },
        {
          "output_type": "stream",
          "text": [
            "PROGRESS: 0.9895833333333334\n"
          ],
          "name": "stdout"
        },
        {
          "output_type": "stream",
          "text": [
            "\r                                                                               \r\r 99% (476 of 480) |##################### | Elapsed Time: 0:05:32 ETA:   0:00:02"
          ],
          "name": "stderr"
        },
        {
          "output_type": "stream",
          "text": [
            "PROGRESS: 0.9916666666666667\n"
          ],
          "name": "stdout"
        },
        {
          "output_type": "stream",
          "text": [
            "\r                                                                               \r\r 99% (477 of 480) |##################### | Elapsed Time: 0:05:33 ETA:   0:00:02"
          ],
          "name": "stderr"
        },
        {
          "output_type": "stream",
          "text": [
            "PROGRESS: 0.99375\n"
          ],
          "name": "stdout"
        },
        {
          "output_type": "stream",
          "text": [
            "\r                                                                               \r\r 99% (478 of 480) |##################### | Elapsed Time: 0:05:33 ETA:   0:00:01"
          ],
          "name": "stderr"
        },
        {
          "output_type": "stream",
          "text": [
            "PROGRESS: 0.9958333333333333\n"
          ],
          "name": "stdout"
        },
        {
          "output_type": "stream",
          "text": [
            "\r                                                                               \r\r 99% (479 of 480) |##################### | Elapsed Time: 0:05:34 ETA:   0:00:00"
          ],
          "name": "stderr"
        },
        {
          "output_type": "stream",
          "text": [
            "PROGRESS: 0.9979166666666667\n"
          ],
          "name": "stdout"
        },
        {
          "output_type": "stream",
          "text": [
            "\r                                                                               \r\r100% (480 of 480) |######################| Elapsed Time: 0:05:37 ETA:  00:00:00"
          ],
          "name": "stderr"
        }
      ]
    },
    {
      "cell_type": "markdown",
      "metadata": {
        "id": "54LeIrS9irL-"
      },
      "source": [
        "If the code above is completed successfully, the experiment output data should be at **content/tf_labelprop/results/csvs**. To interface with this data, we use the method **create_visualization** from tf_labelprop.output.visualize_statistics. "
      ]
    },
    {
      "cell_type": "markdown",
      "metadata": {
        "id": "hNNmHstXiuIW"
      },
      "source": [
        "# **Tutorial 1, Part 1**: Creating a Line plot visualization of the data\n",
        "---\n",
        "Click the play button in the cell below this one to activate the user interface. \n",
        "\n",
        "First of all, the program automatically searches all experiments in the csv folder. You can use *comma-separated values* to select more than one.\n",
        " There is one restriction to keep in mind: each experiment must have used the same set of seeds. This is because a new file is created after the experiment is completed, where the seed information is leveraged to calculate aggregate statistics such as mean, min, median, and so on.\n",
        "\n",
        "\n",
        "Type **1** to select the Line plot visualization\n",
        "\n",
        "You'll also need to select the relevant **output variable**. This can be, *e.g.*, the overall accuracy `out_acc` or the accuracy on unlabeled data only `out_acc_unlabeled`. \n",
        "\n",
        "Lastly, you'll need to categorize some of the variables as:\n",
        "*   Type **g**: Use as group. Each combination of these variables yields a different plot.\n",
        "*   Type **l**: Use as level. That is, in each plot there'll be one line for each combination of these variables\n",
        "*   Type **i**: Variables to be ignored. Useful for stuff like ``affmat_cache_dir`` and other irrelevant variables.\n",
        "\n"
      ]
    },
    {
      "cell_type": "code",
      "metadata": {
        "colab": {
          "base_uri": "https://localhost:8080/",
          "height": 1000
        },
        "id": "lMKDvGcyI7f4",
        "cellView": "form",
        "outputId": "fd6c5d40-653b-4c78-be6f-767069f23645"
      },
      "source": [
        "#@title Visualization 1 --> Line plot\n",
        "from tf_labelprop.output.visualize_statistics import create_visualization\n",
        "create_visualization()\n"
      ],
      "execution_count": null,
      "outputs": [
        {
          "output_type": "stream",
          "text": [
            "0 - Experiment_Chapelle_['COIL']_labels=100_split=True_alg=lgc\n",
            "Enter comma-separated numbers corresponding to desired experiment\n",
            "0\n",
            "Selected files:\n",
            " /content/tf_labelprop/results/csvs/Experiment_Chapelle_['COIL']_labels=100_split=True_alg=lgc_joined.csv\n",
            "Type subfolder name to place visualizations within f/content/tf_labelprop/results/visualizations:\n",
            "lgc_exp\n",
            "Will use save visualizations to /content/tf_labelprop/results/visualizations/lgc_exp.\n",
            "Which visualization?  1-Line plot; 2-LaTeX Table (Use comma-separated values to use multiple)1\n",
            "[1]\n",
            "Line Plot Creation:\n",
            "\n",
            "Dataframe columns:\n",
            "aff_cache_dir\n",
            "aff_dist_func\n",
            "aff_k\n",
            "aff_mask_func\n",
            "aff_row_normalize\n",
            "aff_sigma\n",
            "alg_algorithm\n",
            "alg_alpha\n",
            "flt_filter\n",
            "input_benchmark\n",
            "input_dataset\n",
            "input_num_labeled\n",
            "input_use_chapelle_splits\n",
            "noise_corruption_level\n",
            "noise_deterministic\n",
            "noise_type\n",
            "out_CMN_acc_max\n",
            "out_CMN_acc_mean\n",
            "out_CMN_acc_median\n",
            "out_CMN_acc_min\n",
            "out_CMN_acc_sd\n",
            "out_acc_labeled_max\n",
            "out_acc_labeled_mean\n",
            "out_acc_labeled_median\n",
            "out_acc_labeled_min\n",
            "out_acc_labeled_sd\n",
            "out_acc_max\n",
            "out_acc_mean\n",
            "out_acc_median\n",
            "out_acc_min\n",
            "out_acc_sd\n",
            "out_acc_unlabeled_max\n",
            "out_acc_unlabeled_mean\n",
            "out_acc_unlabeled_median\n",
            "out_acc_unlabeled_min\n",
            "out_acc_unlabeled_sd\n",
            "out_affmat_time_max\n",
            "out_affmat_time_mean\n",
            "out_affmat_time_median\n",
            "out_affmat_time_min\n",
            "out_affmat_time_sd\n",
            "out_classifier_time_max\n",
            "out_classifier_time_mean\n",
            "out_classifier_time_median\n",
            "out_classifier_time_min\n",
            "out_classifier_time_sd\n",
            "out_filter_time_max\n",
            "out_filter_time_mean\n",
            "out_filter_time_median\n",
            "out_filter_time_min\n",
            "out_filter_time_sd\n",
            "out_noise_time_max\n",
            "out_noise_time_mean\n",
            "out_noise_time_median\n",
            "out_noise_time_min\n",
            "out_noise_time_sd\n",
            "out_num_experiments\n",
            "plot_mode\n",
            "spec_name\n",
            "Type dependent output variable (e.g. out_acc)out_acc\n",
            "Type dependent output aggregation variable (mean,median,min,max)mean\n",
            "Show standard deviation (y/n)y\n",
            "Type INdependent variable (e.g. noise_corruption_level)noise_corruption_level\n",
            "=========================================================================================================\n",
            "The following variables have more than one value:\n",
            "aff_cache_dir:   /tmp/Experiment_Chapelle_['COIL']_labels=100_split=True_alg=lgc/0;/tmp/Experiment_Chapelle_['COIL']_labels=100_split=True_alg=lgc/1\n",
            "aff_dist_func:   constant;gaussian\n",
            "aff_sigma:   nan;mean\n",
            "alg_alpha:   0.1;0.9;0.99;0.999\n",
            "=========================================================================================================\n",
            "For each of these variables, you'll have to select one of: \n",
            "l - use as level\n",
            "g - use as group (there'll by one plot for each combination of such variables)\n",
            "i - ignore (replaces all occurences with first value)\n",
            "Enter the variable type for aff_cache_dir\n",
            "i\n",
            "Enter the variable type for aff_dist_func\n",
            "g\n",
            "Enter the variable type for aff_sigma\n",
            "i\n",
            "Enter the variable type for alg_alpha\n",
            "l\n",
            "[0.   0.1  0.2  0.35]\n",
            "[0.77694444 0.712      0.64855556 0.54461111]\n",
            "alg\\textunderscore alpha=0.1\n",
            "[0.   0.1  0.2  0.35]\n",
            "[0.7735     0.73633333 0.67672222 0.58661111]\n",
            "alg\\textunderscore alpha=0.9\n",
            "[0.   0.1  0.2  0.35]\n",
            "[0.69088889 0.65877778 0.60683333 0.5285    ]\n",
            "alg\\textunderscore alpha=0.99\n",
            "[0.   0.1  0.2  0.35]\n",
            "[0.44566667 0.43922222 0.40783333 0.35894444]\n",
            "alg\\textunderscore alpha=0.999\n",
            "/content/tf_labelprop/results/visualizations/lgc_exp/aff_dist_func=constant\n",
            "[0.   0.1  0.2  0.35]\n",
            "[0.83638889 0.75611111 0.67561111 0.56222222]\n",
            "alg\\textunderscore alpha=0.1\n",
            "[0.   0.1  0.2  0.35]\n",
            "[0.89133333 0.82516667 0.74433333 0.62755556]\n",
            "alg\\textunderscore alpha=0.9\n",
            "[0.   0.1  0.2  0.35]\n",
            "[0.89022222 0.84733333 0.77494444 0.67477778]\n",
            "alg\\textunderscore alpha=0.99\n",
            "[0.   0.1  0.2  0.35]\n",
            "[0.83094444 0.80344444 0.73344444 0.67555556]\n",
            "alg\\textunderscore alpha=0.999\n",
            "/content/tf_labelprop/results/visualizations/lgc_exp/aff_dist_func=gaussian\n"
          ],
          "name": "stdout"
        },
        {
          "output_type": "display_data",
          "data": {
            "image/png": "[encoded data removed]",
            "text/plain": [
              "<Figure size 1440x1224 with 1 Axes>"
            ]
          },
          "metadata": {
            "tags": [],
            "needs_background": "light"
          }
        },
        {
          "output_type": "display_data",
          "data": {
            "image/png": "[encoded data removed]",
            "text/plain": [
              "<Figure size 1440x1224 with 1 Axes>"
            ]
          },
          "metadata": {
            "tags": [],
            "needs_background": "light"
          }
        }
      ]
    },
    {
      "cell_type": "markdown",
      "metadata": {
        "id": "8V1DBt2wpmTi"
      },
      "source": [
        "# **Tutorial 1, Part 2a**: Creating a LaTeX table with experiment data\n",
        "---\n",
        "Again, click the cell below this one to activate the user interface. \n",
        "\n",
        "\n",
        "This time you'll type **2** to select the table visualization\n",
        "\n",
        "You'll select the relevant **output variable**, as well as a **vertical division (type v)** variable, where each unique value corresponds to a subdivision with vertical rules. Then, you'll need to categorize some more variables, much like for the line plot, but here the categories are slightly different:\n",
        "\n",
        "Lastly, you'll need to categorize some of the variables as:\n",
        "*   Type **g**: Use as group. Each combination of these variables yields a different table.\n",
        "*   Type **h**: Use a horizontal subdivision. That is, in each plot there'll be one line for each combination of these variables\n",
        "*   Type **c**: Each horizontal subdivision contains every combination of type c variables. Use this for ``alg_algorithm`` and individual parameters for the classifier. The maximum value of the output variable for varying type c variables and fixed type h and type v variables is marked as **bold**.\n",
        "*   Type **i**: Variables to be ignored. Useful for stuff like ``affmat_cache_dir`` and other irrelevant variables.\n"
      ]
    },
    {
      "cell_type": "code",
      "metadata": {
        "colab": {
          "base_uri": "https://localhost:8080/"
        },
        "id": "D18HK8THT397",
        "cellView": "form",
        "outputId": "72a2c8d1-b5f5-496f-89e8-27fd39e4b31a"
      },
      "source": [
        "#@title Visualization 2 -> Creating LaTeX table\n",
        "from tf_labelprop.output.visualize_statistics import create_visualization\n",
        "create_visualization()"
      ],
      "execution_count": null,
      "outputs": [
        {
          "output_type": "stream",
          "text": [
            "0 - Experiment_Chapelle_['COIL']_labels=100_split=True_alg=lgc\n",
            "Enter comma-separated numbers corresponding to desired experiment\n",
            "0\n",
            "Selected files:\n",
            " /content/tf_labelprop/results/csvs/Experiment_Chapelle_['COIL']_labels=100_split=True_alg=lgc_joined.csv\n",
            "Type subfolder name to place visualizations within f/content/tf_labelprop/results/visualizations:\n",
            "exp_lgc\n",
            "Will use save visualizations to /content/tf_labelprop/results/visualizations/exp_lgc.\n",
            "Which visualization?  1-Line plot; 2-LaTeX Table (Use comma-separated values to use multiple)2\n",
            "[2]\n",
            "LaTeX Table Creation:\n",
            "\n",
            "Dataframe columns:\n",
            "aff_cache_dir\n",
            "aff_dist_func\n",
            "aff_k\n",
            "aff_mask_func\n",
            "aff_row_normalize\n",
            "aff_sigma\n",
            "alg_algorithm\n",
            "alg_alpha\n",
            "flt_filter\n",
            "input_benchmark\n",
            "input_dataset\n",
            "input_num_labeled\n",
            "input_use_chapelle_splits\n",
            "noise_corruption_level\n",
            "noise_deterministic\n",
            "noise_type\n",
            "out_CMN_acc_max\n",
            "out_CMN_acc_mean\n",
            "out_CMN_acc_median\n",
            "out_CMN_acc_min\n",
            "out_CMN_acc_sd\n",
            "out_acc_labeled_max\n",
            "out_acc_labeled_mean\n",
            "out_acc_labeled_median\n",
            "out_acc_labeled_min\n",
            "out_acc_labeled_sd\n",
            "out_acc_max\n",
            "out_acc_mean\n",
            "out_acc_median\n",
            "out_acc_min\n",
            "out_acc_sd\n",
            "out_acc_unlabeled_max\n",
            "out_acc_unlabeled_mean\n",
            "out_acc_unlabeled_median\n",
            "out_acc_unlabeled_min\n",
            "out_acc_unlabeled_sd\n",
            "out_affmat_time_max\n",
            "out_affmat_time_mean\n",
            "out_affmat_time_median\n",
            "out_affmat_time_min\n",
            "out_affmat_time_sd\n",
            "out_classifier_time_max\n",
            "out_classifier_time_mean\n",
            "out_classifier_time_median\n",
            "out_classifier_time_min\n",
            "out_classifier_time_sd\n",
            "out_filter_time_max\n",
            "out_filter_time_mean\n",
            "out_filter_time_median\n",
            "out_filter_time_min\n",
            "out_filter_time_sd\n",
            "out_noise_time_max\n",
            "out_noise_time_mean\n",
            "out_noise_time_median\n",
            "out_noise_time_min\n",
            "out_noise_time_sd\n",
            "out_num_experiments\n",
            "plot_mode\n",
            "spec_name\n",
            "Type comma-separated output variables w/ aggregation (e.g. out_acc_mean)out_acc_mean\n",
            "Use standard deviation  for *_mean output variables (y/n)y\n",
            "Type comma-separated input variables corresponding to VERTICAL divisions variable (e.g. input_labeled_percent)noise_corruption_level\n",
            "=========================================================================================================\n",
            "The following variables have more than one value:\n",
            "aff_cache_dir:   /tmp/Experiment_Chapelle_['COIL']_labels=100_split=True_alg=lgc/0;/tmp/Experiment_Chapelle_['COIL']_labels=100_split=True_alg=lgc/1\n",
            "aff_dist_func:   constant;gaussian\n",
            "aff_sigma:   nan;mean\n",
            "alg_alpha:   0.1;0.9;0.99;0.999\n",
            "=========================================================================================================\n",
            "For each of these variables, you'll have to select one of: \n",
            "h - variable divides the table with horizontal rules\n",
            "c - variable does not divide the table with horizontal rule\n",
            "g - use as group (there'll by one plot for each combination of such variables)\n",
            "i - ignore (replaces all occurences with first value)\n",
            "Enter the variable type for aff_cache_dir\n",
            "i\n",
            "Enter the variable type for aff_dist_func\n",
            "h\n",
            "Enter the variable type for aff_sigma\n",
            "i\n",
            "Enter the variable type for alg_alpha\n",
            "c\n",
            "/content/tf_labelprop/results/visualizations/exp_lgc\n",
            "noise_corruption_level\n",
            "1\n",
            "0    $\\mathbf{77.69 \\pm 1.59}$\n",
            "Name: out_acc_mean, dtype: object\n",
            "1    $71.2 \\pm 2.56$\n",
            "Name: out_acc_mean, dtype: object\n",
            "2    $64.86 \\pm 2.95$\n",
            "Name: out_acc_mean, dtype: object\n",
            "3    $54.46 \\pm 2.83$\n",
            "Name: out_acc_mean, dtype: object\n",
            "4    $77.35 \\pm 1.7$\n",
            "Name: out_acc_mean, dtype: object\n",
            "5    $\\mathbf{73.63 \\pm 2.45}$\n",
            "Name: out_acc_mean, dtype: object\n",
            "6    $\\mathbf{67.67 \\pm 4.07}$\n",
            "Name: out_acc_mean, dtype: object\n",
            "7    $\\mathbf{58.66 \\pm 3.24}$\n",
            "Name: out_acc_mean, dtype: object\n",
            "8    $69.09 \\pm 2.48$\n",
            "Name: out_acc_mean, dtype: object\n",
            "9    $65.88 \\pm 3.37$\n",
            "Name: out_acc_mean, dtype: object\n",
            "10    $60.68 \\pm 5.96$\n",
            "Name: out_acc_mean, dtype: object\n",
            "11    $52.85 \\pm 4.53$\n",
            "Name: out_acc_mean, dtype: object\n",
            "12    $44.57 \\pm 6.43$\n",
            "Name: out_acc_mean, dtype: object\n",
            "13    $43.92 \\pm 6.46$\n",
            "Name: out_acc_mean, dtype: object\n",
            "14    $40.78 \\pm 6.77$\n",
            "Name: out_acc_mean, dtype: object\n",
            "15    $35.89 \\pm 4.57$\n",
            "Name: out_acc_mean, dtype: object\n",
            "16    $83.64 \\pm 1.77$\n",
            "Name: out_acc_mean, dtype: object\n",
            "17    $75.61 \\pm 2.79$\n",
            "Name: out_acc_mean, dtype: object\n",
            "18    $67.56 \\pm 3.08$\n",
            "Name: out_acc_mean, dtype: object\n",
            "19    $56.22 \\pm 2.7$\n",
            "Name: out_acc_mean, dtype: object\n",
            "20    $\\mathbf{89.13 \\pm 2.2}$\n",
            "Name: out_acc_mean, dtype: object\n",
            "21    $82.52 \\pm 2.96$\n",
            "Name: out_acc_mean, dtype: object\n",
            "22    $74.43 \\pm 3.72$\n",
            "Name: out_acc_mean, dtype: object\n",
            "23    $62.76 \\pm 4.1$\n",
            "Name: out_acc_mean, dtype: object\n",
            "24    $89.02 \\pm 2.15$\n",
            "Name: out_acc_mean, dtype: object\n",
            "25    $\\mathbf{84.73 \\pm 2.79}$\n",
            "Name: out_acc_mean, dtype: object\n",
            "26    $\\mathbf{77.49 \\pm 3.69}$\n",
            "Name: out_acc_mean, dtype: object\n",
            "27    $67.48 \\pm 4.04$\n",
            "Name: out_acc_mean, dtype: object\n",
            "28    $83.09 \\pm 2.66$\n",
            "Name: out_acc_mean, dtype: object\n",
            "29    $80.34 \\pm 4.0$\n",
            "Name: out_acc_mean, dtype: object\n",
            "30    $73.34 \\pm 6.13$\n",
            "Name: out_acc_mean, dtype: object\n",
            "31    $\\mathbf{67.56 \\pm 5.02}$\n",
            "Name: out_acc_mean, dtype: object\n"
          ],
          "name": "stdout"
        }
      ]
    },
    {
      "cell_type": "markdown",
      "metadata": {
        "id": "pf97UeqkrwaR"
      },
      "source": [
        "# **Tutorial 1, Part 2b**: Transforming the LaTeX table to PDF, downloading them from Google Colab\n",
        "---\n",
        " After the previous step is done, use the \"Files\" tab on the left and browse to ``content/tf_labelprop/results/visualizations/...`` and look for tables generated by the program within subfolders. Then, right-click the desired table and select \"copy path\". Paste this path onto the Form below, then hit the play button."
      ]
    },
    {
      "cell_type": "code",
      "metadata": {
        "colab": {
          "base_uri": "https://localhost:8080/",
          "height": 141
        },
        "id": "834cPvsvLg1V",
        "cellView": "form",
        "outputId": "be433643-8769-45b8-e645-67e24e8cf07c"
      },
      "source": [
        "#@title Visualization 2 --> Creating PDF from table\n",
        "path_to_table = \"/content/tf_labelprop/results/visualizations/exp_lgc/table.txt\" #@param {type:\"string\"}\n",
        "import os.path as osp\n",
        "assert osp.isfile(path_to_table)\n",
        "__folder = osp.dirname(path_to_table)\n",
        "__file_name = osp.split(path_to_table)[-1]\n",
        "\n",
        "\n",
        "beg = []\n",
        "\n",
        "beg.append(r\"\\documentclass[a4paper]{article}\")\n",
        "beg.append(r\"\\usepackage{tabularx}\")\n",
        "beg.append(r\"\\usepackage{booktabs}\")\n",
        "beg.append(r\"\\usepackage[pass]{geometry}\")\n",
        "beg.append(r\"\\savegeometry{Mem}\")\n",
        "beg.append(r\"\\newgeometry{margin=4pt}\")\n",
        "beg.append(r\"\\usepackage{etoolbox}\")\n",
        "beg.append(r\"\\BeforeBeginEnvironment{tabular}{\\begin{center}\\fontsize{2}{3}\\selectfont}\")\n",
        "beg.append(r\"\\AfterEndEnvironment{tabular}{\\end{center}}\")\n",
        "beg.append(r\"\\begin{document}\")\n",
        "\n",
        "beg = [x+'\\n' for x in beg]\n",
        "\n",
        "file = open(osp.join(__folder,__file_name), \"r\")\n",
        "beg.extend(file.readlines())\n",
        "\n",
        "beg.append(\"\\end{document}\\n\")\n",
        "file.close()\n",
        "\n",
        "new_latex = osp.join(__folder,\"__table.txt\")\n",
        "new_pdf = osp.join(__folder,\"__table.pdf\")\n",
        "\n",
        "\n",
        "file = open(new_latex, \"w\")\n",
        "file.writelines(beg)\n",
        "file.close()\n",
        "print(__folder)\n",
        "print(new_latex)\n",
        "#new_latex = new_latex.encode('unicode_escape')\n",
        "import subprocess\n",
        "try:\n",
        "  my_env = os.environ.copy()\n",
        "  my_env[\"TABLEDIR\"] = __folder\n",
        "  my_env[\"TABLEFILE\"] = new_latex\n",
        "  \n",
        "  my_command = \"pdflatex -halt-on-error -output-directory $TABLEDIR $TABLEFILE\"\n",
        "\n",
        "  print(subprocess.check_output([\"cat\",\"$TABLEFILE\"], env=my_env,shell=True))\n",
        "  print(subprocess.check_output([my_command], env=my_env,shell=True))\n",
        "except subprocess.CalledProcessError as e:\n",
        "    for word in e.output.decode('utf-8').split('\\n'):\n",
        "      print(word)\n",
        "\n",
        "from google.colab import files\n",
        "if input(\"Download PDF file? (y/n)\") == 'y':\n",
        "  files.download(osp.join(__folder,\"__table.pdf\"))\n",
        "if input(\"Download LaTeX file? (y/n)\") == 'y':\n",
        "  files.download(osp.join(__folder,\"__table.txt\"))\n",
        "\n",
        "\n",
        "\n"
      ],
      "execution_count": null,
      "outputs": [
        {
          "output_type": "stream",
          "text": [
            "/content/tf_labelprop/results/visualizations/exp_lgc\n",
            "/content/tf_labelprop/results/visualizations/exp_lgc/__table.txt\n",
            "b''\n",
            "b\"This is pdfTeX, Version 3.14159265-2.6-1.40.18 (TeX Live 2017/Debian) (preloaded format=pdflatex)\\n restricted \\\\write18 enabled.\\nentering extended mode\\n(/content/tf_labelprop/results/visualizations/exp_lgc/__table.txt\\nLaTeX2e <2017-04-15>\\nBabel <3.18> and hyphenation patterns for 3 language(s) loaded.\\n(/usr/share/texlive/texmf-dist/tex/latex/base/article.cls\\nDocument Class: article 2014/09/29 v1.4h Standard LaTeX document class\\n(/usr/share/texlive/texmf-dist/tex/latex/base/size10.clo))\\n(/usr/share/texlive/texmf-dist/tex/latex/tools/tabularx.sty\\n(/usr/share/texlive/texmf-dist/tex/latex/tools/array.sty))\\n(/usr/share/texlive/texmf-dist/tex/latex/booktabs/booktabs.sty)\\n(/usr/share/texlive/texmf-dist/tex/latex/geometry/geometry.sty\\n(/usr/share/texlive/texmf-dist/tex/latex/graphics/keyval.sty)\\n(/usr/share/texlive/texmf-dist/tex/generic/oberdiek/ifpdf.sty)\\n(/usr/share/texlive/texmf-dist/tex/generic/oberdiek/ifvtex.sty)\\n(/usr/share/texlive/texmf-dist/tex/generic/ifxetex/ifxetex.sty))\\n(/usr/share/texlive/texmf-dist/tex/latex/etoolbox/etoolbox.sty)\\n(/content/tf_labelprop/results/visualizations/exp_lgc/__table.aux)\\n*geometry* driver: auto-detecting\\n*geometry* detected driver: pdftex\\n\\nLaTeX Font Warning: Font shape `OT1/cmr/m/n' in size <2> not available\\n(Font)              size <5> substituted on input line 13.\\n\\n\\nLaTeX Font Warning: Font shape `OT1/cmr/m/n' in size <1.4> not available\\n(Font)              size <5> substituted on input line 13.\\n\\n\\nLaTeX Font Warning: Font shape `OT1/cmr/m/n' in size <1> not available\\n(Font)              size <5> substituted on input line 13.\\n\\n\\nLaTeX Font Warning: Font shape `OML/cmm/m/it' in size <2> not available\\n(Font)              size <5> substituted on input line 13.\\n\\n\\nLaTeX Font Warning: Font shape `OML/cmm/m/it' in size <1.4> not available\\n(Font)              size <5> substituted on input line 13.\\n\\n\\nLaTeX Font Warning: Font shape `OML/cmm/m/it' in size <1> not available\\n(Font)              size <5> substituted on input line 13.\\n\\n\\nLaTeX Font Warning: Font shape `OMS/cmsy/m/n' in size <2> not available\\n(Font)              size <5> substituted on input line 13.\\n\\n\\nLaTeX Font Warning: Font shape `OMS/cmsy/m/n' in size <1.4> not available\\n(Font)              size <5> substituted on input line 13.\\n\\n\\nLaTeX Font Warning: Font shape `OMS/cmsy/m/n' in size <1> not available\\n(Font)              size <5> substituted on input line 13.\\n\\n\\nLaTeX Font Warning: Font shape `OT1/cmr/bx/n' in size <2> not available\\n(Font)              size <5> substituted on input line 17.\\n\\n\\nLaTeX Font Warning: Font shape `OT1/cmr/bx/n' in size <1.4> not available\\n(Font)              size <5> substituted on input line 17.\\n\\n\\nLaTeX Font Warning: Font shape `OT1/cmr/bx/n' in size <1> not available\\n(Font)              size <5> substituted on input line 17.\\n\\n\\nUnderfull \\\\hbox (badness 2142) in paragraph at lines 41--41\\n[]\\\\OT1/cmr/m/n/10 Table 1: flt[]filter: nan; aff[]mask[]func: knn; aff[]sigma: \\nnan; aff[]row[]normalize: False; in-put[]benchmark: COIL; in-\\n\\nUnderfull \\\\hbox (badness 10000) in paragraph at lines 41--41\\n\\\\OT1/cmr/m/n/10 False; spec[]name: Ex-per-i-ment[]Chapelle[]['COIL'][]labels=10\\n0[]split=True[]alg=lgc; noise[]type: NCAR; aff[]cache[]dir:\\n[1{/var/lib/texmf/fonts/map/pdftex/updmap/pdftex.map}]\\n(/content/tf_labelprop/results/visualizations/exp_lgc/__table.aux)\\n\\nLaTeX Font Warning: Size substitutions with differences\\n(Font)              up to 4.0pt have occurred.\\n\\n )\\n(see the transcript file for additional information)</usr/share/texlive/texmf-d\\nist/fonts/type1/public/amsfonts/cm/cmbx5.pfb></usr/share/texlive/texmf-dist/fon\\nts/type1/public/amsfonts/cm/cmmi5.pfb></usr/share/texlive/texmf-dist/fonts/type\\n1/public/amsfonts/cm/cmr10.pfb></usr/share/texlive/texmf-dist/fonts/type1/publi\\nc/amsfonts/cm/cmr5.pfb></usr/share/texlive/texmf-dist/fonts/type1/public/amsfon\\nts/cm/cmsy5.pfb>\\nOutput written on /content/tf_labelprop/results/visualizations/exp_lgc/__table.\\npdf (1 page, 57241 bytes).\\nTranscript written on /content/tf_labelprop/results/visualizations/exp_lgc/__ta\\nble.log.\\n\"\n",
            "Download PDF file? (y/n)y\n"
          ],
          "name": "stdout"
        },
        {
          "output_type": "display_data",
          "data": {
            "application/javascript": [
              "\n",
              "    async function download(id, filename, size) {\n",
              "      if (!google.colab.kernel.accessAllowed) {\n",
              "        return;\n",
              "      }\n",
              "      const div = document.createElement('div');\n",
              "      const label = document.createElement('label');\n",
              "      label.textContent = `Downloading \"${filename}\": `;\n",
              "      div.appendChild(label);\n",
              "      const progress = document.createElement('progress');\n",
              "      progress.max = size;\n",
              "      div.appendChild(progress);\n",
              "      document.body.appendChild(div);\n",
              "\n",
              "      const buffers = [];\n",
              "      let downloaded = 0;\n",
              "\n",
              "      const channel = await google.colab.kernel.comms.open(id);\n",
              "      // Send a message to notify the kernel that we're ready.\n",
              "      channel.send({})\n",
              "\n",
              "      for await (const message of channel.messages) {\n",
              "        // Send a message to notify the kernel that we're ready.\n",
              "        channel.send({})\n",
              "        if (message.buffers) {\n",
              "          for (const buffer of message.buffers) {\n",
              "            buffers.push(buffer);\n",
              "            downloaded += buffer.byteLength;\n",
              "            progress.value = downloaded;\n",
              "          }\n",
              "        }\n",
              "      }\n",
              "      const blob = new Blob(buffers, {type: 'application/binary'});\n",
              "      const a = document.createElement('a');\n",
              "      a.href = window.URL.createObjectURL(blob);\n",
              "      a.download = filename;\n",
              "      div.appendChild(a);\n",
              "      a.click();\n",
              "      div.remove();\n",
              "    }\n",
              "  "
            ],
            "text/plain": [
              "<IPython.core.display.Javascript object>"
            ]
          },
          "metadata": {
            "tags": []
          }
        },
        {
          "output_type": "display_data",
          "data": {
            "application/javascript": [
              "download(\"download_f22706f1-9885-445e-9d1f-19269812f6f2\", \"__table.pdf\", 57241)"
            ],
            "text/plain": [
              "<IPython.core.display.Javascript object>"
            ]
          },
          "metadata": {
            "tags": []
          }
        },
        {
          "output_type": "stream",
          "text": [
            "Download LaTeX file? (y/n)n\n"
          ],
          "name": "stdout"
        }
      ]
    },
    {
      "cell_type": "code",
      "metadata": {
        "id": "KUG-OXZeF2zD",
        "colab": {
          "base_uri": "https://localhost:8080/"
        },
        "outputId": "b778dd12-19e9-4a95-8489-837ca1253284"
      },
      "source": [
        ""
      ],
      "execution_count": null,
      "outputs": [
        {
          "output_type": "stream",
          "text": [
            "+\\\\_table.txt\n"
          ],
          "name": "stdout"
        }
      ]
    },
    {
      "cell_type": "markdown",
      "metadata": {
        "id": "Yl0AO-B3s9e-"
      },
      "source": [
        ""
      ]
    },
    {
      "cell_type": "code",
      "metadata": {
        "id": "0UhZqJuBKcOz"
      },
      "source": [
        ""
      ],
      "execution_count": null,
      "outputs": []
    },
    {
      "cell_type": "code",
      "metadata": {
        "id": "wjKSodyzQ_OR"
      },
      "source": [
        "!nvidia-smi"
      ],
      "execution_count": null,
      "outputs": []
    }
  ]
}